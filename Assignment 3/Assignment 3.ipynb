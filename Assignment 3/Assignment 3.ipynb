{
 "cells": [
  {
   "cell_type": "code",
   "execution_count": 1,
   "metadata": {
    "collapsed": true
   },
   "outputs": [],
   "source": [
    "import numpy as np\n",
    "import pandas as pd"
   ]
  },
  {
   "cell_type": "markdown",
   "metadata": {},
   "source": [
    "### Question 1 (20%)\n",
    "Load the energy data from the file `Energy Indicators.xls`, which is a list of indicators of [energy supply and renewable electricity production](Energy%20Indicators.xls) from the [United Nations](http://unstats.un.org/unsd/environment/excel_file_tables/2013/Energy%20Indicators.xls) for the year 2013, and should be put into a DataFrame with the variable name of **energy**.\n",
    "\n",
    "Keep in mind that this is an Excel file, and not a comma separated values file. Also, make sure to exclude the footer and header information from the datafile. The first two columns are unneccessary, so you should get rid of them, and you should change the column labels so that the columns are:\n",
    "\n",
    "`['Country', 'Energy Supply', 'Energy Supply per Capita', '% Renewable']`\n",
    "\n",
    "Convert `Energy Supply` to gigajoules (there are 1,000,000 gigajoules in a petajoule). For all countries which have missing data (e.g. data with \"...\") make sure this is reflected as `np.NaN` values.\n",
    "\n",
    "Rename the following list of countries (for use in later questions):\n",
    "\n",
    "```\"Republic of Korea\": \"South Korea\",\n",
    "\"United States of America\": \"United States\",\n",
    "\"United Kingdom of Great Britain and Northern Ireland\": \"United Kingdom\",\n",
    "\"China, Hong Kong Special Administrative Region\": \"Hong Kong\"```\n",
    "\n",
    "There are also several countries with numbers and/or parenthesis in their name. Be sure to remove these, \n",
    "\n",
    "e.g. \n",
    "\n",
    "`'Bolivia (Plurinational State of)'` should be `'Bolivia'`, \n",
    "\n",
    "`'Switzerland17'` should be `'Switzerland'`.\n",
    "\n",
    "<br>\n",
    "\n",
    "Next, load the GDP data from the file `world_bank.csv`, which is a csv containing countries' GDP from 1960 to 2015 from [World Bank](http://data.worldbank.org/indicator/NY.GDP.MKTP.CD). Call this DataFrame **GDP**. \n",
    "\n",
    "Make sure to skip the header, and rename the following list of countries:\n",
    "\n",
    "```\"Korea, Rep.\": \"South Korea\", \n",
    "\"Iran, Islamic Rep.\": \"Iran\",\n",
    "\"Hong Kong SAR, China\": \"Hong Kong\"```\n",
    "\n",
    "<br>\n",
    "\n",
    "Finally, load the [Sciamgo Journal and Country Rank data for Energy Engineering and Power Technology](http://www.scimagojr.com/countryrank.php?category=2102) from the file `scimagojr-3.xlsx`, which ranks countries based on their journal contributions in the aforementioned area. Call this DataFrame **ScimEn**.\n",
    "\n",
    "Join the three datasets: GDP, Energy, and ScimEn into a new dataset (using the intersection of country names). Use only the last 10 years (2006-2015) of GDP data and only the top 15 countries by Scimagojr 'Rank' (Rank 1 through 15). \n",
    "\n",
    "The index of this DataFrame should be the name of the country, and the columns should be ['Rank', 'Documents', 'Citable documents', 'Citations', 'Self-citations',\n",
    "       'Citations per document', 'H index', 'Energy Supply',\n",
    "       'Energy Supply per Capita', '% Renewable', '2006', '2007', '2008',\n",
    "       '2009', '2010', '2011', '2012', '2013', '2014', '2015'].\n",
    "\n",
    "*This function should return a DataFrame with 20 columns and 15 entries.*\n"
   ]
  },
  {
   "cell_type": "code",
   "execution_count": 2,
   "metadata": {
    "collapsed": false
   },
   "outputs": [],
   "source": [
    "energy = pd.read_excel('Energy Indicators.xls', skiprows=18, skip_footer = 38, parse_cols=[2,3,4,5], header=None)"
   ]
  },
  {
   "cell_type": "code",
   "execution_count": 3,
   "metadata": {
    "collapsed": false
   },
   "outputs": [
    {
     "data": {
      "text/html": [
       "<div>\n",
       "<table border=\"1\" class=\"dataframe\">\n",
       "  <thead>\n",
       "    <tr style=\"text-align: right;\">\n",
       "      <th></th>\n",
       "      <th>0</th>\n",
       "      <th>1</th>\n",
       "      <th>2</th>\n",
       "      <th>3</th>\n",
       "    </tr>\n",
       "  </thead>\n",
       "  <tbody>\n",
       "    <tr>\n",
       "      <th>0</th>\n",
       "      <td>Afghanistan</td>\n",
       "      <td>321</td>\n",
       "      <td>10</td>\n",
       "      <td>78.669280</td>\n",
       "    </tr>\n",
       "    <tr>\n",
       "      <th>1</th>\n",
       "      <td>Albania</td>\n",
       "      <td>102</td>\n",
       "      <td>35</td>\n",
       "      <td>100.000000</td>\n",
       "    </tr>\n",
       "    <tr>\n",
       "      <th>2</th>\n",
       "      <td>Algeria</td>\n",
       "      <td>1959</td>\n",
       "      <td>51</td>\n",
       "      <td>0.551010</td>\n",
       "    </tr>\n",
       "    <tr>\n",
       "      <th>3</th>\n",
       "      <td>American Samoa</td>\n",
       "      <td>...</td>\n",
       "      <td>...</td>\n",
       "      <td>0.641026</td>\n",
       "    </tr>\n",
       "    <tr>\n",
       "      <th>4</th>\n",
       "      <td>Andorra</td>\n",
       "      <td>9</td>\n",
       "      <td>121</td>\n",
       "      <td>88.695650</td>\n",
       "    </tr>\n",
       "  </tbody>\n",
       "</table>\n",
       "</div>"
      ],
      "text/plain": [
       "                0     1    2           3\n",
       "0     Afghanistan   321   10   78.669280\n",
       "1         Albania   102   35  100.000000\n",
       "2         Algeria  1959   51    0.551010\n",
       "3  American Samoa   ...  ...    0.641026\n",
       "4         Andorra     9  121   88.695650"
      ]
     },
     "execution_count": 3,
     "metadata": {},
     "output_type": "execute_result"
    }
   ],
   "source": [
    "energy.head()"
   ]
  },
  {
   "cell_type": "code",
   "execution_count": 4,
   "metadata": {
    "collapsed": false
   },
   "outputs": [
    {
     "data": {
      "text/html": [
       "<div>\n",
       "<table border=\"1\" class=\"dataframe\">\n",
       "  <thead>\n",
       "    <tr style=\"text-align: right;\">\n",
       "      <th></th>\n",
       "      <th>0</th>\n",
       "      <th>1</th>\n",
       "      <th>2</th>\n",
       "      <th>3</th>\n",
       "    </tr>\n",
       "  </thead>\n",
       "  <tbody>\n",
       "    <tr>\n",
       "      <th>222</th>\n",
       "      <td>Viet Nam</td>\n",
       "      <td>2554</td>\n",
       "      <td>28</td>\n",
       "      <td>45.32152</td>\n",
       "    </tr>\n",
       "    <tr>\n",
       "      <th>223</th>\n",
       "      <td>Wallis and Futuna Islands</td>\n",
       "      <td>0</td>\n",
       "      <td>26</td>\n",
       "      <td>0.00000</td>\n",
       "    </tr>\n",
       "    <tr>\n",
       "      <th>224</th>\n",
       "      <td>Yemen</td>\n",
       "      <td>344</td>\n",
       "      <td>13</td>\n",
       "      <td>0.00000</td>\n",
       "    </tr>\n",
       "    <tr>\n",
       "      <th>225</th>\n",
       "      <td>Zambia</td>\n",
       "      <td>400</td>\n",
       "      <td>26</td>\n",
       "      <td>99.71467</td>\n",
       "    </tr>\n",
       "    <tr>\n",
       "      <th>226</th>\n",
       "      <td>Zimbabwe</td>\n",
       "      <td>480</td>\n",
       "      <td>32</td>\n",
       "      <td>52.53612</td>\n",
       "    </tr>\n",
       "  </tbody>\n",
       "</table>\n",
       "</div>"
      ],
      "text/plain": [
       "                             0     1   2         3\n",
       "222                   Viet Nam  2554  28  45.32152\n",
       "223  Wallis and Futuna Islands     0  26   0.00000\n",
       "224                      Yemen   344  13   0.00000\n",
       "225                     Zambia   400  26  99.71467\n",
       "226                   Zimbabwe   480  32  52.53612"
      ]
     },
     "execution_count": 4,
     "metadata": {},
     "output_type": "execute_result"
    }
   ],
   "source": [
    "energy.tail()"
   ]
  },
  {
   "cell_type": "code",
   "execution_count": 5,
   "metadata": {
    "collapsed": false
   },
   "outputs": [],
   "source": [
    "energy.replace('...', np.nan, inplace=True)"
   ]
  },
  {
   "cell_type": "code",
   "execution_count": 6,
   "metadata": {
    "collapsed": false
   },
   "outputs": [],
   "source": [
    "energy.columns=['Country', 'Energy Supply', 'Energy Supply per Capita', '% Renewable']"
   ]
  },
  {
   "cell_type": "code",
   "execution_count": 7,
   "metadata": {
    "collapsed": false
   },
   "outputs": [
    {
     "data": {
      "text/html": [
       "<div>\n",
       "<table border=\"1\" class=\"dataframe\">\n",
       "  <thead>\n",
       "    <tr style=\"text-align: right;\">\n",
       "      <th></th>\n",
       "      <th>Country</th>\n",
       "      <th>Energy Supply</th>\n",
       "      <th>Energy Supply per Capita</th>\n",
       "      <th>% Renewable</th>\n",
       "    </tr>\n",
       "  </thead>\n",
       "  <tbody>\n",
       "    <tr>\n",
       "      <th>0</th>\n",
       "      <td>Afghanistan</td>\n",
       "      <td>321.0</td>\n",
       "      <td>10.0</td>\n",
       "      <td>78.669280</td>\n",
       "    </tr>\n",
       "    <tr>\n",
       "      <th>1</th>\n",
       "      <td>Albania</td>\n",
       "      <td>102.0</td>\n",
       "      <td>35.0</td>\n",
       "      <td>100.000000</td>\n",
       "    </tr>\n",
       "    <tr>\n",
       "      <th>2</th>\n",
       "      <td>Algeria</td>\n",
       "      <td>1959.0</td>\n",
       "      <td>51.0</td>\n",
       "      <td>0.551010</td>\n",
       "    </tr>\n",
       "    <tr>\n",
       "      <th>3</th>\n",
       "      <td>American Samoa</td>\n",
       "      <td>NaN</td>\n",
       "      <td>NaN</td>\n",
       "      <td>0.641026</td>\n",
       "    </tr>\n",
       "    <tr>\n",
       "      <th>4</th>\n",
       "      <td>Andorra</td>\n",
       "      <td>9.0</td>\n",
       "      <td>121.0</td>\n",
       "      <td>88.695650</td>\n",
       "    </tr>\n",
       "  </tbody>\n",
       "</table>\n",
       "</div>"
      ],
      "text/plain": [
       "          Country  Energy Supply  Energy Supply per Capita  % Renewable\n",
       "0     Afghanistan          321.0                      10.0    78.669280\n",
       "1         Albania          102.0                      35.0   100.000000\n",
       "2         Algeria         1959.0                      51.0     0.551010\n",
       "3  American Samoa            NaN                       NaN     0.641026\n",
       "4         Andorra            9.0                     121.0    88.695650"
      ]
     },
     "execution_count": 7,
     "metadata": {},
     "output_type": "execute_result"
    }
   ],
   "source": [
    "energy.head()"
   ]
  },
  {
   "cell_type": "code",
   "execution_count": 8,
   "metadata": {
    "collapsed": true
   },
   "outputs": [],
   "source": [
    "energy['Energy Supply'] = energy['Energy Supply']*1000000"
   ]
  },
  {
   "cell_type": "code",
   "execution_count": 9,
   "metadata": {
    "collapsed": false
   },
   "outputs": [
    {
     "data": {
      "text/html": [
       "<div>\n",
       "<table border=\"1\" class=\"dataframe\">\n",
       "  <thead>\n",
       "    <tr style=\"text-align: right;\">\n",
       "      <th></th>\n",
       "      <th>Country</th>\n",
       "      <th>Energy Supply</th>\n",
       "      <th>Energy Supply per Capita</th>\n",
       "      <th>% Renewable</th>\n",
       "    </tr>\n",
       "  </thead>\n",
       "  <tbody>\n",
       "    <tr>\n",
       "      <th>0</th>\n",
       "      <td>Afghanistan</td>\n",
       "      <td>3.210000e+08</td>\n",
       "      <td>10.0</td>\n",
       "      <td>78.669280</td>\n",
       "    </tr>\n",
       "    <tr>\n",
       "      <th>1</th>\n",
       "      <td>Albania</td>\n",
       "      <td>1.020000e+08</td>\n",
       "      <td>35.0</td>\n",
       "      <td>100.000000</td>\n",
       "    </tr>\n",
       "    <tr>\n",
       "      <th>2</th>\n",
       "      <td>Algeria</td>\n",
       "      <td>1.959000e+09</td>\n",
       "      <td>51.0</td>\n",
       "      <td>0.551010</td>\n",
       "    </tr>\n",
       "    <tr>\n",
       "      <th>3</th>\n",
       "      <td>American Samoa</td>\n",
       "      <td>NaN</td>\n",
       "      <td>NaN</td>\n",
       "      <td>0.641026</td>\n",
       "    </tr>\n",
       "    <tr>\n",
       "      <th>4</th>\n",
       "      <td>Andorra</td>\n",
       "      <td>9.000000e+06</td>\n",
       "      <td>121.0</td>\n",
       "      <td>88.695650</td>\n",
       "    </tr>\n",
       "  </tbody>\n",
       "</table>\n",
       "</div>"
      ],
      "text/plain": [
       "          Country  Energy Supply  Energy Supply per Capita  % Renewable\n",
       "0     Afghanistan   3.210000e+08                      10.0    78.669280\n",
       "1         Albania   1.020000e+08                      35.0   100.000000\n",
       "2         Algeria   1.959000e+09                      51.0     0.551010\n",
       "3  American Samoa            NaN                       NaN     0.641026\n",
       "4         Andorra   9.000000e+06                     121.0    88.695650"
      ]
     },
     "execution_count": 9,
     "metadata": {},
     "output_type": "execute_result"
    }
   ],
   "source": [
    "energy.head()"
   ]
  },
  {
   "cell_type": "code",
   "execution_count": 10,
   "metadata": {
    "collapsed": false
   },
   "outputs": [],
   "source": [
    "# Replace the values in the pandas Country column\n",
    "energy['Country'].replace({\"Republic of Korea\": \"South Korea\",\n",
    "                                                 \"United States of America\": \"United States\",\n",
    "                                                 \"United Kingdom of Great Britain and Northern Ireland\": \"United Kingdom\",\n",
    "                                                 \"China, Hong Kong Special Administrative Region\": \"Hong Kong\"},\n",
    "                         inplace=True)"
   ]
  },
  {
   "cell_type": "code",
   "execution_count": 11,
   "metadata": {
    "collapsed": false,
    "scrolled": true
   },
   "outputs": [],
   "source": [
    "#There are also several countries with numbers and/or parenthesis in their name. Be sure to remove these\n",
    "# Series.str.replace(pat, repl, n=-1, case=None, flags=0)[source]¶\n",
    "#energy['Country'] = energy['Country'].str.replace()\n",
    "energy['Country'] = energy['Country'].str.replace(\"[0-9]*$\", \"\")  # replace all in ''\n",
    "energy['Country'] = energy['Country'].str.replace(r\" *\\(.*\\) *\", \"\") # replace a whitespace in the beinning\n",
    "                                                                      # and in the end"
   ]
  },
  {
   "cell_type": "code",
   "execution_count": 12,
   "metadata": {
    "collapsed": false,
    "scrolled": true
   },
   "outputs": [],
   "source": [
    "GDP = pd.read_csv('API_NY.GDP.MKTP.CD_DS2_en_csv_v2.csv', skiprows = 4)"
   ]
  },
  {
   "cell_type": "code",
   "execution_count": 13,
   "metadata": {
    "collapsed": false,
    "scrolled": true
   },
   "outputs": [
    {
     "data": {
      "text/html": [
       "<div>\n",
       "<table border=\"1\" class=\"dataframe\">\n",
       "  <thead>\n",
       "    <tr style=\"text-align: right;\">\n",
       "      <th></th>\n",
       "      <th>Country Name</th>\n",
       "      <th>Country Code</th>\n",
       "      <th>Indicator Name</th>\n",
       "      <th>Indicator Code</th>\n",
       "      <th>1960</th>\n",
       "      <th>1961</th>\n",
       "      <th>1962</th>\n",
       "      <th>1963</th>\n",
       "      <th>1964</th>\n",
       "      <th>1965</th>\n",
       "      <th>...</th>\n",
       "      <th>2009</th>\n",
       "      <th>2010</th>\n",
       "      <th>2011</th>\n",
       "      <th>2012</th>\n",
       "      <th>2013</th>\n",
       "      <th>2014</th>\n",
       "      <th>2015</th>\n",
       "      <th>2016</th>\n",
       "      <th>2017</th>\n",
       "      <th>Unnamed: 62</th>\n",
       "    </tr>\n",
       "  </thead>\n",
       "  <tbody>\n",
       "    <tr>\n",
       "      <th>0</th>\n",
       "      <td>Aruba</td>\n",
       "      <td>ABW</td>\n",
       "      <td>GDP (current US$)</td>\n",
       "      <td>NY.GDP.MKTP.CD</td>\n",
       "      <td>NaN</td>\n",
       "      <td>NaN</td>\n",
       "      <td>NaN</td>\n",
       "      <td>NaN</td>\n",
       "      <td>NaN</td>\n",
       "      <td>NaN</td>\n",
       "      <td>...</td>\n",
       "      <td>2.498933e+09</td>\n",
       "      <td>2.467704e+09</td>\n",
       "      <td>2.584464e+09</td>\n",
       "      <td>NaN</td>\n",
       "      <td>NaN</td>\n",
       "      <td>NaN</td>\n",
       "      <td>NaN</td>\n",
       "      <td>NaN</td>\n",
       "      <td>NaN</td>\n",
       "      <td>NaN</td>\n",
       "    </tr>\n",
       "    <tr>\n",
       "      <th>1</th>\n",
       "      <td>Afghanistan</td>\n",
       "      <td>AFG</td>\n",
       "      <td>GDP (current US$)</td>\n",
       "      <td>NY.GDP.MKTP.CD</td>\n",
       "      <td>5.377778e+08</td>\n",
       "      <td>5.488889e+08</td>\n",
       "      <td>5.466667e+08</td>\n",
       "      <td>7.511112e+08</td>\n",
       "      <td>8.000000e+08</td>\n",
       "      <td>1.006667e+09</td>\n",
       "      <td>...</td>\n",
       "      <td>1.248694e+10</td>\n",
       "      <td>1.593680e+10</td>\n",
       "      <td>1.793024e+10</td>\n",
       "      <td>2.053654e+10</td>\n",
       "      <td>2.026425e+10</td>\n",
       "      <td>2.061610e+10</td>\n",
       "      <td>1.921556e+10</td>\n",
       "      <td>1.946902e+10</td>\n",
       "      <td>NaN</td>\n",
       "      <td>NaN</td>\n",
       "    </tr>\n",
       "    <tr>\n",
       "      <th>2</th>\n",
       "      <td>Angola</td>\n",
       "      <td>AGO</td>\n",
       "      <td>GDP (current US$)</td>\n",
       "      <td>NY.GDP.MKTP.CD</td>\n",
       "      <td>NaN</td>\n",
       "      <td>NaN</td>\n",
       "      <td>NaN</td>\n",
       "      <td>NaN</td>\n",
       "      <td>NaN</td>\n",
       "      <td>NaN</td>\n",
       "      <td>...</td>\n",
       "      <td>7.549238e+10</td>\n",
       "      <td>8.247091e+10</td>\n",
       "      <td>1.041159e+11</td>\n",
       "      <td>1.153984e+11</td>\n",
       "      <td>1.249121e+11</td>\n",
       "      <td>1.267769e+11</td>\n",
       "      <td>1.029622e+11</td>\n",
       "      <td>9.533511e+10</td>\n",
       "      <td>NaN</td>\n",
       "      <td>NaN</td>\n",
       "    </tr>\n",
       "    <tr>\n",
       "      <th>3</th>\n",
       "      <td>Albania</td>\n",
       "      <td>ALB</td>\n",
       "      <td>GDP (current US$)</td>\n",
       "      <td>NY.GDP.MKTP.CD</td>\n",
       "      <td>NaN</td>\n",
       "      <td>NaN</td>\n",
       "      <td>NaN</td>\n",
       "      <td>NaN</td>\n",
       "      <td>NaN</td>\n",
       "      <td>NaN</td>\n",
       "      <td>...</td>\n",
       "      <td>1.204421e+10</td>\n",
       "      <td>1.192695e+10</td>\n",
       "      <td>1.289087e+10</td>\n",
       "      <td>1.231978e+10</td>\n",
       "      <td>1.277628e+10</td>\n",
       "      <td>1.322824e+10</td>\n",
       "      <td>1.133526e+10</td>\n",
       "      <td>1.186387e+10</td>\n",
       "      <td>NaN</td>\n",
       "      <td>NaN</td>\n",
       "    </tr>\n",
       "    <tr>\n",
       "      <th>4</th>\n",
       "      <td>Andorra</td>\n",
       "      <td>AND</td>\n",
       "      <td>GDP (current US$)</td>\n",
       "      <td>NY.GDP.MKTP.CD</td>\n",
       "      <td>NaN</td>\n",
       "      <td>NaN</td>\n",
       "      <td>NaN</td>\n",
       "      <td>NaN</td>\n",
       "      <td>NaN</td>\n",
       "      <td>NaN</td>\n",
       "      <td>...</td>\n",
       "      <td>3.660531e+09</td>\n",
       "      <td>3.355695e+09</td>\n",
       "      <td>3.442063e+09</td>\n",
       "      <td>3.164615e+09</td>\n",
       "      <td>3.281585e+09</td>\n",
       "      <td>3.350736e+09</td>\n",
       "      <td>2.811489e+09</td>\n",
       "      <td>2.858518e+09</td>\n",
       "      <td>NaN</td>\n",
       "      <td>NaN</td>\n",
       "    </tr>\n",
       "  </tbody>\n",
       "</table>\n",
       "<p>5 rows × 63 columns</p>\n",
       "</div>"
      ],
      "text/plain": [
       "  Country Name Country Code     Indicator Name  Indicator Code          1960  \\\n",
       "0        Aruba          ABW  GDP (current US$)  NY.GDP.MKTP.CD           NaN   \n",
       "1  Afghanistan          AFG  GDP (current US$)  NY.GDP.MKTP.CD  5.377778e+08   \n",
       "2       Angola          AGO  GDP (current US$)  NY.GDP.MKTP.CD           NaN   \n",
       "3      Albania          ALB  GDP (current US$)  NY.GDP.MKTP.CD           NaN   \n",
       "4      Andorra          AND  GDP (current US$)  NY.GDP.MKTP.CD           NaN   \n",
       "\n",
       "           1961          1962          1963          1964          1965  \\\n",
       "0           NaN           NaN           NaN           NaN           NaN   \n",
       "1  5.488889e+08  5.466667e+08  7.511112e+08  8.000000e+08  1.006667e+09   \n",
       "2           NaN           NaN           NaN           NaN           NaN   \n",
       "3           NaN           NaN           NaN           NaN           NaN   \n",
       "4           NaN           NaN           NaN           NaN           NaN   \n",
       "\n",
       "      ...               2009          2010          2011          2012  \\\n",
       "0     ...       2.498933e+09  2.467704e+09  2.584464e+09           NaN   \n",
       "1     ...       1.248694e+10  1.593680e+10  1.793024e+10  2.053654e+10   \n",
       "2     ...       7.549238e+10  8.247091e+10  1.041159e+11  1.153984e+11   \n",
       "3     ...       1.204421e+10  1.192695e+10  1.289087e+10  1.231978e+10   \n",
       "4     ...       3.660531e+09  3.355695e+09  3.442063e+09  3.164615e+09   \n",
       "\n",
       "           2013          2014          2015          2016  2017  Unnamed: 62  \n",
       "0           NaN           NaN           NaN           NaN   NaN          NaN  \n",
       "1  2.026425e+10  2.061610e+10  1.921556e+10  1.946902e+10   NaN          NaN  \n",
       "2  1.249121e+11  1.267769e+11  1.029622e+11  9.533511e+10   NaN          NaN  \n",
       "3  1.277628e+10  1.322824e+10  1.133526e+10  1.186387e+10   NaN          NaN  \n",
       "4  3.281585e+09  3.350736e+09  2.811489e+09  2.858518e+09   NaN          NaN  \n",
       "\n",
       "[5 rows x 63 columns]"
      ]
     },
     "execution_count": 13,
     "metadata": {},
     "output_type": "execute_result"
    }
   ],
   "source": [
    "GDP.head()"
   ]
  },
  {
   "cell_type": "code",
   "execution_count": 14,
   "metadata": {
    "collapsed": false
   },
   "outputs": [],
   "source": [
    "del GDP['2016']\n",
    "del GDP['2017']\n",
    "del GDP['Unnamed: 62']"
   ]
  },
  {
   "cell_type": "code",
   "execution_count": 15,
   "metadata": {
    "collapsed": false
   },
   "outputs": [
    {
     "data": {
      "text/plain": [
       "Index(['Country Name', 'Country Code', 'Indicator Name', 'Indicator Code',\n",
       "       '1960', '1961', '1962', '1963', '1964', '1965', '1966', '1967', '1968',\n",
       "       '1969', '1970', '1971', '1972', '1973', '1974', '1975', '1976', '1977',\n",
       "       '1978', '1979', '1980', '1981', '1982', '1983', '1984', '1985', '1986',\n",
       "       '1987', '1988', '1989', '1990', '1991', '1992', '1993', '1994', '1995',\n",
       "       '1996', '1997', '1998', '1999', '2000', '2001', '2002', '2003', '2004',\n",
       "       '2005', '2006', '2007', '2008', '2009', '2010', '2011', '2012', '2013',\n",
       "       '2014', '2015'],\n",
       "      dtype='object')"
      ]
     },
     "execution_count": 15,
     "metadata": {},
     "output_type": "execute_result"
    }
   ],
   "source": [
    "GDP.columns"
   ]
  },
  {
   "cell_type": "code",
   "execution_count": 16,
   "metadata": {
    "collapsed": false
   },
   "outputs": [],
   "source": [
    "# Replace the values in the pandas Country column\n",
    "GDP['Country Name'].replace({\"Korea, Rep.\": \"South Korea\",\n",
    "                                                 \"Iran, Islamic Rep.\": \"Iran\",\n",
    "                                                \"Hong Kong SAR, China\": \"Hong Kong\"},\n",
    "                         inplace=True)"
   ]
  },
  {
   "cell_type": "code",
   "execution_count": 17,
   "metadata": {
    "collapsed": true
   },
   "outputs": [],
   "source": [
    "GDP.rename(columns={'Country Name': 'Country'}, inplace=True)"
   ]
  },
  {
   "cell_type": "code",
   "execution_count": 18,
   "metadata": {
    "collapsed": false
   },
   "outputs": [
    {
     "data": {
      "text/plain": [
       "['Country',\n",
       " 'Country Code',\n",
       " 'Indicator Name',\n",
       " '2006',\n",
       " '2007',\n",
       " '2008',\n",
       " '2009',\n",
       " '2010',\n",
       " '2011',\n",
       " '2012',\n",
       " '2013',\n",
       " '2014',\n",
       " '2015']"
      ]
     },
     "execution_count": 18,
     "metadata": {},
     "output_type": "execute_result"
    }
   ],
   "source": [
    "col1 = list(GDP.columns)[:3]\n",
    "col2 = list((np.arange(2006, 2016).astype(str)))\n",
    "columns = col1 + col2\n",
    "columns"
   ]
  },
  {
   "cell_type": "code",
   "execution_count": 19,
   "metadata": {
    "collapsed": true
   },
   "outputs": [],
   "source": [
    "ScimEn = pd.read_excel('scimagojr.xlsx')"
   ]
  },
  {
   "cell_type": "code",
   "execution_count": 20,
   "metadata": {
    "collapsed": false
   },
   "outputs": [
    {
     "data": {
      "text/html": [
       "<div>\n",
       "<table border=\"1\" class=\"dataframe\">\n",
       "  <thead>\n",
       "    <tr style=\"text-align: right;\">\n",
       "      <th></th>\n",
       "      <th>Rank</th>\n",
       "      <th>Country</th>\n",
       "      <th>Documents</th>\n",
       "      <th>Citable documents</th>\n",
       "      <th>Citations</th>\n",
       "      <th>Self-citations</th>\n",
       "      <th>Citations per document</th>\n",
       "      <th>H index</th>\n",
       "    </tr>\n",
       "  </thead>\n",
       "  <tbody>\n",
       "    <tr>\n",
       "      <th>0</th>\n",
       "      <td>1</td>\n",
       "      <td>China</td>\n",
       "      <td>147887</td>\n",
       "      <td>147512</td>\n",
       "      <td>856806</td>\n",
       "      <td>583858</td>\n",
       "      <td>5.79</td>\n",
       "      <td>162</td>\n",
       "    </tr>\n",
       "    <tr>\n",
       "      <th>1</th>\n",
       "      <td>2</td>\n",
       "      <td>United States</td>\n",
       "      <td>113579</td>\n",
       "      <td>111426</td>\n",
       "      <td>1085684</td>\n",
       "      <td>370574</td>\n",
       "      <td>9.56</td>\n",
       "      <td>259</td>\n",
       "    </tr>\n",
       "    <tr>\n",
       "      <th>2</th>\n",
       "      <td>3</td>\n",
       "      <td>Japan</td>\n",
       "      <td>34294</td>\n",
       "      <td>34054</td>\n",
       "      <td>275980</td>\n",
       "      <td>73491</td>\n",
       "      <td>8.05</td>\n",
       "      <td>145</td>\n",
       "    </tr>\n",
       "    <tr>\n",
       "      <th>3</th>\n",
       "      <td>4</td>\n",
       "      <td>United Kingdom</td>\n",
       "      <td>24328</td>\n",
       "      <td>23671</td>\n",
       "      <td>278694</td>\n",
       "      <td>52119</td>\n",
       "      <td>11.46</td>\n",
       "      <td>159</td>\n",
       "    </tr>\n",
       "    <tr>\n",
       "      <th>4</th>\n",
       "      <td>5</td>\n",
       "      <td>India</td>\n",
       "      <td>21450</td>\n",
       "      <td>21183</td>\n",
       "      <td>179494</td>\n",
       "      <td>54929</td>\n",
       "      <td>8.37</td>\n",
       "      <td>132</td>\n",
       "    </tr>\n",
       "  </tbody>\n",
       "</table>\n",
       "</div>"
      ],
      "text/plain": [
       "   Rank         Country  Documents  Citable documents  Citations  \\\n",
       "0     1           China     147887             147512     856806   \n",
       "1     2   United States     113579             111426    1085684   \n",
       "2     3           Japan      34294              34054     275980   \n",
       "3     4  United Kingdom      24328              23671     278694   \n",
       "4     5           India      21450              21183     179494   \n",
       "\n",
       "   Self-citations  Citations per document  H index  \n",
       "0          583858                    5.79      162  \n",
       "1          370574                    9.56      259  \n",
       "2           73491                    8.05      145  \n",
       "3           52119                   11.46      159  \n",
       "4           54929                    8.37      132  "
      ]
     },
     "execution_count": 20,
     "metadata": {},
     "output_type": "execute_result"
    }
   ],
   "source": [
    "ScimEn.head()"
   ]
  },
  {
   "cell_type": "code",
   "execution_count": 21,
   "metadata": {
    "collapsed": false
   },
   "outputs": [
    {
     "data": {
      "text/html": [
       "<div>\n",
       "<table border=\"1\" class=\"dataframe\">\n",
       "  <thead>\n",
       "    <tr style=\"text-align: right;\">\n",
       "      <th></th>\n",
       "      <th>Rank</th>\n",
       "      <th>Country</th>\n",
       "      <th>Documents</th>\n",
       "      <th>Citable documents</th>\n",
       "      <th>Citations</th>\n",
       "      <th>Self-citations</th>\n",
       "      <th>Citations per document</th>\n",
       "      <th>H index</th>\n",
       "    </tr>\n",
       "  </thead>\n",
       "  <tbody>\n",
       "    <tr>\n",
       "      <th>0</th>\n",
       "      <td>1</td>\n",
       "      <td>China</td>\n",
       "      <td>147887</td>\n",
       "      <td>147512</td>\n",
       "      <td>856806</td>\n",
       "      <td>583858</td>\n",
       "      <td>5.79</td>\n",
       "      <td>162</td>\n",
       "    </tr>\n",
       "    <tr>\n",
       "      <th>1</th>\n",
       "      <td>2</td>\n",
       "      <td>United States</td>\n",
       "      <td>113579</td>\n",
       "      <td>111426</td>\n",
       "      <td>1085684</td>\n",
       "      <td>370574</td>\n",
       "      <td>9.56</td>\n",
       "      <td>259</td>\n",
       "    </tr>\n",
       "    <tr>\n",
       "      <th>2</th>\n",
       "      <td>3</td>\n",
       "      <td>Japan</td>\n",
       "      <td>34294</td>\n",
       "      <td>34054</td>\n",
       "      <td>275980</td>\n",
       "      <td>73491</td>\n",
       "      <td>8.05</td>\n",
       "      <td>145</td>\n",
       "    </tr>\n",
       "    <tr>\n",
       "      <th>3</th>\n",
       "      <td>4</td>\n",
       "      <td>United Kingdom</td>\n",
       "      <td>24328</td>\n",
       "      <td>23671</td>\n",
       "      <td>278694</td>\n",
       "      <td>52119</td>\n",
       "      <td>11.46</td>\n",
       "      <td>159</td>\n",
       "    </tr>\n",
       "    <tr>\n",
       "      <th>4</th>\n",
       "      <td>5</td>\n",
       "      <td>India</td>\n",
       "      <td>21450</td>\n",
       "      <td>21183</td>\n",
       "      <td>179494</td>\n",
       "      <td>54929</td>\n",
       "      <td>8.37</td>\n",
       "      <td>132</td>\n",
       "    </tr>\n",
       "    <tr>\n",
       "      <th>5</th>\n",
       "      <td>6</td>\n",
       "      <td>Russian Federation</td>\n",
       "      <td>21259</td>\n",
       "      <td>20915</td>\n",
       "      <td>45629</td>\n",
       "      <td>17368</td>\n",
       "      <td>2.15</td>\n",
       "      <td>65</td>\n",
       "    </tr>\n",
       "    <tr>\n",
       "      <th>6</th>\n",
       "      <td>7</td>\n",
       "      <td>Germany</td>\n",
       "      <td>20898</td>\n",
       "      <td>20640</td>\n",
       "      <td>193676</td>\n",
       "      <td>39615</td>\n",
       "      <td>9.27</td>\n",
       "      <td>140</td>\n",
       "    </tr>\n",
       "    <tr>\n",
       "      <th>7</th>\n",
       "      <td>8</td>\n",
       "      <td>Canada</td>\n",
       "      <td>20689</td>\n",
       "      <td>20353</td>\n",
       "      <td>285554</td>\n",
       "      <td>53955</td>\n",
       "      <td>13.80</td>\n",
       "      <td>165</td>\n",
       "    </tr>\n",
       "    <tr>\n",
       "      <th>8</th>\n",
       "      <td>9</td>\n",
       "      <td>France</td>\n",
       "      <td>15584</td>\n",
       "      <td>15387</td>\n",
       "      <td>173959</td>\n",
       "      <td>37411</td>\n",
       "      <td>11.16</td>\n",
       "      <td>129</td>\n",
       "    </tr>\n",
       "    <tr>\n",
       "      <th>9</th>\n",
       "      <td>10</td>\n",
       "      <td>South Korea</td>\n",
       "      <td>14037</td>\n",
       "      <td>13952</td>\n",
       "      <td>151281</td>\n",
       "      <td>29670</td>\n",
       "      <td>10.78</td>\n",
       "      <td>116</td>\n",
       "    </tr>\n",
       "    <tr>\n",
       "      <th>10</th>\n",
       "      <td>11</td>\n",
       "      <td>Italy</td>\n",
       "      <td>13662</td>\n",
       "      <td>13457</td>\n",
       "      <td>154242</td>\n",
       "      <td>37030</td>\n",
       "      <td>11.29</td>\n",
       "      <td>121</td>\n",
       "    </tr>\n",
       "    <tr>\n",
       "      <th>11</th>\n",
       "      <td>12</td>\n",
       "      <td>Spain</td>\n",
       "      <td>11002</td>\n",
       "      <td>10886</td>\n",
       "      <td>167492</td>\n",
       "      <td>31489</td>\n",
       "      <td>15.22</td>\n",
       "      <td>130</td>\n",
       "    </tr>\n",
       "    <tr>\n",
       "      <th>12</th>\n",
       "      <td>13</td>\n",
       "      <td>Iran</td>\n",
       "      <td>10969</td>\n",
       "      <td>10872</td>\n",
       "      <td>94111</td>\n",
       "      <td>31251</td>\n",
       "      <td>8.58</td>\n",
       "      <td>85</td>\n",
       "    </tr>\n",
       "    <tr>\n",
       "      <th>13</th>\n",
       "      <td>14</td>\n",
       "      <td>Australia</td>\n",
       "      <td>10616</td>\n",
       "      <td>10496</td>\n",
       "      <td>129788</td>\n",
       "      <td>22759</td>\n",
       "      <td>12.23</td>\n",
       "      <td>123</td>\n",
       "    </tr>\n",
       "    <tr>\n",
       "      <th>14</th>\n",
       "      <td>15</td>\n",
       "      <td>Brazil</td>\n",
       "      <td>10599</td>\n",
       "      <td>10521</td>\n",
       "      <td>84010</td>\n",
       "      <td>20271</td>\n",
       "      <td>7.93</td>\n",
       "      <td>97</td>\n",
       "    </tr>\n",
       "  </tbody>\n",
       "</table>\n",
       "</div>"
      ],
      "text/plain": [
       "    Rank             Country  Documents  Citable documents  Citations  \\\n",
       "0      1               China     147887             147512     856806   \n",
       "1      2       United States     113579             111426    1085684   \n",
       "2      3               Japan      34294              34054     275980   \n",
       "3      4      United Kingdom      24328              23671     278694   \n",
       "4      5               India      21450              21183     179494   \n",
       "5      6  Russian Federation      21259              20915      45629   \n",
       "6      7             Germany      20898              20640     193676   \n",
       "7      8              Canada      20689              20353     285554   \n",
       "8      9              France      15584              15387     173959   \n",
       "9     10         South Korea      14037              13952     151281   \n",
       "10    11               Italy      13662              13457     154242   \n",
       "11    12               Spain      11002              10886     167492   \n",
       "12    13                Iran      10969              10872      94111   \n",
       "13    14           Australia      10616              10496     129788   \n",
       "14    15              Brazil      10599              10521      84010   \n",
       "\n",
       "    Self-citations  Citations per document  H index  \n",
       "0           583858                    5.79      162  \n",
       "1           370574                    9.56      259  \n",
       "2            73491                    8.05      145  \n",
       "3            52119                   11.46      159  \n",
       "4            54929                    8.37      132  \n",
       "5            17368                    2.15       65  \n",
       "6            39615                    9.27      140  \n",
       "7            53955                   13.80      165  \n",
       "8            37411                   11.16      129  \n",
       "9            29670                   10.78      116  \n",
       "10           37030                   11.29      121  \n",
       "11           31489                   15.22      130  \n",
       "12           31251                    8.58       85  \n",
       "13           22759                   12.23      123  \n",
       "14           20271                    7.93       97  "
      ]
     },
     "execution_count": 21,
     "metadata": {},
     "output_type": "execute_result"
    }
   ],
   "source": [
    "ScimEn[ScimEn['Rank']<16]"
   ]
  },
  {
   "cell_type": "code",
   "execution_count": 22,
   "metadata": {
    "collapsed": false
   },
   "outputs": [],
   "source": [
    "answer = pd.merge(ScimEn[ScimEn['Rank']<16], GDP[columns], how = 'inner', left_on = 'Country', right_on = 'Country')"
   ]
  },
  {
   "cell_type": "code",
   "execution_count": 23,
   "metadata": {
    "collapsed": false
   },
   "outputs": [],
   "source": [
    "answer = pd.merge(answer, energy, how = 'inner', left_on = 'Country', right_on = 'Country')"
   ]
  },
  {
   "cell_type": "code",
   "execution_count": 24,
   "metadata": {
    "collapsed": false
   },
   "outputs": [
    {
     "data": {
      "text/html": [
       "<div>\n",
       "<table border=\"1\" class=\"dataframe\">\n",
       "  <thead>\n",
       "    <tr style=\"text-align: right;\">\n",
       "      <th></th>\n",
       "      <th>Rank</th>\n",
       "      <th>Documents</th>\n",
       "      <th>Citable documents</th>\n",
       "      <th>Citations</th>\n",
       "      <th>Self-citations</th>\n",
       "      <th>Citations per document</th>\n",
       "      <th>H index</th>\n",
       "      <th>Energy Supply</th>\n",
       "      <th>Energy Supply per Capita</th>\n",
       "      <th>% Renewable</th>\n",
       "      <th>2006</th>\n",
       "      <th>2007</th>\n",
       "      <th>2008</th>\n",
       "      <th>2009</th>\n",
       "      <th>2010</th>\n",
       "      <th>2011</th>\n",
       "      <th>2012</th>\n",
       "      <th>2013</th>\n",
       "      <th>2014</th>\n",
       "      <th>2015</th>\n",
       "    </tr>\n",
       "  </thead>\n",
       "  <tbody>\n",
       "    <tr>\n",
       "      <th>0</th>\n",
       "      <td>1</td>\n",
       "      <td>147887</td>\n",
       "      <td>147512</td>\n",
       "      <td>856806</td>\n",
       "      <td>583858</td>\n",
       "      <td>5.79</td>\n",
       "      <td>162</td>\n",
       "      <td>1.271910e+11</td>\n",
       "      <td>93.0</td>\n",
       "      <td>19.754910</td>\n",
       "      <td>2.752132e+12</td>\n",
       "      <td>3.552182e+12</td>\n",
       "      <td>4.598206e+12</td>\n",
       "      <td>5.109954e+12</td>\n",
       "      <td>6.100620e+12</td>\n",
       "      <td>7.572554e+12</td>\n",
       "      <td>8.560547e+12</td>\n",
       "      <td>9.607224e+12</td>\n",
       "      <td>1.048237e+13</td>\n",
       "      <td>1.106467e+13</td>\n",
       "    </tr>\n",
       "    <tr>\n",
       "      <th>1</th>\n",
       "      <td>3</td>\n",
       "      <td>34294</td>\n",
       "      <td>34054</td>\n",
       "      <td>275980</td>\n",
       "      <td>73491</td>\n",
       "      <td>8.05</td>\n",
       "      <td>145</td>\n",
       "      <td>1.898400e+10</td>\n",
       "      <td>149.0</td>\n",
       "      <td>10.232820</td>\n",
       "      <td>4.530377e+12</td>\n",
       "      <td>4.515265e+12</td>\n",
       "      <td>5.037908e+12</td>\n",
       "      <td>5.231383e+12</td>\n",
       "      <td>5.700098e+12</td>\n",
       "      <td>6.157460e+12</td>\n",
       "      <td>6.203213e+12</td>\n",
       "      <td>5.155717e+12</td>\n",
       "      <td>4.850414e+12</td>\n",
       "      <td>4.394978e+12</td>\n",
       "    </tr>\n",
       "    <tr>\n",
       "      <th>2</th>\n",
       "      <td>5</td>\n",
       "      <td>21450</td>\n",
       "      <td>21183</td>\n",
       "      <td>179494</td>\n",
       "      <td>54929</td>\n",
       "      <td>8.37</td>\n",
       "      <td>132</td>\n",
       "      <td>3.319500e+10</td>\n",
       "      <td>26.0</td>\n",
       "      <td>14.969080</td>\n",
       "      <td>9.203165e+11</td>\n",
       "      <td>1.201112e+12</td>\n",
       "      <td>1.186953e+12</td>\n",
       "      <td>1.323940e+12</td>\n",
       "      <td>1.656617e+12</td>\n",
       "      <td>1.823050e+12</td>\n",
       "      <td>1.827638e+12</td>\n",
       "      <td>1.856722e+12</td>\n",
       "      <td>2.035393e+12</td>\n",
       "      <td>2.089865e+12</td>\n",
       "    </tr>\n",
       "    <tr>\n",
       "      <th>3</th>\n",
       "      <td>6</td>\n",
       "      <td>21259</td>\n",
       "      <td>20915</td>\n",
       "      <td>45629</td>\n",
       "      <td>17368</td>\n",
       "      <td>2.15</td>\n",
       "      <td>65</td>\n",
       "      <td>3.070900e+10</td>\n",
       "      <td>214.0</td>\n",
       "      <td>17.288680</td>\n",
       "      <td>9.899305e+11</td>\n",
       "      <td>1.299705e+12</td>\n",
       "      <td>1.660844e+12</td>\n",
       "      <td>1.222644e+12</td>\n",
       "      <td>1.524916e+12</td>\n",
       "      <td>2.051662e+12</td>\n",
       "      <td>2.210257e+12</td>\n",
       "      <td>2.297128e+12</td>\n",
       "      <td>2.063663e+12</td>\n",
       "      <td>1.365864e+12</td>\n",
       "    </tr>\n",
       "    <tr>\n",
       "      <th>4</th>\n",
       "      <td>7</td>\n",
       "      <td>20898</td>\n",
       "      <td>20640</td>\n",
       "      <td>193676</td>\n",
       "      <td>39615</td>\n",
       "      <td>9.27</td>\n",
       "      <td>140</td>\n",
       "      <td>1.326100e+10</td>\n",
       "      <td>165.0</td>\n",
       "      <td>17.901530</td>\n",
       "      <td>3.002446e+12</td>\n",
       "      <td>3.439953e+12</td>\n",
       "      <td>3.752366e+12</td>\n",
       "      <td>3.418005e+12</td>\n",
       "      <td>3.417095e+12</td>\n",
       "      <td>3.757698e+12</td>\n",
       "      <td>3.543984e+12</td>\n",
       "      <td>3.752514e+12</td>\n",
       "      <td>3.890607e+12</td>\n",
       "      <td>3.375611e+12</td>\n",
       "    </tr>\n",
       "    <tr>\n",
       "      <th>5</th>\n",
       "      <td>8</td>\n",
       "      <td>20689</td>\n",
       "      <td>20353</td>\n",
       "      <td>285554</td>\n",
       "      <td>53955</td>\n",
       "      <td>13.80</td>\n",
       "      <td>165</td>\n",
       "      <td>1.043100e+10</td>\n",
       "      <td>296.0</td>\n",
       "      <td>61.945430</td>\n",
       "      <td>1.315415e+12</td>\n",
       "      <td>1.464977e+12</td>\n",
       "      <td>1.549131e+12</td>\n",
       "      <td>1.371153e+12</td>\n",
       "      <td>1.613464e+12</td>\n",
       "      <td>1.788648e+12</td>\n",
       "      <td>1.824289e+12</td>\n",
       "      <td>1.842628e+12</td>\n",
       "      <td>1.799269e+12</td>\n",
       "      <td>1.559623e+12</td>\n",
       "    </tr>\n",
       "    <tr>\n",
       "      <th>6</th>\n",
       "      <td>9</td>\n",
       "      <td>15584</td>\n",
       "      <td>15387</td>\n",
       "      <td>173959</td>\n",
       "      <td>37411</td>\n",
       "      <td>11.16</td>\n",
       "      <td>129</td>\n",
       "      <td>1.059700e+10</td>\n",
       "      <td>166.0</td>\n",
       "      <td>17.020280</td>\n",
       "      <td>2.325012e+12</td>\n",
       "      <td>2.663113e+12</td>\n",
       "      <td>2.923466e+12</td>\n",
       "      <td>2.693827e+12</td>\n",
       "      <td>2.646837e+12</td>\n",
       "      <td>2.862680e+12</td>\n",
       "      <td>2.681416e+12</td>\n",
       "      <td>2.808511e+12</td>\n",
       "      <td>2.849305e+12</td>\n",
       "      <td>2.433562e+12</td>\n",
       "    </tr>\n",
       "    <tr>\n",
       "      <th>7</th>\n",
       "      <td>10</td>\n",
       "      <td>14037</td>\n",
       "      <td>13952</td>\n",
       "      <td>151281</td>\n",
       "      <td>29670</td>\n",
       "      <td>10.78</td>\n",
       "      <td>116</td>\n",
       "      <td>1.100700e+10</td>\n",
       "      <td>221.0</td>\n",
       "      <td>2.279353</td>\n",
       "      <td>1.011797e+12</td>\n",
       "      <td>1.122679e+12</td>\n",
       "      <td>1.002219e+12</td>\n",
       "      <td>9.019350e+11</td>\n",
       "      <td>1.094499e+12</td>\n",
       "      <td>1.202464e+12</td>\n",
       "      <td>1.222807e+12</td>\n",
       "      <td>1.305605e+12</td>\n",
       "      <td>1.411334e+12</td>\n",
       "      <td>1.382764e+12</td>\n",
       "    </tr>\n",
       "    <tr>\n",
       "      <th>8</th>\n",
       "      <td>11</td>\n",
       "      <td>13662</td>\n",
       "      <td>13457</td>\n",
       "      <td>154242</td>\n",
       "      <td>37030</td>\n",
       "      <td>11.29</td>\n",
       "      <td>121</td>\n",
       "      <td>6.530000e+09</td>\n",
       "      <td>109.0</td>\n",
       "      <td>33.667230</td>\n",
       "      <td>1.942634e+12</td>\n",
       "      <td>2.203053e+12</td>\n",
       "      <td>2.390729e+12</td>\n",
       "      <td>2.185160e+12</td>\n",
       "      <td>2.125058e+12</td>\n",
       "      <td>2.276292e+12</td>\n",
       "      <td>2.072823e+12</td>\n",
       "      <td>2.130491e+12</td>\n",
       "      <td>2.151733e+12</td>\n",
       "      <td>1.832868e+12</td>\n",
       "    </tr>\n",
       "    <tr>\n",
       "      <th>9</th>\n",
       "      <td>12</td>\n",
       "      <td>11002</td>\n",
       "      <td>10886</td>\n",
       "      <td>167492</td>\n",
       "      <td>31489</td>\n",
       "      <td>15.22</td>\n",
       "      <td>130</td>\n",
       "      <td>4.923000e+09</td>\n",
       "      <td>106.0</td>\n",
       "      <td>37.968590</td>\n",
       "      <td>1.264551e+12</td>\n",
       "      <td>1.479342e+12</td>\n",
       "      <td>1.635015e+12</td>\n",
       "      <td>1.499100e+12</td>\n",
       "      <td>1.431617e+12</td>\n",
       "      <td>1.488067e+12</td>\n",
       "      <td>1.336019e+12</td>\n",
       "      <td>1.361854e+12</td>\n",
       "      <td>1.376911e+12</td>\n",
       "      <td>1.197790e+12</td>\n",
       "    </tr>\n",
       "    <tr>\n",
       "      <th>10</th>\n",
       "      <td>13</td>\n",
       "      <td>10969</td>\n",
       "      <td>10872</td>\n",
       "      <td>94111</td>\n",
       "      <td>31251</td>\n",
       "      <td>8.58</td>\n",
       "      <td>85</td>\n",
       "      <td>9.172000e+09</td>\n",
       "      <td>119.0</td>\n",
       "      <td>5.707721</td>\n",
       "      <td>2.662989e+11</td>\n",
       "      <td>3.498816e+11</td>\n",
       "      <td>4.060709e+11</td>\n",
       "      <td>4.140591e+11</td>\n",
       "      <td>4.870696e+11</td>\n",
       "      <td>5.835004e+11</td>\n",
       "      <td>5.988534e+11</td>\n",
       "      <td>4.674149e+11</td>\n",
       "      <td>4.344746e+11</td>\n",
       "      <td>3.858745e+11</td>\n",
       "    </tr>\n",
       "    <tr>\n",
       "      <th>11</th>\n",
       "      <td>14</td>\n",
       "      <td>10616</td>\n",
       "      <td>10496</td>\n",
       "      <td>129788</td>\n",
       "      <td>22759</td>\n",
       "      <td>12.23</td>\n",
       "      <td>123</td>\n",
       "      <td>5.386000e+09</td>\n",
       "      <td>231.0</td>\n",
       "      <td>11.810810</td>\n",
       "      <td>7.475726e+11</td>\n",
       "      <td>8.537646e+11</td>\n",
       "      <td>1.055335e+12</td>\n",
       "      <td>9.271683e+11</td>\n",
       "      <td>1.142877e+12</td>\n",
       "      <td>1.390557e+12</td>\n",
       "      <td>1.538194e+12</td>\n",
       "      <td>1.567179e+12</td>\n",
       "      <td>1.459598e+12</td>\n",
       "      <td>1.345383e+12</td>\n",
       "    </tr>\n",
       "    <tr>\n",
       "      <th>12</th>\n",
       "      <td>15</td>\n",
       "      <td>10599</td>\n",
       "      <td>10521</td>\n",
       "      <td>84010</td>\n",
       "      <td>20271</td>\n",
       "      <td>7.93</td>\n",
       "      <td>97</td>\n",
       "      <td>1.214900e+10</td>\n",
       "      <td>59.0</td>\n",
       "      <td>69.648030</td>\n",
       "      <td>1.107640e+12</td>\n",
       "      <td>1.397084e+12</td>\n",
       "      <td>1.695825e+12</td>\n",
       "      <td>1.667020e+12</td>\n",
       "      <td>2.208872e+12</td>\n",
       "      <td>2.616202e+12</td>\n",
       "      <td>2.465189e+12</td>\n",
       "      <td>2.472807e+12</td>\n",
       "      <td>2.455993e+12</td>\n",
       "      <td>1.803653e+12</td>\n",
       "    </tr>\n",
       "  </tbody>\n",
       "</table>\n",
       "</div>"
      ],
      "text/plain": [
       "    Rank  Documents  Citable documents  Citations  Self-citations  \\\n",
       "0      1     147887             147512     856806          583858   \n",
       "1      3      34294              34054     275980           73491   \n",
       "2      5      21450              21183     179494           54929   \n",
       "3      6      21259              20915      45629           17368   \n",
       "4      7      20898              20640     193676           39615   \n",
       "5      8      20689              20353     285554           53955   \n",
       "6      9      15584              15387     173959           37411   \n",
       "7     10      14037              13952     151281           29670   \n",
       "8     11      13662              13457     154242           37030   \n",
       "9     12      11002              10886     167492           31489   \n",
       "10    13      10969              10872      94111           31251   \n",
       "11    14      10616              10496     129788           22759   \n",
       "12    15      10599              10521      84010           20271   \n",
       "\n",
       "    Citations per document  H index  Energy Supply  Energy Supply per Capita  \\\n",
       "0                     5.79      162   1.271910e+11                      93.0   \n",
       "1                     8.05      145   1.898400e+10                     149.0   \n",
       "2                     8.37      132   3.319500e+10                      26.0   \n",
       "3                     2.15       65   3.070900e+10                     214.0   \n",
       "4                     9.27      140   1.326100e+10                     165.0   \n",
       "5                    13.80      165   1.043100e+10                     296.0   \n",
       "6                    11.16      129   1.059700e+10                     166.0   \n",
       "7                    10.78      116   1.100700e+10                     221.0   \n",
       "8                    11.29      121   6.530000e+09                     109.0   \n",
       "9                    15.22      130   4.923000e+09                     106.0   \n",
       "10                    8.58       85   9.172000e+09                     119.0   \n",
       "11                   12.23      123   5.386000e+09                     231.0   \n",
       "12                    7.93       97   1.214900e+10                      59.0   \n",
       "\n",
       "    % Renewable          2006          2007          2008          2009  \\\n",
       "0     19.754910  2.752132e+12  3.552182e+12  4.598206e+12  5.109954e+12   \n",
       "1     10.232820  4.530377e+12  4.515265e+12  5.037908e+12  5.231383e+12   \n",
       "2     14.969080  9.203165e+11  1.201112e+12  1.186953e+12  1.323940e+12   \n",
       "3     17.288680  9.899305e+11  1.299705e+12  1.660844e+12  1.222644e+12   \n",
       "4     17.901530  3.002446e+12  3.439953e+12  3.752366e+12  3.418005e+12   \n",
       "5     61.945430  1.315415e+12  1.464977e+12  1.549131e+12  1.371153e+12   \n",
       "6     17.020280  2.325012e+12  2.663113e+12  2.923466e+12  2.693827e+12   \n",
       "7      2.279353  1.011797e+12  1.122679e+12  1.002219e+12  9.019350e+11   \n",
       "8     33.667230  1.942634e+12  2.203053e+12  2.390729e+12  2.185160e+12   \n",
       "9     37.968590  1.264551e+12  1.479342e+12  1.635015e+12  1.499100e+12   \n",
       "10     5.707721  2.662989e+11  3.498816e+11  4.060709e+11  4.140591e+11   \n",
       "11    11.810810  7.475726e+11  8.537646e+11  1.055335e+12  9.271683e+11   \n",
       "12    69.648030  1.107640e+12  1.397084e+12  1.695825e+12  1.667020e+12   \n",
       "\n",
       "            2010          2011          2012          2013          2014  \\\n",
       "0   6.100620e+12  7.572554e+12  8.560547e+12  9.607224e+12  1.048237e+13   \n",
       "1   5.700098e+12  6.157460e+12  6.203213e+12  5.155717e+12  4.850414e+12   \n",
       "2   1.656617e+12  1.823050e+12  1.827638e+12  1.856722e+12  2.035393e+12   \n",
       "3   1.524916e+12  2.051662e+12  2.210257e+12  2.297128e+12  2.063663e+12   \n",
       "4   3.417095e+12  3.757698e+12  3.543984e+12  3.752514e+12  3.890607e+12   \n",
       "5   1.613464e+12  1.788648e+12  1.824289e+12  1.842628e+12  1.799269e+12   \n",
       "6   2.646837e+12  2.862680e+12  2.681416e+12  2.808511e+12  2.849305e+12   \n",
       "7   1.094499e+12  1.202464e+12  1.222807e+12  1.305605e+12  1.411334e+12   \n",
       "8   2.125058e+12  2.276292e+12  2.072823e+12  2.130491e+12  2.151733e+12   \n",
       "9   1.431617e+12  1.488067e+12  1.336019e+12  1.361854e+12  1.376911e+12   \n",
       "10  4.870696e+11  5.835004e+11  5.988534e+11  4.674149e+11  4.344746e+11   \n",
       "11  1.142877e+12  1.390557e+12  1.538194e+12  1.567179e+12  1.459598e+12   \n",
       "12  2.208872e+12  2.616202e+12  2.465189e+12  2.472807e+12  2.455993e+12   \n",
       "\n",
       "            2015  \n",
       "0   1.106467e+13  \n",
       "1   4.394978e+12  \n",
       "2   2.089865e+12  \n",
       "3   1.365864e+12  \n",
       "4   3.375611e+12  \n",
       "5   1.559623e+12  \n",
       "6   2.433562e+12  \n",
       "7   1.382764e+12  \n",
       "8   1.832868e+12  \n",
       "9   1.197790e+12  \n",
       "10  3.858745e+11  \n",
       "11  1.345383e+12  \n",
       "12  1.803653e+12  "
      ]
     },
     "execution_count": 24,
     "metadata": {},
     "output_type": "execute_result"
    }
   ],
   "source": [
    "columns =  ['Rank', 'Documents', 'Citable documents', 'Citations', 'Self-citations', 'Citations per document', \n",
    "            'H index', 'Energy Supply', 'Energy Supply per Capita', '% Renewable', '2006', '2007', '2008', \n",
    "            '2009', '2010', '2011', '2012', '2013', '2014', '2015']\n",
    "answer[columns]"
   ]
  },
  {
   "cell_type": "code",
   "execution_count": 25,
   "metadata": {
    "collapsed": false
   },
   "outputs": [
    {
     "data": {
      "text/html": [
       "<div>\n",
       "<table border=\"1\" class=\"dataframe\">\n",
       "  <thead>\n",
       "    <tr style=\"text-align: right;\">\n",
       "      <th></th>\n",
       "      <th>Rank</th>\n",
       "      <th>Documents</th>\n",
       "      <th>Citable documents</th>\n",
       "      <th>Citations</th>\n",
       "      <th>Self-citations</th>\n",
       "      <th>Citations per document</th>\n",
       "      <th>H index</th>\n",
       "      <th>Energy Supply</th>\n",
       "      <th>Energy Supply per Capita</th>\n",
       "      <th>% Renewable</th>\n",
       "      <th>2006</th>\n",
       "      <th>2007</th>\n",
       "      <th>2008</th>\n",
       "      <th>2009</th>\n",
       "      <th>2010</th>\n",
       "      <th>2011</th>\n",
       "      <th>2012</th>\n",
       "      <th>2013</th>\n",
       "      <th>2014</th>\n",
       "      <th>2015</th>\n",
       "    </tr>\n",
       "    <tr>\n",
       "      <th>Country</th>\n",
       "      <th></th>\n",
       "      <th></th>\n",
       "      <th></th>\n",
       "      <th></th>\n",
       "      <th></th>\n",
       "      <th></th>\n",
       "      <th></th>\n",
       "      <th></th>\n",
       "      <th></th>\n",
       "      <th></th>\n",
       "      <th></th>\n",
       "      <th></th>\n",
       "      <th></th>\n",
       "      <th></th>\n",
       "      <th></th>\n",
       "      <th></th>\n",
       "      <th></th>\n",
       "      <th></th>\n",
       "      <th></th>\n",
       "      <th></th>\n",
       "    </tr>\n",
       "  </thead>\n",
       "  <tbody>\n",
       "    <tr>\n",
       "      <th>China</th>\n",
       "      <td>1</td>\n",
       "      <td>147887</td>\n",
       "      <td>147512</td>\n",
       "      <td>856806</td>\n",
       "      <td>583858</td>\n",
       "      <td>5.79</td>\n",
       "      <td>162</td>\n",
       "      <td>1.271910e+11</td>\n",
       "      <td>93.0</td>\n",
       "      <td>19.754910</td>\n",
       "      <td>2.752132e+12</td>\n",
       "      <td>3.552182e+12</td>\n",
       "      <td>4.598206e+12</td>\n",
       "      <td>5.109954e+12</td>\n",
       "      <td>6.100620e+12</td>\n",
       "      <td>7.572554e+12</td>\n",
       "      <td>8.560547e+12</td>\n",
       "      <td>9.607224e+12</td>\n",
       "      <td>1.048237e+13</td>\n",
       "      <td>1.106467e+13</td>\n",
       "    </tr>\n",
       "    <tr>\n",
       "      <th>Japan</th>\n",
       "      <td>3</td>\n",
       "      <td>34294</td>\n",
       "      <td>34054</td>\n",
       "      <td>275980</td>\n",
       "      <td>73491</td>\n",
       "      <td>8.05</td>\n",
       "      <td>145</td>\n",
       "      <td>1.898400e+10</td>\n",
       "      <td>149.0</td>\n",
       "      <td>10.232820</td>\n",
       "      <td>4.530377e+12</td>\n",
       "      <td>4.515265e+12</td>\n",
       "      <td>5.037908e+12</td>\n",
       "      <td>5.231383e+12</td>\n",
       "      <td>5.700098e+12</td>\n",
       "      <td>6.157460e+12</td>\n",
       "      <td>6.203213e+12</td>\n",
       "      <td>5.155717e+12</td>\n",
       "      <td>4.850414e+12</td>\n",
       "      <td>4.394978e+12</td>\n",
       "    </tr>\n",
       "    <tr>\n",
       "      <th>India</th>\n",
       "      <td>5</td>\n",
       "      <td>21450</td>\n",
       "      <td>21183</td>\n",
       "      <td>179494</td>\n",
       "      <td>54929</td>\n",
       "      <td>8.37</td>\n",
       "      <td>132</td>\n",
       "      <td>3.319500e+10</td>\n",
       "      <td>26.0</td>\n",
       "      <td>14.969080</td>\n",
       "      <td>9.203165e+11</td>\n",
       "      <td>1.201112e+12</td>\n",
       "      <td>1.186953e+12</td>\n",
       "      <td>1.323940e+12</td>\n",
       "      <td>1.656617e+12</td>\n",
       "      <td>1.823050e+12</td>\n",
       "      <td>1.827638e+12</td>\n",
       "      <td>1.856722e+12</td>\n",
       "      <td>2.035393e+12</td>\n",
       "      <td>2.089865e+12</td>\n",
       "    </tr>\n",
       "    <tr>\n",
       "      <th>Russian Federation</th>\n",
       "      <td>6</td>\n",
       "      <td>21259</td>\n",
       "      <td>20915</td>\n",
       "      <td>45629</td>\n",
       "      <td>17368</td>\n",
       "      <td>2.15</td>\n",
       "      <td>65</td>\n",
       "      <td>3.070900e+10</td>\n",
       "      <td>214.0</td>\n",
       "      <td>17.288680</td>\n",
       "      <td>9.899305e+11</td>\n",
       "      <td>1.299705e+12</td>\n",
       "      <td>1.660844e+12</td>\n",
       "      <td>1.222644e+12</td>\n",
       "      <td>1.524916e+12</td>\n",
       "      <td>2.051662e+12</td>\n",
       "      <td>2.210257e+12</td>\n",
       "      <td>2.297128e+12</td>\n",
       "      <td>2.063663e+12</td>\n",
       "      <td>1.365864e+12</td>\n",
       "    </tr>\n",
       "    <tr>\n",
       "      <th>Germany</th>\n",
       "      <td>7</td>\n",
       "      <td>20898</td>\n",
       "      <td>20640</td>\n",
       "      <td>193676</td>\n",
       "      <td>39615</td>\n",
       "      <td>9.27</td>\n",
       "      <td>140</td>\n",
       "      <td>1.326100e+10</td>\n",
       "      <td>165.0</td>\n",
       "      <td>17.901530</td>\n",
       "      <td>3.002446e+12</td>\n",
       "      <td>3.439953e+12</td>\n",
       "      <td>3.752366e+12</td>\n",
       "      <td>3.418005e+12</td>\n",
       "      <td>3.417095e+12</td>\n",
       "      <td>3.757698e+12</td>\n",
       "      <td>3.543984e+12</td>\n",
       "      <td>3.752514e+12</td>\n",
       "      <td>3.890607e+12</td>\n",
       "      <td>3.375611e+12</td>\n",
       "    </tr>\n",
       "    <tr>\n",
       "      <th>Canada</th>\n",
       "      <td>8</td>\n",
       "      <td>20689</td>\n",
       "      <td>20353</td>\n",
       "      <td>285554</td>\n",
       "      <td>53955</td>\n",
       "      <td>13.80</td>\n",
       "      <td>165</td>\n",
       "      <td>1.043100e+10</td>\n",
       "      <td>296.0</td>\n",
       "      <td>61.945430</td>\n",
       "      <td>1.315415e+12</td>\n",
       "      <td>1.464977e+12</td>\n",
       "      <td>1.549131e+12</td>\n",
       "      <td>1.371153e+12</td>\n",
       "      <td>1.613464e+12</td>\n",
       "      <td>1.788648e+12</td>\n",
       "      <td>1.824289e+12</td>\n",
       "      <td>1.842628e+12</td>\n",
       "      <td>1.799269e+12</td>\n",
       "      <td>1.559623e+12</td>\n",
       "    </tr>\n",
       "    <tr>\n",
       "      <th>France</th>\n",
       "      <td>9</td>\n",
       "      <td>15584</td>\n",
       "      <td>15387</td>\n",
       "      <td>173959</td>\n",
       "      <td>37411</td>\n",
       "      <td>11.16</td>\n",
       "      <td>129</td>\n",
       "      <td>1.059700e+10</td>\n",
       "      <td>166.0</td>\n",
       "      <td>17.020280</td>\n",
       "      <td>2.325012e+12</td>\n",
       "      <td>2.663113e+12</td>\n",
       "      <td>2.923466e+12</td>\n",
       "      <td>2.693827e+12</td>\n",
       "      <td>2.646837e+12</td>\n",
       "      <td>2.862680e+12</td>\n",
       "      <td>2.681416e+12</td>\n",
       "      <td>2.808511e+12</td>\n",
       "      <td>2.849305e+12</td>\n",
       "      <td>2.433562e+12</td>\n",
       "    </tr>\n",
       "    <tr>\n",
       "      <th>South Korea</th>\n",
       "      <td>10</td>\n",
       "      <td>14037</td>\n",
       "      <td>13952</td>\n",
       "      <td>151281</td>\n",
       "      <td>29670</td>\n",
       "      <td>10.78</td>\n",
       "      <td>116</td>\n",
       "      <td>1.100700e+10</td>\n",
       "      <td>221.0</td>\n",
       "      <td>2.279353</td>\n",
       "      <td>1.011797e+12</td>\n",
       "      <td>1.122679e+12</td>\n",
       "      <td>1.002219e+12</td>\n",
       "      <td>9.019350e+11</td>\n",
       "      <td>1.094499e+12</td>\n",
       "      <td>1.202464e+12</td>\n",
       "      <td>1.222807e+12</td>\n",
       "      <td>1.305605e+12</td>\n",
       "      <td>1.411334e+12</td>\n",
       "      <td>1.382764e+12</td>\n",
       "    </tr>\n",
       "    <tr>\n",
       "      <th>Italy</th>\n",
       "      <td>11</td>\n",
       "      <td>13662</td>\n",
       "      <td>13457</td>\n",
       "      <td>154242</td>\n",
       "      <td>37030</td>\n",
       "      <td>11.29</td>\n",
       "      <td>121</td>\n",
       "      <td>6.530000e+09</td>\n",
       "      <td>109.0</td>\n",
       "      <td>33.667230</td>\n",
       "      <td>1.942634e+12</td>\n",
       "      <td>2.203053e+12</td>\n",
       "      <td>2.390729e+12</td>\n",
       "      <td>2.185160e+12</td>\n",
       "      <td>2.125058e+12</td>\n",
       "      <td>2.276292e+12</td>\n",
       "      <td>2.072823e+12</td>\n",
       "      <td>2.130491e+12</td>\n",
       "      <td>2.151733e+12</td>\n",
       "      <td>1.832868e+12</td>\n",
       "    </tr>\n",
       "    <tr>\n",
       "      <th>Spain</th>\n",
       "      <td>12</td>\n",
       "      <td>11002</td>\n",
       "      <td>10886</td>\n",
       "      <td>167492</td>\n",
       "      <td>31489</td>\n",
       "      <td>15.22</td>\n",
       "      <td>130</td>\n",
       "      <td>4.923000e+09</td>\n",
       "      <td>106.0</td>\n",
       "      <td>37.968590</td>\n",
       "      <td>1.264551e+12</td>\n",
       "      <td>1.479342e+12</td>\n",
       "      <td>1.635015e+12</td>\n",
       "      <td>1.499100e+12</td>\n",
       "      <td>1.431617e+12</td>\n",
       "      <td>1.488067e+12</td>\n",
       "      <td>1.336019e+12</td>\n",
       "      <td>1.361854e+12</td>\n",
       "      <td>1.376911e+12</td>\n",
       "      <td>1.197790e+12</td>\n",
       "    </tr>\n",
       "    <tr>\n",
       "      <th>Iran</th>\n",
       "      <td>13</td>\n",
       "      <td>10969</td>\n",
       "      <td>10872</td>\n",
       "      <td>94111</td>\n",
       "      <td>31251</td>\n",
       "      <td>8.58</td>\n",
       "      <td>85</td>\n",
       "      <td>9.172000e+09</td>\n",
       "      <td>119.0</td>\n",
       "      <td>5.707721</td>\n",
       "      <td>2.662989e+11</td>\n",
       "      <td>3.498816e+11</td>\n",
       "      <td>4.060709e+11</td>\n",
       "      <td>4.140591e+11</td>\n",
       "      <td>4.870696e+11</td>\n",
       "      <td>5.835004e+11</td>\n",
       "      <td>5.988534e+11</td>\n",
       "      <td>4.674149e+11</td>\n",
       "      <td>4.344746e+11</td>\n",
       "      <td>3.858745e+11</td>\n",
       "    </tr>\n",
       "    <tr>\n",
       "      <th>Australia</th>\n",
       "      <td>14</td>\n",
       "      <td>10616</td>\n",
       "      <td>10496</td>\n",
       "      <td>129788</td>\n",
       "      <td>22759</td>\n",
       "      <td>12.23</td>\n",
       "      <td>123</td>\n",
       "      <td>5.386000e+09</td>\n",
       "      <td>231.0</td>\n",
       "      <td>11.810810</td>\n",
       "      <td>7.475726e+11</td>\n",
       "      <td>8.537646e+11</td>\n",
       "      <td>1.055335e+12</td>\n",
       "      <td>9.271683e+11</td>\n",
       "      <td>1.142877e+12</td>\n",
       "      <td>1.390557e+12</td>\n",
       "      <td>1.538194e+12</td>\n",
       "      <td>1.567179e+12</td>\n",
       "      <td>1.459598e+12</td>\n",
       "      <td>1.345383e+12</td>\n",
       "    </tr>\n",
       "    <tr>\n",
       "      <th>Brazil</th>\n",
       "      <td>15</td>\n",
       "      <td>10599</td>\n",
       "      <td>10521</td>\n",
       "      <td>84010</td>\n",
       "      <td>20271</td>\n",
       "      <td>7.93</td>\n",
       "      <td>97</td>\n",
       "      <td>1.214900e+10</td>\n",
       "      <td>59.0</td>\n",
       "      <td>69.648030</td>\n",
       "      <td>1.107640e+12</td>\n",
       "      <td>1.397084e+12</td>\n",
       "      <td>1.695825e+12</td>\n",
       "      <td>1.667020e+12</td>\n",
       "      <td>2.208872e+12</td>\n",
       "      <td>2.616202e+12</td>\n",
       "      <td>2.465189e+12</td>\n",
       "      <td>2.472807e+12</td>\n",
       "      <td>2.455993e+12</td>\n",
       "      <td>1.803653e+12</td>\n",
       "    </tr>\n",
       "  </tbody>\n",
       "</table>\n",
       "</div>"
      ],
      "text/plain": [
       "                    Rank  Documents  Citable documents  Citations  \\\n",
       "Country                                                             \n",
       "China                  1     147887             147512     856806   \n",
       "Japan                  3      34294              34054     275980   \n",
       "India                  5      21450              21183     179494   \n",
       "Russian Federation     6      21259              20915      45629   \n",
       "Germany                7      20898              20640     193676   \n",
       "Canada                 8      20689              20353     285554   \n",
       "France                 9      15584              15387     173959   \n",
       "South Korea           10      14037              13952     151281   \n",
       "Italy                 11      13662              13457     154242   \n",
       "Spain                 12      11002              10886     167492   \n",
       "Iran                  13      10969              10872      94111   \n",
       "Australia             14      10616              10496     129788   \n",
       "Brazil                15      10599              10521      84010   \n",
       "\n",
       "                    Self-citations  Citations per document  H index  \\\n",
       "Country                                                               \n",
       "China                       583858                    5.79      162   \n",
       "Japan                        73491                    8.05      145   \n",
       "India                        54929                    8.37      132   \n",
       "Russian Federation           17368                    2.15       65   \n",
       "Germany                      39615                    9.27      140   \n",
       "Canada                       53955                   13.80      165   \n",
       "France                       37411                   11.16      129   \n",
       "South Korea                  29670                   10.78      116   \n",
       "Italy                        37030                   11.29      121   \n",
       "Spain                        31489                   15.22      130   \n",
       "Iran                         31251                    8.58       85   \n",
       "Australia                    22759                   12.23      123   \n",
       "Brazil                       20271                    7.93       97   \n",
       "\n",
       "                    Energy Supply  Energy Supply per Capita  % Renewable  \\\n",
       "Country                                                                    \n",
       "China                1.271910e+11                      93.0    19.754910   \n",
       "Japan                1.898400e+10                     149.0    10.232820   \n",
       "India                3.319500e+10                      26.0    14.969080   \n",
       "Russian Federation   3.070900e+10                     214.0    17.288680   \n",
       "Germany              1.326100e+10                     165.0    17.901530   \n",
       "Canada               1.043100e+10                     296.0    61.945430   \n",
       "France               1.059700e+10                     166.0    17.020280   \n",
       "South Korea          1.100700e+10                     221.0     2.279353   \n",
       "Italy                6.530000e+09                     109.0    33.667230   \n",
       "Spain                4.923000e+09                     106.0    37.968590   \n",
       "Iran                 9.172000e+09                     119.0     5.707721   \n",
       "Australia            5.386000e+09                     231.0    11.810810   \n",
       "Brazil               1.214900e+10                      59.0    69.648030   \n",
       "\n",
       "                            2006          2007          2008          2009  \\\n",
       "Country                                                                      \n",
       "China               2.752132e+12  3.552182e+12  4.598206e+12  5.109954e+12   \n",
       "Japan               4.530377e+12  4.515265e+12  5.037908e+12  5.231383e+12   \n",
       "India               9.203165e+11  1.201112e+12  1.186953e+12  1.323940e+12   \n",
       "Russian Federation  9.899305e+11  1.299705e+12  1.660844e+12  1.222644e+12   \n",
       "Germany             3.002446e+12  3.439953e+12  3.752366e+12  3.418005e+12   \n",
       "Canada              1.315415e+12  1.464977e+12  1.549131e+12  1.371153e+12   \n",
       "France              2.325012e+12  2.663113e+12  2.923466e+12  2.693827e+12   \n",
       "South Korea         1.011797e+12  1.122679e+12  1.002219e+12  9.019350e+11   \n",
       "Italy               1.942634e+12  2.203053e+12  2.390729e+12  2.185160e+12   \n",
       "Spain               1.264551e+12  1.479342e+12  1.635015e+12  1.499100e+12   \n",
       "Iran                2.662989e+11  3.498816e+11  4.060709e+11  4.140591e+11   \n",
       "Australia           7.475726e+11  8.537646e+11  1.055335e+12  9.271683e+11   \n",
       "Brazil              1.107640e+12  1.397084e+12  1.695825e+12  1.667020e+12   \n",
       "\n",
       "                            2010          2011          2012          2013  \\\n",
       "Country                                                                      \n",
       "China               6.100620e+12  7.572554e+12  8.560547e+12  9.607224e+12   \n",
       "Japan               5.700098e+12  6.157460e+12  6.203213e+12  5.155717e+12   \n",
       "India               1.656617e+12  1.823050e+12  1.827638e+12  1.856722e+12   \n",
       "Russian Federation  1.524916e+12  2.051662e+12  2.210257e+12  2.297128e+12   \n",
       "Germany             3.417095e+12  3.757698e+12  3.543984e+12  3.752514e+12   \n",
       "Canada              1.613464e+12  1.788648e+12  1.824289e+12  1.842628e+12   \n",
       "France              2.646837e+12  2.862680e+12  2.681416e+12  2.808511e+12   \n",
       "South Korea         1.094499e+12  1.202464e+12  1.222807e+12  1.305605e+12   \n",
       "Italy               2.125058e+12  2.276292e+12  2.072823e+12  2.130491e+12   \n",
       "Spain               1.431617e+12  1.488067e+12  1.336019e+12  1.361854e+12   \n",
       "Iran                4.870696e+11  5.835004e+11  5.988534e+11  4.674149e+11   \n",
       "Australia           1.142877e+12  1.390557e+12  1.538194e+12  1.567179e+12   \n",
       "Brazil              2.208872e+12  2.616202e+12  2.465189e+12  2.472807e+12   \n",
       "\n",
       "                            2014          2015  \n",
       "Country                                         \n",
       "China               1.048237e+13  1.106467e+13  \n",
       "Japan               4.850414e+12  4.394978e+12  \n",
       "India               2.035393e+12  2.089865e+12  \n",
       "Russian Federation  2.063663e+12  1.365864e+12  \n",
       "Germany             3.890607e+12  3.375611e+12  \n",
       "Canada              1.799269e+12  1.559623e+12  \n",
       "France              2.849305e+12  2.433562e+12  \n",
       "South Korea         1.411334e+12  1.382764e+12  \n",
       "Italy               2.151733e+12  1.832868e+12  \n",
       "Spain               1.376911e+12  1.197790e+12  \n",
       "Iran                4.344746e+11  3.858745e+11  \n",
       "Australia           1.459598e+12  1.345383e+12  \n",
       "Brazil              2.455993e+12  1.803653e+12  "
      ]
     },
     "execution_count": 25,
     "metadata": {},
     "output_type": "execute_result"
    }
   ],
   "source": [
    "answer = answer.set_index('Country')\n",
    "answer[columns]"
   ]
  },
  {
   "cell_type": "code",
   "execution_count": 26,
   "metadata": {
    "collapsed": false
   },
   "outputs": [],
   "source": [
    "years = list(np.arange(2006, 2016))"
   ]
  },
  {
   "cell_type": "code",
   "execution_count": 27,
   "metadata": {
    "collapsed": false
   },
   "outputs": [
    {
     "data": {
      "text/plain": [
       "[2006, 2007, 2008, 2009, 2010, 2011, 2012, 2013, 2014, 2015]"
      ]
     },
     "execution_count": 27,
     "metadata": {},
     "output_type": "execute_result"
    }
   ],
   "source": [
    "years"
   ]
  },
  {
   "cell_type": "code",
   "execution_count": 28,
   "metadata": {
    "collapsed": true
   },
   "outputs": [],
   "source": [
    "# Make all above as a one function\n",
    "def answer_one():\n",
    "    energy = pd.read_excel('Energy Indicators.xls', skiprows=18, skip_footer = 38, parse_cols=[2,3,4,5], \n",
    "                           header=None)\n",
    "    \n",
    "    energy.replace('...', np.nan, inplace=True)\n",
    "    energy.columns=['Country', 'Energy Supply', 'Energy Supply per Capita', '% Renewable']\n",
    "    energy['Energy Supply'] = energy['Energy Supply']*1000000\n",
    "    # Replace the values in the pandas Country column\n",
    "    energy['Country'].replace({\"Republic of Korea\": \"South Korea\",\n",
    "                               \"United States of America\": \"United States\",\n",
    "                               \"United Kingdom of Great Britain and Northern Ireland\": \"United Kingdom\",\n",
    "                               \"China, Hong Kong Special Administrative Region\": \"Hong Kong\"},\n",
    "                              inplace=True)\n",
    "    #There are also several countries with numbers and/or parenthesis in their name. Be sure to remove these\n",
    "# Series.str.replace(pat, repl, n=-1, case=None, flags=0)[source]¶\n",
    "#energy['Country'] = energy['Country'].str.replace()\n",
    "    energy['Country'] = energy['Country'].str.replace(\"[0-9]*$\", \"\")  # replace all in ''\n",
    "    # replace a whitespace in the beinning and in the end\n",
    "    energy['Country'] = energy['Country'].str.replace(r\" *\\(.*\\) *\", \"\")\n",
    "    GDP = pd.read_csv('API_NY.GDP.MKTP.CD_DS2_en_csv_v2.csv', skiprows = 4)\n",
    "    del GDP['2016']\n",
    "    del GDP['2017']\n",
    "    del GDP['Unnamed: 62']\n",
    "    # Replace the values in the pandas Country column\n",
    "    GDP['Country Name'].replace({\"Korea, Rep.\": \"South Korea\", \n",
    "                                 \"Iran, Islamic Rep.\": \"Iran\",\n",
    "                                 \"Hong Kong SAR, China\": \"Hong Kong\"}, \n",
    "                                inplace=True)\n",
    "    GDP.rename(columns={'Country Name': 'Country'}, inplace=True)\n",
    "    col1 = list(GDP.columns)[:3]\n",
    "    col2 = list((np.arange(2006, 2016).astype(str)))\n",
    "    columns = col1 + col2\n",
    "    ScimEn = pd.read_excel('scimagojr.xlsx')\n",
    "    ScimEn[ScimEn['Rank']<16]\n",
    "    answer = pd.merge(ScimEn[ScimEn['Rank']<16], GDP[columns], how = 'inner', left_on = 'Country', \n",
    "                      right_on = 'Country')\n",
    "    answer = pd.merge(answer, energy, how = 'inner', left_on = 'Country', right_on = 'Country')\n",
    "    columns =  ['Rank','Country', 'Documents', 'Citable documents', 'Citations', 'Self-citations', 'Citations per document', \n",
    "                'H index', 'Energy Supply', 'Energy Supply per Capita', '% Renewable', '2006', '2007', '2008', \n",
    "                '2009', '2010', '2011', '2012', '2013', '2014', '2015']\n",
    "    answer = answer[columns]\n",
    "    answer = answer.set_index('Country')\n",
    "    return answer"
   ]
  },
  {
   "cell_type": "code",
   "execution_count": 29,
   "metadata": {
    "collapsed": false
   },
   "outputs": [],
   "source": [
    "answer_one = answer_one()"
   ]
  },
  {
   "cell_type": "markdown",
   "metadata": {},
   "source": [
    "### Question 2 (6.6%)\n",
    "The previous question joined three datasets then reduced this to just the top 15 entries. When you joined the datasets, but before you reduced this to the top 15 items, how many entries did you lose?\n",
    "\n",
    "*This function should return a single number.*"
   ]
  },
  {
   "cell_type": "code",
   "execution_count": 30,
   "metadata": {
    "collapsed": false
   },
   "outputs": [],
   "source": [
    "def answer_two():\n",
    "        n1 = len(pd.merge(pd.merge(GDP, energy, how = 'outer', on='Country'), ScimEn, how = 'outer', on='Country'))\n",
    "        n2 = len(pd.merge(pd.merge(GDP, energy, how = 'inner', on='Country'), ScimEn, how = 'inner', on='Country'))\n",
    "        return n1-n2"
   ]
  },
  {
   "cell_type": "code",
   "execution_count": 31,
   "metadata": {
    "collapsed": false
   },
   "outputs": [
    {
     "data": {
      "text/plain": [
       "162"
      ]
     },
     "execution_count": 31,
     "metadata": {},
     "output_type": "execute_result"
    }
   ],
   "source": [
    "answer_two()"
   ]
  },
  {
   "cell_type": "markdown",
   "metadata": {},
   "source": [
    "### Question 3 (6.6%)\n",
    "What is the average GDP over the last 10 years for each country? (exclude missing values from this calculation.)\n",
    "\n",
    "*This function should return a Series named `avgGDP` with 15 countries and their average GDP sorted in descending order.*"
   ]
  },
  {
   "cell_type": "code",
   "execution_count": 32,
   "metadata": {
    "collapsed": true
   },
   "outputs": [],
   "source": [
    "country = GDP['Country']"
   ]
  },
  {
   "cell_type": "code",
   "execution_count": 33,
   "metadata": {
    "collapsed": false
   },
   "outputs": [],
   "source": [
    "years = GDP.iloc[:,-10:]"
   ]
  },
  {
   "cell_type": "code",
   "execution_count": 34,
   "metadata": {
    "collapsed": false,
    "scrolled": true
   },
   "outputs": [],
   "source": [
    "years['avg'] = years.sum(axis = 1)"
   ]
  },
  {
   "cell_type": "code",
   "execution_count": 35,
   "metadata": {
    "collapsed": false,
    "scrolled": true
   },
   "outputs": [],
   "source": [
    "avgGDP = pd.concat([country, years['avg']], axis=1)"
   ]
  },
  {
   "cell_type": "code",
   "execution_count": 36,
   "metadata": {
    "collapsed": false,
    "scrolled": true
   },
   "outputs": [
    {
     "data": {
      "text/html": [
       "<div>\n",
       "<table border=\"1\" class=\"dataframe\">\n",
       "  <thead>\n",
       "    <tr style=\"text-align: right;\">\n",
       "      <th></th>\n",
       "      <th>Country</th>\n",
       "      <th>avg</th>\n",
       "    </tr>\n",
       "  </thead>\n",
       "  <tbody>\n",
       "    <tr>\n",
       "      <th>0</th>\n",
       "      <td>Aruba</td>\n",
       "      <td>1.538826e+10</td>\n",
       "    </tr>\n",
       "    <tr>\n",
       "      <th>1</th>\n",
       "      <td>Afghanistan</td>\n",
       "      <td>1.540784e+11</td>\n",
       "    </tr>\n",
       "    <tr>\n",
       "      <th>2</th>\n",
       "      <td>Angola</td>\n",
       "      <td>9.185452e+11</td>\n",
       "    </tr>\n",
       "    <tr>\n",
       "      <th>3</th>\n",
       "      <td>Albania</td>\n",
       "      <td>1.190966e+11</td>\n",
       "    </tr>\n",
       "    <tr>\n",
       "      <th>4</th>\n",
       "      <td>Andorra</td>\n",
       "      <td>3.463430e+10</td>\n",
       "    </tr>\n",
       "  </tbody>\n",
       "</table>\n",
       "</div>"
      ],
      "text/plain": [
       "       Country           avg\n",
       "0        Aruba  1.538826e+10\n",
       "1  Afghanistan  1.540784e+11\n",
       "2       Angola  9.185452e+11\n",
       "3      Albania  1.190966e+11\n",
       "4      Andorra  3.463430e+10"
      ]
     },
     "execution_count": 36,
     "metadata": {},
     "output_type": "execute_result"
    }
   ],
   "source": [
    "avgGDP.head()"
   ]
  },
  {
   "cell_type": "code",
   "execution_count": 37,
   "metadata": {
    "collapsed": false,
    "scrolled": true
   },
   "outputs": [],
   "source": [
    "avgGDP.sort_values('avg',ascending = False, inplace = True)\n",
    "avgGDP.reset_index(drop=True, inplace = True)\n",
    "avgGDP = avgGDP.iloc[:15]"
   ]
  },
  {
   "cell_type": "code",
   "execution_count": 38,
   "metadata": {
    "collapsed": false,
    "scrolled": true
   },
   "outputs": [
    {
     "data": {
      "text/html": [
       "<div>\n",
       "<table border=\"1\" class=\"dataframe\">\n",
       "  <thead>\n",
       "    <tr style=\"text-align: right;\">\n",
       "      <th></th>\n",
       "      <th>Country</th>\n",
       "      <th>avg</th>\n",
       "    </tr>\n",
       "  </thead>\n",
       "  <tbody>\n",
       "    <tr>\n",
       "      <th>0</th>\n",
       "      <td>World</td>\n",
       "      <td>6.778418e+14</td>\n",
       "    </tr>\n",
       "    <tr>\n",
       "      <th>1</th>\n",
       "      <td>High income</td>\n",
       "      <td>4.623143e+14</td>\n",
       "    </tr>\n",
       "    <tr>\n",
       "      <th>2</th>\n",
       "      <td>OECD members</td>\n",
       "      <td>4.552708e+14</td>\n",
       "    </tr>\n",
       "    <tr>\n",
       "      <th>3</th>\n",
       "      <td>Post-demographic dividend</td>\n",
       "      <td>4.325504e+14</td>\n",
       "    </tr>\n",
       "    <tr>\n",
       "      <th>4</th>\n",
       "      <td>IDA &amp; IBRD total</td>\n",
       "      <td>2.223225e+14</td>\n",
       "    </tr>\n",
       "    <tr>\n",
       "      <th>5</th>\n",
       "      <td>Europe &amp; Central Asia</td>\n",
       "      <td>2.168096e+14</td>\n",
       "    </tr>\n",
       "    <tr>\n",
       "      <th>6</th>\n",
       "      <td>Low &amp; middle income</td>\n",
       "      <td>2.155810e+14</td>\n",
       "    </tr>\n",
       "    <tr>\n",
       "      <th>7</th>\n",
       "      <td>Middle income</td>\n",
       "      <td>2.124814e+14</td>\n",
       "    </tr>\n",
       "    <tr>\n",
       "      <th>8</th>\n",
       "      <td>IBRD only</td>\n",
       "      <td>2.073376e+14</td>\n",
       "    </tr>\n",
       "    <tr>\n",
       "      <th>9</th>\n",
       "      <td>European Union</td>\n",
       "      <td>1.751453e+14</td>\n",
       "    </tr>\n",
       "    <tr>\n",
       "      <th>10</th>\n",
       "      <td>East Asia &amp; Pacific</td>\n",
       "      <td>1.744154e+14</td>\n",
       "    </tr>\n",
       "    <tr>\n",
       "      <th>11</th>\n",
       "      <td>North America</td>\n",
       "      <td>1.725342e+14</td>\n",
       "    </tr>\n",
       "    <tr>\n",
       "      <th>12</th>\n",
       "      <td>Upper middle income</td>\n",
       "      <td>1.658825e+14</td>\n",
       "    </tr>\n",
       "    <tr>\n",
       "      <th>13</th>\n",
       "      <td>United States</td>\n",
       "      <td>1.563482e+14</td>\n",
       "    </tr>\n",
       "    <tr>\n",
       "      <th>14</th>\n",
       "      <td>Late-demographic dividend</td>\n",
       "      <td>1.445046e+14</td>\n",
       "    </tr>\n",
       "  </tbody>\n",
       "</table>\n",
       "</div>"
      ],
      "text/plain": [
       "                      Country           avg\n",
       "0                       World  6.778418e+14\n",
       "1                 High income  4.623143e+14\n",
       "2                OECD members  4.552708e+14\n",
       "3   Post-demographic dividend  4.325504e+14\n",
       "4            IDA & IBRD total  2.223225e+14\n",
       "5       Europe & Central Asia  2.168096e+14\n",
       "6         Low & middle income  2.155810e+14\n",
       "7               Middle income  2.124814e+14\n",
       "8                   IBRD only  2.073376e+14\n",
       "9              European Union  1.751453e+14\n",
       "10        East Asia & Pacific  1.744154e+14\n",
       "11              North America  1.725342e+14\n",
       "12        Upper middle income  1.658825e+14\n",
       "13              United States  1.563482e+14\n",
       "14  Late-demographic dividend  1.445046e+14"
      ]
     },
     "execution_count": 38,
     "metadata": {},
     "output_type": "execute_result"
    }
   ],
   "source": [
    "avgGDP"
   ]
  },
  {
   "cell_type": "code",
   "execution_count": 39,
   "metadata": {
    "collapsed": false
   },
   "outputs": [],
   "source": [
    "def answer_three():\n",
    "    country = GDP['Country']\n",
    "    years = GDP.iloc[:,-10:]\n",
    "    years['avg'] = years.sum(axis = 1)\n",
    "    avgGDP = pd.concat([country, years['avg']], axis=1)\n",
    "    avgGDP.sort_values('avg',ascending = False, inplace = True)\n",
    "    avgGDP.reset_index(drop=True, inplace = True)\n",
    "    avgGDP = avgGDP.iloc[:15]\n",
    "    return avgGDP"
   ]
  },
  {
   "cell_type": "markdown",
   "metadata": {},
   "source": [
    "### Question 4 (6.6%)\n",
    "By how much had the GDP changed over the 10 year span for the country with the 6th largest average GDP?\n",
    "\n",
    "*This function should return a single number.*"
   ]
  },
  {
   "cell_type": "code",
   "execution_count": 40,
   "metadata": {
    "collapsed": false
   },
   "outputs": [],
   "source": [
    "data = answer_three()\n",
    "data = data.loc[:5]\n",
    "country = list(data['Country'])"
   ]
  },
  {
   "cell_type": "code",
   "execution_count": 41,
   "metadata": {
    "collapsed": false,
    "scrolled": true
   },
   "outputs": [
    {
     "data": {
      "text/plain": [
       "63420035249673.0"
      ]
     },
     "execution_count": 41,
     "metadata": {},
     "output_type": "execute_result"
    }
   ],
   "source": [
    "GDP[GDP['Country'].isin(country)].iloc[:,-1].sum() - GDP[GDP['Country'].isin(country)].iloc[:,-10].sum()"
   ]
  },
  {
   "cell_type": "code",
   "execution_count": 42,
   "metadata": {
    "collapsed": false
   },
   "outputs": [],
   "source": [
    "def answer_four():\n",
    "    data = answer_three()\n",
    "    data = data.loc[:5]\n",
    "    country = list(data['Country'])\n",
    "    s = GDP[GDP['Country'].isin(country)].iloc[:,-1].sum() - GDP[GDP['Country'].isin(country)].iloc[:,-10].sum()\n",
    "    return s"
   ]
  },
  {
   "cell_type": "code",
   "execution_count": 43,
   "metadata": {
    "collapsed": false
   },
   "outputs": [
    {
     "data": {
      "text/plain": [
       "63420035249673.0"
      ]
     },
     "execution_count": 43,
     "metadata": {},
     "output_type": "execute_result"
    }
   ],
   "source": [
    "answer_four()"
   ]
  },
  {
   "cell_type": "markdown",
   "metadata": {},
   "source": [
    "### Question 5 (6.6%)\n",
    "What is the mean `Energy Supply per Capita`?\n",
    "\n",
    "*This function should return a single number.*"
   ]
  },
  {
   "cell_type": "code",
   "execution_count": 44,
   "metadata": {
    "collapsed": false
   },
   "outputs": [
    {
     "data": {
      "text/plain": [
       "90.66666666666667"
      ]
     },
     "execution_count": 44,
     "metadata": {},
     "output_type": "execute_result"
    }
   ],
   "source": [
    "enrgy_mean = energy['Energy Supply per Capita'].mean()\n",
    "enrgy_mean"
   ]
  },
  {
   "cell_type": "markdown",
   "metadata": {},
   "source": [
    "### Question 6 (6.6%)\n",
    "What country has the maximum % Renewable and what is the percentage?\n",
    "\n",
    "*This function should return a tuple with the name of the country and the percentage.*"
   ]
  },
  {
   "cell_type": "code",
   "execution_count": 45,
   "metadata": {
    "collapsed": false
   },
   "outputs": [
    {
     "data": {
      "text/plain": [
       "100.0"
      ]
     },
     "execution_count": 45,
     "metadata": {},
     "output_type": "execute_result"
    }
   ],
   "source": [
    "energy['% Renewable'].max()"
   ]
  },
  {
   "cell_type": "code",
   "execution_count": 46,
   "metadata": {
    "collapsed": false
   },
   "outputs": [
    {
     "data": {
      "text/plain": [
       "1"
      ]
     },
     "execution_count": 46,
     "metadata": {},
     "output_type": "execute_result"
    }
   ],
   "source": [
    "# Note that there may be not only one country with max % Renewable\n",
    "energy['% Renewable'].argmax()"
   ]
  },
  {
   "cell_type": "code",
   "execution_count": 47,
   "metadata": {
    "collapsed": false
   },
   "outputs": [
    {
     "data": {
      "text/html": [
       "<div>\n",
       "<table border=\"1\" class=\"dataframe\">\n",
       "  <thead>\n",
       "    <tr style=\"text-align: right;\">\n",
       "      <th></th>\n",
       "      <th>Country</th>\n",
       "      <th>% Renewable</th>\n",
       "    </tr>\n",
       "  </thead>\n",
       "  <tbody>\n",
       "    <tr>\n",
       "      <th>1</th>\n",
       "      <td>Albania</td>\n",
       "      <td>100.0</td>\n",
       "    </tr>\n",
       "    <tr>\n",
       "      <th>23</th>\n",
       "      <td>Bhutan</td>\n",
       "      <td>100.0</td>\n",
       "    </tr>\n",
       "    <tr>\n",
       "      <th>116</th>\n",
       "      <td>Lesotho</td>\n",
       "      <td>100.0</td>\n",
       "    </tr>\n",
       "  </tbody>\n",
       "</table>\n",
       "</div>"
      ],
      "text/plain": [
       "     Country  % Renewable\n",
       "1    Albania        100.0\n",
       "23    Bhutan        100.0\n",
       "116  Lesotho        100.0"
      ]
     },
     "execution_count": 47,
     "metadata": {},
     "output_type": "execute_result"
    }
   ],
   "source": [
    "energy[['Country','% Renewable']][energy['% Renewable']==energy['% Renewable'].iloc[energy['% Renewable'].argmax()]]"
   ]
  },
  {
   "cell_type": "markdown",
   "metadata": {},
   "source": [
    "### Question 7 (6.6%)\n",
    "Create a new column that is the ratio of Self-Citations to Total Citations. \n",
    "What is the maximum value for this new column, and what country has the highest ratio?\n",
    "\n",
    "*This function should return a tuple with the name of the country and the ratio.*"
   ]
  },
  {
   "cell_type": "code",
   "execution_count": 48,
   "metadata": {
    "collapsed": false
   },
   "outputs": [],
   "source": [
    "answer_one['ratio'] = answer_one['Self-citations'] / (answer_one['Citations'] + answer_one['Self-citations'])"
   ]
  },
  {
   "cell_type": "code",
   "execution_count": 49,
   "metadata": {
    "collapsed": false
   },
   "outputs": [
    {
     "data": {
      "text/plain": [
       "Country\n",
       "China    0.40527\n",
       "Name: ratio, dtype: float64"
      ]
     },
     "execution_count": 49,
     "metadata": {},
     "output_type": "execute_result"
    }
   ],
   "source": [
    "answer_one['ratio'][answer_one['ratio']==answer_one['ratio'].loc[answer_one['ratio'].argmax()]]"
   ]
  },
  {
   "cell_type": "markdown",
   "metadata": {},
   "source": [
    "### Question 8 (6.6%)\n",
    "\n",
    "Create a column that estimates the population using Energy Supply and Energy Supply per capita. \n",
    "What is the third most populous country according to this estimate?\n",
    "\n",
    "*This function should return a single string value.*"
   ]
  },
  {
   "cell_type": "code",
   "execution_count": 50,
   "metadata": {
    "collapsed": false
   },
   "outputs": [],
   "source": [
    "answer_one['population'] = answer_one['Energy Supply']/answer_one['Energy Supply per Capita']"
   ]
  },
  {
   "cell_type": "code",
   "execution_count": 51,
   "metadata": {
    "collapsed": false
   },
   "outputs": [
    {
     "data": {
      "text/plain": [
       "205915254.23728815"
      ]
     },
     "execution_count": 51,
     "metadata": {},
     "output_type": "execute_result"
    }
   ],
   "source": [
    "answer_one['population'].sort_values(ascending=False).iloc[2]"
   ]
  },
  {
   "cell_type": "markdown",
   "metadata": {},
   "source": [
    "### Question 9 (6.6%)\n",
    "Create a column that estimates the number of citable documents per person. \n",
    "What is the correlation between the number of citable documents per capita and the energy supply per capita? Use the `.corr()` method, (Pearson's correlation).\n",
    "\n",
    "*This function should return a single number.*\n",
    "\n",
    "*(Optional: Use the built-in function `plot9()` to visualize the relationship between Energy Supply per Capita vs. Citable docs per Capita)*"
   ]
  },
  {
   "cell_type": "code",
   "execution_count": 52,
   "metadata": {
    "collapsed": false
   },
   "outputs": [],
   "source": [
    "# add new column\n",
    "answer_one['Citable docs per Capita'] = answer_one['Citable documents']/answer_one['population']"
   ]
  },
  {
   "cell_type": "code",
   "execution_count": 53,
   "metadata": {
    "collapsed": false
   },
   "outputs": [
    {
     "data": {
      "text/plain": [
       "0.85947873388990637"
      ]
     },
     "execution_count": 53,
     "metadata": {},
     "output_type": "execute_result"
    }
   ],
   "source": [
    "#find the correlation between the columns\n",
    "answer_one['Citable docs per Capita'].corr(answer_one['Energy Supply per Capita'])"
   ]
  },
  {
   "cell_type": "code",
   "execution_count": 54,
   "metadata": {
    "collapsed": true
   },
   "outputs": [],
   "source": [
    "def plot9():\n",
    "    import matplotlib as plt\n",
    "    %matplotlib inline\n",
    "    \n",
    "    Top15 = answer_one\n",
    "    Top15['PopEst'] = Top15['Energy Supply'] / Top15['Energy Supply per Capita']\n",
    "    Top15['Citable docs per Capita'] = Top15['Citable documents'] / Top15['PopEst']\n",
    "    Top15.plot(x='Citable docs per Capita', y='Energy Supply per Capita', kind='scatter', xlim=[0, 0.0006]) "
   ]
  },
  {
   "cell_type": "code",
   "execution_count": 55,
   "metadata": {
    "collapsed": false
   },
   "outputs": [
    {
     "data": {
      "image/png": "[encoded data removed]",
      "text/plain": [
       "<matplotlib.figure.Figure at 0x8c13a90>"
      ]
     },
     "metadata": {},
     "output_type": "display_data"
    }
   ],
   "source": [
    "plot9()"
   ]
  },
  {
   "cell_type": "markdown",
   "metadata": {},
   "source": [
    "### Question 10 (6.6%)\n",
    "Create a new column with a 1 if the country's % Renewable value is at or above the median for all countries in the top 15, and a 0 if the country's % Renewable value is below the median.\n",
    "\n",
    "*This function should return a series named `HighRenew` whose index is the country name sorted in ascending order of rank.*"
   ]
  },
  {
   "cell_type": "code",
   "execution_count": 56,
   "metadata": {
    "collapsed": false
   },
   "outputs": [],
   "source": [
    "answer_one['HighRenew'] = 1*(answer_one['% Renewable'] > answer_one['% Renewable'].median())"
   ]
  },
  {
   "cell_type": "code",
   "execution_count": 57,
   "metadata": {
    "collapsed": false
   },
   "outputs": [
    {
     "data": {
      "text/plain": [
       "Country\n",
       "China                 1\n",
       "Japan                 0\n",
       "India                 0\n",
       "Russian Federation    0\n",
       "Germany               1\n",
       "Canada                1\n",
       "France                0\n",
       "South Korea           0\n",
       "Italy                 1\n",
       "Spain                 1\n",
       "Iran                  0\n",
       "Australia             0\n",
       "Brazil                1\n",
       "Name: HighRenew, dtype: int32"
      ]
     },
     "execution_count": 57,
     "metadata": {},
     "output_type": "execute_result"
    }
   ],
   "source": [
    "answer_one['HighRenew']"
   ]
  },
  {
   "cell_type": "markdown",
   "metadata": {},
   "source": [
    "### Question 11 (6.6%)\n",
    "Use the following dictionary to group the Countries by Continent, then create a dateframe that displays the sample size (the number of countries in each continent bin), and the sum, mean, and std deviation for the estimated population of each country.\n",
    "\n",
    "```python\n",
    "ContinentDict  = {'China':'Asia', \n",
    "                  'United States':'North America', \n",
    "                  'Japan':'Asia', \n",
    "                  'United Kingdom':'Europe', \n",
    "                  'Russian Federation':'Europe', \n",
    "                  'Canada':'North America', \n",
    "                  'Germany':'Europe', \n",
    "                  'India':'Asia',\n",
    "                  'France':'Europe', \n",
    "                  'South Korea':'Asia', \n",
    "                  'Italy':'Europe', \n",
    "                  'Spain':'Europe', \n",
    "                  'Iran':'Asia',\n",
    "                  'Australia':'Australia', \n",
    "                  'Brazil':'South America'}\n",
    "```\n",
    "\n",
    "*This function should return a DataFrame with index named Continent `['Asia', 'Australia', 'Europe', 'North America', 'South America']` and columns `['size', 'sum', 'mean', 'std']`*"
   ]
  },
  {
   "cell_type": "code",
   "execution_count": 58,
   "metadata": {
    "collapsed": true
   },
   "outputs": [],
   "source": [
    "ContinentDict  = {'China':'Asia', \n",
    "                  'United States':'North America', \n",
    "                  'Japan':'Asia', \n",
    "                  'United Kingdom':'Europe', \n",
    "                  'Russian Federation':'Europe', \n",
    "                  'Canada':'North America', \n",
    "                  'Germany':'Europe', \n",
    "                  'India':'Asia',\n",
    "                  'France':'Europe', \n",
    "                  'South Korea':'Asia', \n",
    "                  'Italy':'Europe', \n",
    "                  'Spain':'Europe', \n",
    "                  'Iran':'Asia',\n",
    "                  'Australia':'Australia', \n",
    "                  'Brazil':'South America'}"
   ]
  },
  {
   "cell_type": "code",
   "execution_count": 59,
   "metadata": {
    "collapsed": false
   },
   "outputs": [
    {
     "data": {
      "text/plain": [
       "Index(['Rank', 'Documents', 'Citable documents', 'Citations', 'Self-citations',\n",
       "       'Citations per document', 'H index', 'Energy Supply',\n",
       "       'Energy Supply per Capita', '% Renewable', '2006', '2007', '2008',\n",
       "       '2009', '2010', '2011', '2012', '2013', '2014', '2015', 'ratio',\n",
       "       'population', 'Citable docs per Capita', 'PopEst', 'HighRenew'],\n",
       "      dtype='object')"
      ]
     },
     "execution_count": 59,
     "metadata": {},
     "output_type": "execute_result"
    }
   ],
   "source": [
    "answer_one.columns"
   ]
  },
  {
   "cell_type": "code",
   "execution_count": 60,
   "metadata": {
    "collapsed": false
   },
   "outputs": [],
   "source": [
    "ans_elev = answer_one[['population']].copy()"
   ]
  },
  {
   "cell_type": "code",
   "execution_count": 61,
   "metadata": {
    "collapsed": false
   },
   "outputs": [
    {
     "data": {
      "text/html": [
       "<div>\n",
       "<table border=\"1\" class=\"dataframe\">\n",
       "  <thead>\n",
       "    <tr style=\"text-align: right;\">\n",
       "      <th></th>\n",
       "      <th>population</th>\n",
       "    </tr>\n",
       "    <tr>\n",
       "      <th>Country</th>\n",
       "      <th></th>\n",
       "    </tr>\n",
       "  </thead>\n",
       "  <tbody>\n",
       "    <tr>\n",
       "      <th>China</th>\n",
       "      <td>1.367645e+09</td>\n",
       "    </tr>\n",
       "    <tr>\n",
       "      <th>Japan</th>\n",
       "      <td>1.274094e+08</td>\n",
       "    </tr>\n",
       "    <tr>\n",
       "      <th>India</th>\n",
       "      <td>1.276731e+09</td>\n",
       "    </tr>\n",
       "    <tr>\n",
       "      <th>Russian Federation</th>\n",
       "      <td>1.435000e+08</td>\n",
       "    </tr>\n",
       "    <tr>\n",
       "      <th>Germany</th>\n",
       "      <td>8.036970e+07</td>\n",
       "    </tr>\n",
       "    <tr>\n",
       "      <th>Canada</th>\n",
       "      <td>3.523986e+07</td>\n",
       "    </tr>\n",
       "    <tr>\n",
       "      <th>France</th>\n",
       "      <td>6.383735e+07</td>\n",
       "    </tr>\n",
       "    <tr>\n",
       "      <th>South Korea</th>\n",
       "      <td>4.980543e+07</td>\n",
       "    </tr>\n",
       "    <tr>\n",
       "      <th>Italy</th>\n",
       "      <td>5.990826e+07</td>\n",
       "    </tr>\n",
       "    <tr>\n",
       "      <th>Spain</th>\n",
       "      <td>4.644340e+07</td>\n",
       "    </tr>\n",
       "    <tr>\n",
       "      <th>Iran</th>\n",
       "      <td>7.707563e+07</td>\n",
       "    </tr>\n",
       "    <tr>\n",
       "      <th>Australia</th>\n",
       "      <td>2.331602e+07</td>\n",
       "    </tr>\n",
       "    <tr>\n",
       "      <th>Brazil</th>\n",
       "      <td>2.059153e+08</td>\n",
       "    </tr>\n",
       "  </tbody>\n",
       "</table>\n",
       "</div>"
      ],
      "text/plain": [
       "                      population\n",
       "Country                         \n",
       "China               1.367645e+09\n",
       "Japan               1.274094e+08\n",
       "India               1.276731e+09\n",
       "Russian Federation  1.435000e+08\n",
       "Germany             8.036970e+07\n",
       "Canada              3.523986e+07\n",
       "France              6.383735e+07\n",
       "South Korea         4.980543e+07\n",
       "Italy               5.990826e+07\n",
       "Spain               4.644340e+07\n",
       "Iran                7.707563e+07\n",
       "Australia           2.331602e+07\n",
       "Brazil              2.059153e+08"
      ]
     },
     "execution_count": 61,
     "metadata": {},
     "output_type": "execute_result"
    }
   ],
   "source": [
    "ans_elev"
   ]
  },
  {
   "cell_type": "code",
   "execution_count": 62,
   "metadata": {
    "collapsed": false
   },
   "outputs": [],
   "source": [
    "# create a dataframe with countries and continents\n",
    "data = pd.DataFrame.from_dict(ContinentDict, orient='index')\n",
    "data['Continent'] = data.index\n",
    "data.columns = ['Continent', 'Country']\n",
    "data.set_index('Country',drop=True, inplace = True)"
   ]
  },
  {
   "cell_type": "code",
   "execution_count": 63,
   "metadata": {
    "collapsed": true
   },
   "outputs": [],
   "source": [
    "answer_one = pd.merge(answer_one, data, left_index=True, right_index=True)"
   ]
  },
  {
   "cell_type": "code",
   "execution_count": 64,
   "metadata": {
    "collapsed": false
   },
   "outputs": [
    {
     "data": {
      "text/html": [
       "<div>\n",
       "<table border=\"1\" class=\"dataframe\">\n",
       "  <thead>\n",
       "    <tr style=\"text-align: right;\">\n",
       "      <th></th>\n",
       "      <th>population</th>\n",
       "      <th>Continent</th>\n",
       "    </tr>\n",
       "    <tr>\n",
       "      <th>Country</th>\n",
       "      <th></th>\n",
       "      <th></th>\n",
       "    </tr>\n",
       "  </thead>\n",
       "  <tbody>\n",
       "    <tr>\n",
       "      <th>Italy</th>\n",
       "      <td>5.990826e+07</td>\n",
       "      <td>Europe</td>\n",
       "    </tr>\n",
       "    <tr>\n",
       "      <th>Spain</th>\n",
       "      <td>4.644340e+07</td>\n",
       "      <td>Europe</td>\n",
       "    </tr>\n",
       "    <tr>\n",
       "      <th>China</th>\n",
       "      <td>1.367645e+09</td>\n",
       "      <td>Asia</td>\n",
       "    </tr>\n",
       "    <tr>\n",
       "      <th>Iran</th>\n",
       "      <td>7.707563e+07</td>\n",
       "      <td>Asia</td>\n",
       "    </tr>\n",
       "    <tr>\n",
       "      <th>India</th>\n",
       "      <td>1.276731e+09</td>\n",
       "      <td>Asia</td>\n",
       "    </tr>\n",
       "    <tr>\n",
       "      <th>Russian Federation</th>\n",
       "      <td>1.435000e+08</td>\n",
       "      <td>Europe</td>\n",
       "    </tr>\n",
       "    <tr>\n",
       "      <th>South Korea</th>\n",
       "      <td>4.980543e+07</td>\n",
       "      <td>Asia</td>\n",
       "    </tr>\n",
       "    <tr>\n",
       "      <th>Australia</th>\n",
       "      <td>2.331602e+07</td>\n",
       "      <td>Australia</td>\n",
       "    </tr>\n",
       "    <tr>\n",
       "      <th>Brazil</th>\n",
       "      <td>2.059153e+08</td>\n",
       "      <td>South America</td>\n",
       "    </tr>\n",
       "    <tr>\n",
       "      <th>Canada</th>\n",
       "      <td>3.523986e+07</td>\n",
       "      <td>North America</td>\n",
       "    </tr>\n",
       "    <tr>\n",
       "      <th>France</th>\n",
       "      <td>6.383735e+07</td>\n",
       "      <td>Europe</td>\n",
       "    </tr>\n",
       "    <tr>\n",
       "      <th>Japan</th>\n",
       "      <td>1.274094e+08</td>\n",
       "      <td>Asia</td>\n",
       "    </tr>\n",
       "    <tr>\n",
       "      <th>Germany</th>\n",
       "      <td>8.036970e+07</td>\n",
       "      <td>Europe</td>\n",
       "    </tr>\n",
       "  </tbody>\n",
       "</table>\n",
       "</div>"
      ],
      "text/plain": [
       "                      population      Continent\n",
       "Country                                        \n",
       "Italy               5.990826e+07         Europe\n",
       "Spain               4.644340e+07         Europe\n",
       "China               1.367645e+09           Asia\n",
       "Iran                7.707563e+07           Asia\n",
       "India               1.276731e+09           Asia\n",
       "Russian Federation  1.435000e+08         Europe\n",
       "South Korea         4.980543e+07           Asia\n",
       "Australia           2.331602e+07      Australia\n",
       "Brazil              2.059153e+08  South America\n",
       "Canada              3.523986e+07  North America\n",
       "France              6.383735e+07         Europe\n",
       "Japan               1.274094e+08           Asia\n",
       "Germany             8.036970e+07         Europe"
      ]
     },
     "execution_count": 64,
     "metadata": {},
     "output_type": "execute_result"
    }
   ],
   "source": [
    "data = pd.merge(ans_elev, data, left_index=True, right_index=True)\n",
    "data"
   ]
  },
  {
   "cell_type": "code",
   "execution_count": 65,
   "metadata": {
    "collapsed": false
   },
   "outputs": [
    {
     "data": {
      "text/html": [
       "<div>\n",
       "<table border=\"1\" class=\"dataframe\">\n",
       "  <thead>\n",
       "    <tr style=\"text-align: right;\">\n",
       "      <th></th>\n",
       "      <th>Continent</th>\n",
       "      <th>count</th>\n",
       "      <th>sum</th>\n",
       "      <th>mean</th>\n",
       "      <th>std</th>\n",
       "    </tr>\n",
       "  </thead>\n",
       "  <tbody>\n",
       "    <tr>\n",
       "      <th>0</th>\n",
       "      <td>Asia</td>\n",
       "      <td>5</td>\n",
       "      <td>2.898666e+09</td>\n",
       "      <td>5.797333e+08</td>\n",
       "      <td>6.790979e+08</td>\n",
       "    </tr>\n",
       "    <tr>\n",
       "      <th>1</th>\n",
       "      <td>Australia</td>\n",
       "      <td>1</td>\n",
       "      <td>2.331602e+07</td>\n",
       "      <td>2.331602e+07</td>\n",
       "      <td>NaN</td>\n",
       "    </tr>\n",
       "    <tr>\n",
       "      <th>2</th>\n",
       "      <td>Europe</td>\n",
       "      <td>5</td>\n",
       "      <td>3.940587e+08</td>\n",
       "      <td>7.881174e+07</td>\n",
       "      <td>3.813228e+07</td>\n",
       "    </tr>\n",
       "    <tr>\n",
       "      <th>3</th>\n",
       "      <td>North America</td>\n",
       "      <td>1</td>\n",
       "      <td>3.523986e+07</td>\n",
       "      <td>3.523986e+07</td>\n",
       "      <td>NaN</td>\n",
       "    </tr>\n",
       "    <tr>\n",
       "      <th>4</th>\n",
       "      <td>South America</td>\n",
       "      <td>1</td>\n",
       "      <td>2.059153e+08</td>\n",
       "      <td>2.059153e+08</td>\n",
       "      <td>NaN</td>\n",
       "    </tr>\n",
       "  </tbody>\n",
       "</table>\n",
       "</div>"
      ],
      "text/plain": [
       "       Continent  count           sum          mean           std\n",
       "0           Asia      5  2.898666e+09  5.797333e+08  6.790979e+08\n",
       "1      Australia      1  2.331602e+07  2.331602e+07           NaN\n",
       "2         Europe      5  3.940587e+08  7.881174e+07  3.813228e+07\n",
       "3  North America      1  3.523986e+07  3.523986e+07           NaN\n",
       "4  South America      1  2.059153e+08  2.059153e+08           NaN"
      ]
     },
     "execution_count": 65,
     "metadata": {},
     "output_type": "execute_result"
    }
   ],
   "source": [
    "data.pivot_table(index=['Continent'],values='population',aggfunc=('count', np.sum, np.mean,np.std)).reset_index()\n",
    "#['size', 'sum', 'mean', 'std']\n",
    "# std = 0 for only one value"
   ]
  },
  {
   "cell_type": "code",
   "execution_count": 66,
   "metadata": {
    "collapsed": true
   },
   "outputs": [],
   "source": [
    "def answer_eleven():\n",
    "    ans_elev = answer_one[['population']]\n",
    "    # create a dataframe with countries and continents\n",
    "    data = pd.DataFrame.from_dict(ContinentDict, orient='index')\n",
    "    data['Continent'] = data.index\n",
    "    data.columns = ['Continent', 'Country']\n",
    "    data.set_index('Country',drop=True, inplace = True)\n",
    "    data = pd.merge(ans_elev, data, left_index=True, right_index=True)\n",
    "    data = data.pivot_table(index=['Continent'],values='population',aggfunc=('count', np.sum, np.mean,np.std)).reset_index()\n",
    "    #['size', 'sum', 'mean', 'std']\n",
    "    # std = 0 for only one value\n",
    "    return data"
   ]
  },
  {
   "cell_type": "code",
   "execution_count": 67,
   "metadata": {
    "collapsed": false
   },
   "outputs": [
    {
     "data": {
      "text/html": [
       "<div>\n",
       "<table border=\"1\" class=\"dataframe\">\n",
       "  <thead>\n",
       "    <tr style=\"text-align: right;\">\n",
       "      <th></th>\n",
       "      <th>Continent</th>\n",
       "      <th>count</th>\n",
       "      <th>sum</th>\n",
       "      <th>mean</th>\n",
       "      <th>std</th>\n",
       "    </tr>\n",
       "  </thead>\n",
       "  <tbody>\n",
       "    <tr>\n",
       "      <th>0</th>\n",
       "      <td>Asia</td>\n",
       "      <td>5</td>\n",
       "      <td>2.898666e+09</td>\n",
       "      <td>5.797333e+08</td>\n",
       "      <td>6.790979e+08</td>\n",
       "    </tr>\n",
       "    <tr>\n",
       "      <th>1</th>\n",
       "      <td>Australia</td>\n",
       "      <td>1</td>\n",
       "      <td>2.331602e+07</td>\n",
       "      <td>2.331602e+07</td>\n",
       "      <td>NaN</td>\n",
       "    </tr>\n",
       "    <tr>\n",
       "      <th>2</th>\n",
       "      <td>Europe</td>\n",
       "      <td>5</td>\n",
       "      <td>3.940587e+08</td>\n",
       "      <td>7.881174e+07</td>\n",
       "      <td>3.813228e+07</td>\n",
       "    </tr>\n",
       "    <tr>\n",
       "      <th>3</th>\n",
       "      <td>North America</td>\n",
       "      <td>1</td>\n",
       "      <td>3.523986e+07</td>\n",
       "      <td>3.523986e+07</td>\n",
       "      <td>NaN</td>\n",
       "    </tr>\n",
       "    <tr>\n",
       "      <th>4</th>\n",
       "      <td>South America</td>\n",
       "      <td>1</td>\n",
       "      <td>2.059153e+08</td>\n",
       "      <td>2.059153e+08</td>\n",
       "      <td>NaN</td>\n",
       "    </tr>\n",
       "  </tbody>\n",
       "</table>\n",
       "</div>"
      ],
      "text/plain": [
       "       Continent  count           sum          mean           std\n",
       "0           Asia      5  2.898666e+09  5.797333e+08  6.790979e+08\n",
       "1      Australia      1  2.331602e+07  2.331602e+07           NaN\n",
       "2         Europe      5  3.940587e+08  7.881174e+07  3.813228e+07\n",
       "3  North America      1  3.523986e+07  3.523986e+07           NaN\n",
       "4  South America      1  2.059153e+08  2.059153e+08           NaN"
      ]
     },
     "execution_count": 67,
     "metadata": {},
     "output_type": "execute_result"
    }
   ],
   "source": [
    "answer_eleven()"
   ]
  },
  {
   "cell_type": "markdown",
   "metadata": {},
   "source": [
    "### Question 12 (6.6%)\n",
    "Cut % Renewable into 5 bins. Group Top15 by the Continent, as well as these new % Renewable bins. How many countries are in each of these groups?\n",
    "\n",
    "*This function should return a __Series__ with a MultiIndex of `Continent`, then the bins for `% Renewable`. Do not include groups with no countries.*"
   ]
  },
  {
   "cell_type": "code",
   "execution_count": 68,
   "metadata": {
    "collapsed": true
   },
   "outputs": [],
   "source": [
    "bins = np.linspace(answer_one['% Renewable'].min(), answer_one['% Renewable'].max(),6)\n",
    "bins[0] -=1\n",
    "bins[-1] +=1"
   ]
  },
  {
   "cell_type": "code",
   "execution_count": 69,
   "metadata": {
    "collapsed": true
   },
   "outputs": [],
   "source": [
    "def process_renew(df):\n",
    "    cut_points = list(bins)\n",
    "    label_names = [1,2,3,4,5]\n",
    "    df['bin'] = pd.cut(df['% Renewable'],cut_points,labels=label_names)\n",
    "    return df"
   ]
  },
  {
   "cell_type": "code",
   "execution_count": 70,
   "metadata": {
    "collapsed": false
   },
   "outputs": [],
   "source": [
    "answer_one = process_renew(answer_one)\n",
    "data = answer_one.copy()\n",
    "data.reset_index(inplace = True)"
   ]
  },
  {
   "cell_type": "code",
   "execution_count": 71,
   "metadata": {
    "collapsed": false
   },
   "outputs": [],
   "source": [
    "# Make the Pivot table with Continent and bins which count a Country, also reset\n",
    "data = data.pivot_table(index=['Continent','bin'],values='Country',aggfunc=('count'))\n",
    "\n",
    "data = pd.DataFrame(data)\n",
    "# delete groups with no countries\n",
    "data.dropna(inplace = True)"
   ]
  },
  {
   "cell_type": "code",
   "execution_count": 72,
   "metadata": {
    "collapsed": false
   },
   "outputs": [],
   "source": [
    "def answer_twelve():\n",
    "    global answer_one\n",
    "    bins = np.linspace(answer_one['% Renewable'].min(), answer_one['% Renewable'].max(),6)\n",
    "    bins[0] -=1\n",
    "    bins[-1] +=1\n",
    "    answer_one = process_renew(answer_one)\n",
    "    data = answer_one.copy()\n",
    "    data.reset_index(inplace = True)\n",
    "    data = data.pivot_table(index=['Continent','bin'],values='Country',aggfunc=('count'))\n",
    "    data = pd.DataFrame(data)\n",
    "    # delete groups with no countries\n",
    "    data.dropna(inplace = True)\n",
    "    return data"
   ]
  },
  {
   "cell_type": "code",
   "execution_count": 73,
   "metadata": {
    "collapsed": false
   },
   "outputs": [
    {
     "data": {
      "text/html": [
       "<div>\n",
       "<table border=\"1\" class=\"dataframe\">\n",
       "  <thead>\n",
       "    <tr style=\"text-align: right;\">\n",
       "      <th></th>\n",
       "      <th></th>\n",
       "      <th>Country</th>\n",
       "    </tr>\n",
       "    <tr>\n",
       "      <th>Continent</th>\n",
       "      <th>bin</th>\n",
       "      <th></th>\n",
       "    </tr>\n",
       "  </thead>\n",
       "  <tbody>\n",
       "    <tr>\n",
       "      <th rowspan=\"2\" valign=\"top\">Asia</th>\n",
       "      <th>1</th>\n",
       "      <td>4.0</td>\n",
       "    </tr>\n",
       "    <tr>\n",
       "      <th>2</th>\n",
       "      <td>1.0</td>\n",
       "    </tr>\n",
       "    <tr>\n",
       "      <th>Australia</th>\n",
       "      <th>1</th>\n",
       "      <td>1.0</td>\n",
       "    </tr>\n",
       "    <tr>\n",
       "      <th rowspan=\"2\" valign=\"top\">Europe</th>\n",
       "      <th>2</th>\n",
       "      <td>3.0</td>\n",
       "    </tr>\n",
       "    <tr>\n",
       "      <th>3</th>\n",
       "      <td>2.0</td>\n",
       "    </tr>\n",
       "    <tr>\n",
       "      <th>North America</th>\n",
       "      <th>5</th>\n",
       "      <td>1.0</td>\n",
       "    </tr>\n",
       "    <tr>\n",
       "      <th>South America</th>\n",
       "      <th>5</th>\n",
       "      <td>1.0</td>\n",
       "    </tr>\n",
       "  </tbody>\n",
       "</table>\n",
       "</div>"
      ],
      "text/plain": [
       "                   Country\n",
       "Continent     bin         \n",
       "Asia          1        4.0\n",
       "              2        1.0\n",
       "Australia     1        1.0\n",
       "Europe        2        3.0\n",
       "              3        2.0\n",
       "North America 5        1.0\n",
       "South America 5        1.0"
      ]
     },
     "execution_count": 73,
     "metadata": {},
     "output_type": "execute_result"
    }
   ],
   "source": [
    "answer_twelve()"
   ]
  },
  {
   "cell_type": "markdown",
   "metadata": {},
   "source": [
    "### Question 13 (6.6%)\n",
    "Convert the Population Estimate series to a string with thousands separator (using commas). Do not round the results.\n",
    "\n",
    "e.g. 317615384.61538464 -> 317,615,384.61538464\n",
    "\n",
    "*This function should return a Series `PopEst` whose index is the country name and whose values are the population estimate string.*"
   ]
  },
  {
   "cell_type": "code",
   "execution_count": 74,
   "metadata": {
    "collapsed": false
   },
   "outputs": [
    {
     "data": {
      "text/plain": [
       "Index(['Rank', 'Documents', 'Citable documents', 'Citations', 'Self-citations',\n",
       "       'Citations per document', 'H index', 'Energy Supply',\n",
       "       'Energy Supply per Capita', '% Renewable', '2006', '2007', '2008',\n",
       "       '2009', '2010', '2011', '2012', '2013', '2014', '2015', 'ratio',\n",
       "       'population', 'Citable docs per Capita', 'PopEst', 'HighRenew',\n",
       "       'Continent', 'bin'],\n",
       "      dtype='object')"
      ]
     },
     "execution_count": 74,
     "metadata": {},
     "output_type": "execute_result"
    }
   ],
   "source": [
    "answer_one.columns"
   ]
  },
  {
   "cell_type": "code",
   "execution_count": 75,
   "metadata": {
    "collapsed": false
   },
   "outputs": [],
   "source": [
    "answer_one['PopEst'] = answer_one['PopEst'].map('{:,.2f}'.format)\n",
    "answer_one['PopEst'] = answer_one['PopEst'].astype('str')"
   ]
  },
  {
   "cell_type": "code",
   "execution_count": null,
   "metadata": {
    "collapsed": true
   },
   "outputs": [],
   "source": []
  }
 ],
 "metadata": {
  "kernelspec": {
   "display_name": "Python 3",
   "language": "python",
   "name": "python3"
  },
  "language_info": {
   "codemirror_mode": {
    "name": "ipython",
    "version": 3
   },
   "file_extension": ".py",
   "mimetype": "text/x-python",
   "name": "python",
   "nbconvert_exporter": "python",
   "pygments_lexer": "ipython3",
   "version": "3.5.1"
  }
 },
 "nbformat": 4,
 "nbformat_minor": 0
}
