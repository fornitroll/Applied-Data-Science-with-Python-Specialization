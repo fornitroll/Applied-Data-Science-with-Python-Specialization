{
 "cells": [
  {
   "cell_type": "code",
   "execution_count": 1,
   "metadata": {
    "collapsed": true
   },
   "outputs": [],
   "source": [
    "import pandas as pd\n",
    "import numpy as np\n",
    "from scipy.stats import ttest_ind\n",
    "import re"
   ]
  },
  {
   "cell_type": "markdown",
   "metadata": {},
   "source": [
    "# Assignment 4 - Hypothesis Testing\n",
    "This assignment requires more individual learning than previous assignments - you are encouraged to check out the [pandas documentation](http://pandas.pydata.org/pandas-docs/stable/) to find functions or methods you might not have used yet, or ask questions on [Stack Overflow](http://stackoverflow.com/) and tag them as pandas and python related. And of course, the discussion forums are open for interaction with your peers and the course staff.\n",
    "\n",
    "Definitions:\n",
    "* A _quarter_ is a specific three month period, Q1 is January through March, Q2 is April through June, Q3 is July through September, Q4 is October through December.\n",
    "* A _recession_ is defined as starting with two consecutive quarters of GDP decline, and ending with two consecutive quarters of GDP growth.\n",
    "* A _recession bottom_ is the quarter within a recession which had the lowest GDP.\n",
    "* A _university town_ is a city which has a high percentage of university students compared to the total population of the city.\n",
    "\n",
    "**Hypothesis**: University towns have their mean housing prices less effected by recessions. Run a t-test to compare the ratio of the mean price of houses in university towns the quarter before the recession starts compared to the recession bottom. (`price_ratio=quarter_before_recession/recession_bottom`)\n",
    "\n",
    "The following data files are available for this assignment:\n",
    "* From the [Zillow research data site](http://www.zillow.com/research/data/) there is housing data for the United States. In particular the datafile for [all homes at a city level](http://files.zillowstatic.com/research/public/City/City_Zhvi_AllHomes.csv), ```City_Zhvi_AllHomes.csv```, has median home sale prices at a fine grained level.\n",
    "* From the Wikipedia page on college towns is a list of [university towns in the United States](https://en.wikipedia.org/wiki/List_of_college_towns#College_towns_in_the_United_States) which has been copy and pasted into the file ```university_towns.txt```.\n",
    "* From Bureau of Economic Analysis, US Department of Commerce, the [GDP over time](http://www.bea.gov/national/index.htm#gdp) of the United States in current dollars (use the chained value in 2009 dollars), in quarterly intervals, in the file ```gdplev.xls```. For this assignment, only look at GDP data from the first quarter of 2000 onward.\n",
    "\n",
    "Each function in this assignment below is worth 10%, with the exception of ```run_ttest()```, which is worth 50%."
   ]
  },
  {
   "cell_type": "code",
   "execution_count": 2,
   "metadata": {
    "collapsed": true
   },
   "outputs": [],
   "source": [
    "# Use this dictionary to map state names to two letter acronyms\n",
    "states = {'OH': 'Ohio', 'KY': 'Kentucky', 'AS': 'American Samoa', 'NV': 'Nevada', 'WY': 'Wyoming', \n",
    "          'NA': 'National', 'AL': 'Alabama', 'MD': 'Maryland', 'AK': 'Alaska', 'UT': 'Utah', 'OR': 'Oregon', \n",
    "          'MT': 'Montana', 'IL': 'Illinois', 'TN': 'Tennessee', 'DC': 'District of Columbia', 'VT': 'Vermont', \n",
    "          'ID': 'Idaho', 'AR': 'Arkansas', 'ME': 'Maine', 'WA': 'Washington', 'HI': 'Hawaii', 'WI': 'Wisconsin',\n",
    "          'MI': 'Michigan', 'IN': 'Indiana', 'NJ': 'New Jersey', 'AZ': 'Arizona', 'GU': 'Guam', \n",
    "          'MS': 'Mississippi', 'PR': 'Puerto Rico', 'NC': 'North Carolina', 'TX': 'Texas', 'SD': 'South Dakota', \n",
    "          'MP': 'Northern Mariana Islands', 'IA': 'Iowa', 'MO': 'Missouri', 'CT': 'Connecticut', 'WV': 'West Virginia', \n",
    "          'SC': 'South Carolina', 'LA': 'Louisiana', 'KS': 'Kansas', 'NY': 'New York', 'NE': 'Nebraska', 'OK': 'Oklahoma', \n",
    "          'FL': 'Florida', 'CA': 'California', 'CO': 'Colorado', 'PA': 'Pennsylvania', 'DE': 'Delaware', \n",
    "          'NM': 'New Mexico', 'RI': 'Rhode Island', 'MN': 'Minnesota', 'VI': 'Virgin Islands', 'NH': 'New Hampshire', \n",
    "          'MA': 'Massachusetts', 'GA': 'Georgia', 'ND': 'North Dakota', 'VA': 'Virginia'}"
   ]
  },
  {
   "cell_type": "markdown",
   "metadata": {},
   "source": [
    "    Returns a DataFrame of towns and the states they are in from the \n",
    "    university_towns.txt list. The format of the DataFrame should be:\n",
    "    DataFrame( [ [\"Michigan\", \"Ann Arbor\"], [\"Michigan\", \"Yipsilanti\"] ], \n",
    "    columns=[\"State\", \"RegionName\"]  )\n",
    "    \n",
    "    The following cleaning needs to be done:\n",
    "\n",
    "    1. For \"State\", removing characters from \"[\" to the end.\n",
    "    2. For \"RegionName\", when applicable, removing every character from \" (\" to the end.\n",
    "    3. Depending on how you read the data, you may need to remove newline character '\\n'. "
   ]
  },
  {
   "cell_type": "code",
   "execution_count": 3,
   "metadata": {
    "collapsed": false
   },
   "outputs": [],
   "source": [
    "def get_list_of_university_towns():\n",
    "    #a={}\n",
    "    towns = pd.DataFrame(columns=['State', 'RegionName'])\n",
    "    with open('university_towns.txt','r') as file:\n",
    "        for line in file:\n",
    "            if '[edit]' in line:\n",
    "                state = line.replace('[edit]\\n', '')\n",
    "                #a[state] = []\n",
    "            else:\n",
    "                town = re.sub(' *\\(.*\\n', '', line)\n",
    "                #a[state].append(town) \n",
    "                df = pd.DataFrame([[state, town]], columns=['State', 'RegionName'])\n",
    "                towns = towns.append(df)\n",
    "    return towns"
   ]
  },
  {
   "cell_type": "code",
   "execution_count": 4,
   "metadata": {
    "collapsed": false
   },
   "outputs": [],
   "source": [
    "untow = pd.read_table('university_towns.txt', header = None, sep='[0-9]$', engine='python')"
   ]
  },
  {
   "cell_type": "code",
   "execution_count": 5,
   "metadata": {
    "collapsed": false
   },
   "outputs": [
    {
     "data": {
      "text/html": [
       "<div>\n",
       "<table border=\"1\" class=\"dataframe\">\n",
       "  <thead>\n",
       "    <tr style=\"text-align: right;\">\n",
       "      <th></th>\n",
       "      <th>0</th>\n",
       "    </tr>\n",
       "  </thead>\n",
       "  <tbody>\n",
       "    <tr>\n",
       "      <th>0</th>\n",
       "      <td>Alabama[edit]</td>\n",
       "    </tr>\n",
       "    <tr>\n",
       "      <th>1</th>\n",
       "      <td>Auburn (Auburn University)[1]</td>\n",
       "    </tr>\n",
       "    <tr>\n",
       "      <th>2</th>\n",
       "      <td>Florence (University of North Alabama)</td>\n",
       "    </tr>\n",
       "    <tr>\n",
       "      <th>3</th>\n",
       "      <td>Jacksonville (Jacksonville State University)[2]</td>\n",
       "    </tr>\n",
       "    <tr>\n",
       "      <th>4</th>\n",
       "      <td>Livingston (University of West Alabama)[2]</td>\n",
       "    </tr>\n",
       "  </tbody>\n",
       "</table>\n",
       "</div>"
      ],
      "text/plain": [
       "                                                 0\n",
       "0                                    Alabama[edit]\n",
       "1                    Auburn (Auburn University)[1]\n",
       "2           Florence (University of North Alabama)\n",
       "3  Jacksonville (Jacksonville State University)[2]\n",
       "4       Livingston (University of West Alabama)[2]"
      ]
     },
     "execution_count": 5,
     "metadata": {},
     "output_type": "execute_result"
    }
   ],
   "source": [
    "untow.head()"
   ]
  },
  {
   "cell_type": "code",
   "execution_count": 6,
   "metadata": {
    "collapsed": true
   },
   "outputs": [],
   "source": [
    "towns = pd.DataFrame(columns=['State', 'RegionName'])"
   ]
  },
  {
   "cell_type": "code",
   "execution_count": 7,
   "metadata": {
    "collapsed": false
   },
   "outputs": [],
   "source": [
    "a={}\n",
    "with open('university_towns.txt','r') as file:\n",
    "    for line in file:\n",
    "        if '[edit]' in line:\n",
    "            state = line.replace('[edit]\\n', '')\n",
    "            a[state] = []\n",
    "        else:\n",
    "            town = re.sub(' *\\(.*\\n', '', line)\n",
    "            a[state].append(town) \n",
    "            df = pd.DataFrame([[state, town]], columns=['State', 'RegionName'])\n",
    "            towns = towns.append(df)"
   ]
  },
  {
   "cell_type": "code",
   "execution_count": 8,
   "metadata": {
    "collapsed": false
   },
   "outputs": [
    {
     "data": {
      "text/html": [
       "<div>\n",
       "<table border=\"1\" class=\"dataframe\">\n",
       "  <thead>\n",
       "    <tr style=\"text-align: right;\">\n",
       "      <th></th>\n",
       "      <th>State</th>\n",
       "      <th>RegionName</th>\n",
       "    </tr>\n",
       "  </thead>\n",
       "  <tbody>\n",
       "    <tr>\n",
       "      <th>0</th>\n",
       "      <td>Alabama</td>\n",
       "      <td>Auburn</td>\n",
       "    </tr>\n",
       "    <tr>\n",
       "      <th>0</th>\n",
       "      <td>Alabama</td>\n",
       "      <td>Florence</td>\n",
       "    </tr>\n",
       "    <tr>\n",
       "      <th>0</th>\n",
       "      <td>Alabama</td>\n",
       "      <td>Jacksonville</td>\n",
       "    </tr>\n",
       "    <tr>\n",
       "      <th>0</th>\n",
       "      <td>Alabama</td>\n",
       "      <td>Livingston</td>\n",
       "    </tr>\n",
       "    <tr>\n",
       "      <th>0</th>\n",
       "      <td>Alabama</td>\n",
       "      <td>Montevallo</td>\n",
       "    </tr>\n",
       "  </tbody>\n",
       "</table>\n",
       "</div>"
      ],
      "text/plain": [
       "     State    RegionName\n",
       "0  Alabama        Auburn\n",
       "0  Alabama      Florence\n",
       "0  Alabama  Jacksonville\n",
       "0  Alabama    Livingston\n",
       "0  Alabama    Montevallo"
      ]
     },
     "execution_count": 8,
     "metadata": {},
     "output_type": "execute_result"
    }
   ],
   "source": [
    "#  classmethod DataFrame.from_dict(data, orient='columns', dtype=None)\n",
    "#towns = pd.DataFrame.from_dict(a, orient = 'columns')\n",
    "towns.head()"
   ]
  },
  {
   "cell_type": "code",
   "execution_count": 9,
   "metadata": {
    "collapsed": false
   },
   "outputs": [
    {
     "data": {
      "text/html": [
       "<div>\n",
       "<table border=\"1\" class=\"dataframe\">\n",
       "  <thead>\n",
       "    <tr style=\"text-align: right;\">\n",
       "      <th></th>\n",
       "      <th>State</th>\n",
       "      <th>RegionName</th>\n",
       "    </tr>\n",
       "  </thead>\n",
       "  <tbody>\n",
       "    <tr>\n",
       "      <th>0</th>\n",
       "      <td>Alabama</td>\n",
       "      <td>Auburn</td>\n",
       "    </tr>\n",
       "    <tr>\n",
       "      <th>0</th>\n",
       "      <td>Alabama</td>\n",
       "      <td>Florence</td>\n",
       "    </tr>\n",
       "    <tr>\n",
       "      <th>0</th>\n",
       "      <td>Alabama</td>\n",
       "      <td>Jacksonville</td>\n",
       "    </tr>\n",
       "    <tr>\n",
       "      <th>0</th>\n",
       "      <td>Alabama</td>\n",
       "      <td>Livingston</td>\n",
       "    </tr>\n",
       "    <tr>\n",
       "      <th>0</th>\n",
       "      <td>Alabama</td>\n",
       "      <td>Montevallo</td>\n",
       "    </tr>\n",
       "  </tbody>\n",
       "</table>\n",
       "</div>"
      ],
      "text/plain": [
       "     State    RegionName\n",
       "0  Alabama        Auburn\n",
       "0  Alabama      Florence\n",
       "0  Alabama  Jacksonville\n",
       "0  Alabama    Livingston\n",
       "0  Alabama    Montevallo"
      ]
     },
     "execution_count": 9,
     "metadata": {},
     "output_type": "execute_result"
    }
   ],
   "source": [
    "get_list_of_university_towns().head()"
   ]
  },
  {
   "cell_type": "markdown",
   "metadata": {},
   "source": [
    "Returns the year and quarter of the recession start time as a string value in a format such as 2005q3"
   ]
  },
  {
   "cell_type": "code",
   "execution_count": 10,
   "metadata": {
    "collapsed": false
   },
   "outputs": [],
   "source": [
    "def get_recession_start():\n",
    "    a=[]\n",
    "    data = pd.read_excel('gdplev.xlsx', skiprows=8, parse_cols=[4,5,6], header=None)\n",
    "    data.columns = ['YearQ', 'GDP1', 'GDP2']\n",
    "    for i in range (len(data)-3):\n",
    "        if data['GDP1'].iloc[i]<data['GDP1'].iloc[i+1] and data['GDP1'].iloc[i+1]>data['GDP1'].iloc[i+2] and data['GDP1'].iloc[i+2]>data['GDP1'].iloc[i+3]:\n",
    "            a.append(data['YearQ'].iloc[i+1])\n",
    "    return a"
   ]
  },
  {
   "cell_type": "code",
   "execution_count": 11,
   "metadata": {
    "collapsed": false
   },
   "outputs": [
    {
     "data": {
      "text/plain": [
       "['1948Q4', '1953Q2', '1957Q3', '2008Q3']"
      ]
     },
     "execution_count": 11,
     "metadata": {},
     "output_type": "execute_result"
    }
   ],
   "source": [
    "get_recession_start()"
   ]
  },
  {
   "cell_type": "markdown",
   "metadata": {},
   "source": [
    "### Additional materials, extract the Year and Quartal with regular expression"
   ]
  },
  {
   "cell_type": "code",
   "execution_count": 12,
   "metadata": {
    "collapsed": false
   },
   "outputs": [],
   "source": [
    "data = pd.read_excel('gdplev.xlsx', skiprows=8, parse_cols=[4,5,6], header=None)"
   ]
  },
  {
   "cell_type": "code",
   "execution_count": 13,
   "metadata": {
    "collapsed": false
   },
   "outputs": [
    {
     "data": {
      "text/html": [
       "<div>\n",
       "<table border=\"1\" class=\"dataframe\">\n",
       "  <thead>\n",
       "    <tr style=\"text-align: right;\">\n",
       "      <th></th>\n",
       "      <th>YearQ</th>\n",
       "      <th>GDP1</th>\n",
       "      <th>GDP2</th>\n",
       "    </tr>\n",
       "  </thead>\n",
       "  <tbody>\n",
       "    <tr>\n",
       "      <th>0</th>\n",
       "      <td>1947Q1</td>\n",
       "      <td>243.1</td>\n",
       "      <td>1934.5</td>\n",
       "    </tr>\n",
       "    <tr>\n",
       "      <th>1</th>\n",
       "      <td>1947Q2</td>\n",
       "      <td>246.3</td>\n",
       "      <td>1932.3</td>\n",
       "    </tr>\n",
       "    <tr>\n",
       "      <th>2</th>\n",
       "      <td>1947Q3</td>\n",
       "      <td>250.1</td>\n",
       "      <td>1930.3</td>\n",
       "    </tr>\n",
       "    <tr>\n",
       "      <th>3</th>\n",
       "      <td>1947Q4</td>\n",
       "      <td>260.3</td>\n",
       "      <td>1960.7</td>\n",
       "    </tr>\n",
       "    <tr>\n",
       "      <th>4</th>\n",
       "      <td>1948Q1</td>\n",
       "      <td>266.2</td>\n",
       "      <td>1989.5</td>\n",
       "    </tr>\n",
       "  </tbody>\n",
       "</table>\n",
       "</div>"
      ],
      "text/plain": [
       "    YearQ   GDP1    GDP2\n",
       "0  1947Q1  243.1  1934.5\n",
       "1  1947Q2  246.3  1932.3\n",
       "2  1947Q3  250.1  1930.3\n",
       "3  1947Q4  260.3  1960.7\n",
       "4  1948Q1  266.2  1989.5"
      ]
     },
     "execution_count": 13,
     "metadata": {},
     "output_type": "execute_result"
    }
   ],
   "source": [
    "data.columns = ['YearQ', 'GDP1', 'GDP2']\n",
    "data.head()"
   ]
  },
  {
   "cell_type": "code",
   "execution_count": 14,
   "metadata": {
    "collapsed": false
   },
   "outputs": [],
   "source": [
    "data['Year'] = data['YearQ'].map(lambda x: int(re.findall('(.*)Q', x)[0]))\n",
    "data['Quart'] = data['YearQ'].map(lambda x: int(re.findall('.*Q([1-4])', x)[0]))\n",
    "data = data[['YearQ','Year', 'Quart', 'GDP1', 'GDP2']]"
   ]
  },
  {
   "cell_type": "code",
   "execution_count": 15,
   "metadata": {
    "collapsed": false
   },
   "outputs": [
    {
     "data": {
      "text/html": [
       "<div>\n",
       "<table border=\"1\" class=\"dataframe\">\n",
       "  <thead>\n",
       "    <tr style=\"text-align: right;\">\n",
       "      <th></th>\n",
       "      <th>YearQ</th>\n",
       "      <th>Year</th>\n",
       "      <th>Quart</th>\n",
       "      <th>GDP1</th>\n",
       "      <th>GDP2</th>\n",
       "    </tr>\n",
       "  </thead>\n",
       "  <tbody>\n",
       "    <tr>\n",
       "      <th>0</th>\n",
       "      <td>1947Q1</td>\n",
       "      <td>1947</td>\n",
       "      <td>1</td>\n",
       "      <td>243.1</td>\n",
       "      <td>1934.5</td>\n",
       "    </tr>\n",
       "    <tr>\n",
       "      <th>1</th>\n",
       "      <td>1947Q2</td>\n",
       "      <td>1947</td>\n",
       "      <td>2</td>\n",
       "      <td>246.3</td>\n",
       "      <td>1932.3</td>\n",
       "    </tr>\n",
       "    <tr>\n",
       "      <th>2</th>\n",
       "      <td>1947Q3</td>\n",
       "      <td>1947</td>\n",
       "      <td>3</td>\n",
       "      <td>250.1</td>\n",
       "      <td>1930.3</td>\n",
       "    </tr>\n",
       "    <tr>\n",
       "      <th>3</th>\n",
       "      <td>1947Q4</td>\n",
       "      <td>1947</td>\n",
       "      <td>4</td>\n",
       "      <td>260.3</td>\n",
       "      <td>1960.7</td>\n",
       "    </tr>\n",
       "    <tr>\n",
       "      <th>4</th>\n",
       "      <td>1948Q1</td>\n",
       "      <td>1948</td>\n",
       "      <td>1</td>\n",
       "      <td>266.2</td>\n",
       "      <td>1989.5</td>\n",
       "    </tr>\n",
       "  </tbody>\n",
       "</table>\n",
       "</div>"
      ],
      "text/plain": [
       "    YearQ  Year  Quart   GDP1    GDP2\n",
       "0  1947Q1  1947      1  243.1  1934.5\n",
       "1  1947Q2  1947      2  246.3  1932.3\n",
       "2  1947Q3  1947      3  250.1  1930.3\n",
       "3  1947Q4  1947      4  260.3  1960.7\n",
       "4  1948Q1  1948      1  266.2  1989.5"
      ]
     },
     "execution_count": 15,
     "metadata": {},
     "output_type": "execute_result"
    }
   ],
   "source": [
    "data.head()"
   ]
  },
  {
   "cell_type": "code",
   "execution_count": 16,
   "metadata": {
    "collapsed": true
   },
   "outputs": [],
   "source": [
    "#data['r'].map(lambda x: int(re.findall('(.*)Q', x)[0]))\n",
    "a=np.array(data['GDP1'])"
   ]
  },
  {
   "cell_type": "code",
   "execution_count": 17,
   "metadata": {
    "collapsed": false
   },
   "outputs": [],
   "source": [
    "b = np.array(a[0])\n",
    "b = np.hstack((b, a[:-1]))\n",
    "c = a-b\n",
    "c[c<0] = -1\n",
    "c[c>=0] = 0"
   ]
  },
  {
   "cell_type": "code",
   "execution_count": 18,
   "metadata": {
    "collapsed": false
   },
   "outputs": [],
   "source": [
    "data['delta'] = c"
   ]
  },
  {
   "cell_type": "code",
   "execution_count": 19,
   "metadata": {
    "collapsed": false
   },
   "outputs": [
    {
     "data": {
      "text/html": [
       "<div>\n",
       "<table border=\"1\" class=\"dataframe\">\n",
       "  <thead>\n",
       "    <tr style=\"text-align: right;\">\n",
       "      <th></th>\n",
       "      <th>YearQ</th>\n",
       "      <th>Year</th>\n",
       "      <th>Quart</th>\n",
       "      <th>GDP1</th>\n",
       "      <th>GDP2</th>\n",
       "      <th>delta</th>\n",
       "    </tr>\n",
       "  </thead>\n",
       "  <tbody>\n",
       "    <tr>\n",
       "      <th>0</th>\n",
       "      <td>1947Q1</td>\n",
       "      <td>1947</td>\n",
       "      <td>1</td>\n",
       "      <td>243.1</td>\n",
       "      <td>1934.5</td>\n",
       "      <td>0.0</td>\n",
       "    </tr>\n",
       "    <tr>\n",
       "      <th>1</th>\n",
       "      <td>1947Q2</td>\n",
       "      <td>1947</td>\n",
       "      <td>2</td>\n",
       "      <td>246.3</td>\n",
       "      <td>1932.3</td>\n",
       "      <td>0.0</td>\n",
       "    </tr>\n",
       "    <tr>\n",
       "      <th>2</th>\n",
       "      <td>1947Q3</td>\n",
       "      <td>1947</td>\n",
       "      <td>3</td>\n",
       "      <td>250.1</td>\n",
       "      <td>1930.3</td>\n",
       "      <td>0.0</td>\n",
       "    </tr>\n",
       "    <tr>\n",
       "      <th>3</th>\n",
       "      <td>1947Q4</td>\n",
       "      <td>1947</td>\n",
       "      <td>4</td>\n",
       "      <td>260.3</td>\n",
       "      <td>1960.7</td>\n",
       "      <td>0.0</td>\n",
       "    </tr>\n",
       "    <tr>\n",
       "      <th>4</th>\n",
       "      <td>1948Q1</td>\n",
       "      <td>1948</td>\n",
       "      <td>1</td>\n",
       "      <td>266.2</td>\n",
       "      <td>1989.5</td>\n",
       "      <td>0.0</td>\n",
       "    </tr>\n",
       "  </tbody>\n",
       "</table>\n",
       "</div>"
      ],
      "text/plain": [
       "    YearQ  Year  Quart   GDP1    GDP2  delta\n",
       "0  1947Q1  1947      1  243.1  1934.5    0.0\n",
       "1  1947Q2  1947      2  246.3  1932.3    0.0\n",
       "2  1947Q3  1947      3  250.1  1930.3    0.0\n",
       "3  1947Q4  1947      4  260.3  1960.7    0.0\n",
       "4  1948Q1  1948      1  266.2  1989.5    0.0"
      ]
     },
     "execution_count": 19,
     "metadata": {},
     "output_type": "execute_result"
    }
   ],
   "source": [
    "data.head()"
   ]
  },
  {
   "cell_type": "code",
   "execution_count": 20,
   "metadata": {
    "collapsed": false
   },
   "outputs": [
    {
     "name": "stdout",
     "output_type": "stream",
     "text": [
      "1949Q1\n",
      "1953Q3\n",
      "1957Q4\n",
      "2008Q4\n"
     ]
    }
   ],
   "source": [
    "for i in range (c.shape[0]-2):\n",
    "    if c[i]==0 and c[i+1]==-1 and c[i+2]==-1:\n",
    "        print(data['YearQ'].iloc[i+1])"
   ]
  },
  {
   "cell_type": "code",
   "execution_count": 21,
   "metadata": {
    "collapsed": false,
    "scrolled": true
   },
   "outputs": [
    {
     "data": {
      "text/plain": [
       "array([ 0.,  0.,  0.,  0.,  0.,  0.,  0.,  0., -1., -1.,  0., -1.,  0.,\n",
       "        0.,  0.,  0.,  0.,  0.,  0.,  0.,  0.,  0.,  0.,  0.,  0.,  0.,\n",
       "       -1., -1., -1.,  0.,  0.,  0.,  0.,  0.,  0.,  0.,  0.,  0.,  0.,\n",
       "        0.,  0.,  0.,  0., -1., -1.,  0.,  0.,  0.,  0.,  0.,  0.,  0.,\n",
       "        0., -1.,  0., -1.,  0.,  0.,  0.,  0.,  0.,  0.,  0.,  0.,  0.,\n",
       "        0.,  0.,  0.,  0.,  0.,  0.,  0.,  0.,  0.,  0.,  0.,  0.,  0.,\n",
       "        0.,  0.,  0.,  0.,  0.,  0.,  0.,  0.,  0.,  0.,  0.,  0.,  0.,\n",
       "        0.,  0.,  0.,  0.,  0.,  0.,  0.,  0.,  0.,  0.,  0.,  0.,  0.,\n",
       "        0.,  0.,  0.,  0.,  0.,  0.,  0.,  0.,  0.,  0.,  0.,  0.,  0.,\n",
       "        0.,  0.,  0.,  0.,  0.,  0.,  0.,  0.,  0.,  0.,  0.,  0.,  0.,\n",
       "        0.,  0.,  0.,  0.,  0.,  0.,  0.,  0.,  0.,  0., -1.,  0.,  0.,\n",
       "        0.,  0.,  0.,  0.,  0.,  0.,  0.,  0.,  0.,  0.,  0.,  0.,  0.,\n",
       "        0.,  0.,  0.,  0.,  0.,  0.,  0.,  0.,  0.,  0.,  0.,  0.,  0.,\n",
       "        0.,  0.,  0.,  0.,  0.,  0., -1.,  0.,  0.,  0.,  0.,  0.,  0.,\n",
       "        0.,  0.,  0.,  0.,  0.,  0.,  0.,  0.,  0.,  0.,  0.,  0.,  0.,\n",
       "        0.,  0.,  0.,  0.,  0.,  0.,  0.,  0.,  0.,  0.,  0.,  0.,  0.,\n",
       "        0.,  0.,  0.,  0.,  0.,  0.,  0.,  0.,  0.,  0.,  0.,  0.,  0.,\n",
       "        0.,  0.,  0.,  0.,  0.,  0.,  0.,  0.,  0.,  0.,  0.,  0.,  0.,\n",
       "        0.,  0.,  0.,  0.,  0.,  0.,  0.,  0.,  0.,  0., -1.,  0.,  0.,\n",
       "       -1., -1., -1.,  0.,  0.,  0.,  0.,  0.,  0.,  0.,  0.,  0.,  0.,\n",
       "        0.,  0.,  0.,  0.,  0.,  0.,  0.,  0.,  0.,  0.,  0.,  0.,  0.,\n",
       "        0.,  0.,  0.,  0.,  0.,  0.,  0.,  0.,  0.,  0.,  0.,  0.])"
      ]
     },
     "execution_count": 21,
     "metadata": {},
     "output_type": "execute_result"
    }
   ],
   "source": [
    "c"
   ]
  },
  {
   "cell_type": "code",
   "execution_count": 22,
   "metadata": {
    "collapsed": false
   },
   "outputs": [
    {
     "data": {
      "text/html": [
       "<div>\n",
       "<table border=\"1\" class=\"dataframe\">\n",
       "  <thead>\n",
       "    <tr style=\"text-align: right;\">\n",
       "      <th></th>\n",
       "      <th>YearQ</th>\n",
       "      <th>Year</th>\n",
       "      <th>Quart</th>\n",
       "      <th>GDP1</th>\n",
       "      <th>GDP2</th>\n",
       "      <th>delta</th>\n",
       "    </tr>\n",
       "  </thead>\n",
       "  <tbody>\n",
       "    <tr>\n",
       "      <th>246</th>\n",
       "      <td>2008Q3</td>\n",
       "      <td>2008</td>\n",
       "      <td>3</td>\n",
       "      <td>14843.0</td>\n",
       "      <td>14891.6</td>\n",
       "      <td>0.0</td>\n",
       "    </tr>\n",
       "    <tr>\n",
       "      <th>247</th>\n",
       "      <td>2008Q4</td>\n",
       "      <td>2008</td>\n",
       "      <td>4</td>\n",
       "      <td>14549.9</td>\n",
       "      <td>14577.0</td>\n",
       "      <td>-1.0</td>\n",
       "    </tr>\n",
       "    <tr>\n",
       "      <th>248</th>\n",
       "      <td>2009Q1</td>\n",
       "      <td>2009</td>\n",
       "      <td>1</td>\n",
       "      <td>14383.9</td>\n",
       "      <td>14375.0</td>\n",
       "      <td>-1.0</td>\n",
       "    </tr>\n",
       "    <tr>\n",
       "      <th>249</th>\n",
       "      <td>2009Q2</td>\n",
       "      <td>2009</td>\n",
       "      <td>2</td>\n",
       "      <td>14340.4</td>\n",
       "      <td>14355.6</td>\n",
       "      <td>-1.0</td>\n",
       "    </tr>\n",
       "  </tbody>\n",
       "</table>\n",
       "</div>"
      ],
      "text/plain": [
       "      YearQ  Year  Quart     GDP1     GDP2  delta\n",
       "246  2008Q3  2008      3  14843.0  14891.6    0.0\n",
       "247  2008Q4  2008      4  14549.9  14577.0   -1.0\n",
       "248  2009Q1  2009      1  14383.9  14375.0   -1.0\n",
       "249  2009Q2  2009      2  14340.4  14355.6   -1.0"
      ]
     },
     "execution_count": 22,
     "metadata": {},
     "output_type": "execute_result"
    }
   ],
   "source": [
    "data.iloc[246:250]"
   ]
  },
  {
   "cell_type": "markdown",
   "metadata": {
    "collapsed": true
   },
   "source": [
    "## Returns the year and quarter of the recession end time as a string value in a format such as 2005q3\n"
   ]
  },
  {
   "cell_type": "code",
   "execution_count": 23,
   "metadata": {
    "collapsed": false
   },
   "outputs": [],
   "source": [
    "def get_recession_end():\n",
    "    a=[]\n",
    "    data = pd.read_excel('gdplev.xlsx', skiprows=8, parse_cols=[4,5,6], header=None)\n",
    "    data.columns = ['YearQ', 'GDP1', 'GDP2']\n",
    "    for i in range (len(data)-4):\n",
    "        if data['GDP1'].iloc[i]>data['GDP1'].iloc[i+1] and data['GDP1'].iloc[i+1]>data['GDP1'].iloc[i+2] and data['GDP1'].iloc[i+2]<data['GDP1'].iloc[i+3] and data['GDP1'].iloc[i+3]<data['GDP1'].iloc[i+4]:\n",
    "            a.append(data['YearQ'].iloc[i+4])\n",
    "            print(i+4)\n",
    "    return a"
   ]
  },
  {
   "cell_type": "code",
   "execution_count": 24,
   "metadata": {
    "collapsed": false
   },
   "outputs": [
    {
     "name": "stdout",
     "output_type": "stream",
     "text": [
      "30\n",
      "46\n",
      "251\n"
     ]
    },
    {
     "data": {
      "text/plain": [
       "['1954Q3', '1958Q3', '2009Q4']"
      ]
     },
     "execution_count": 24,
     "metadata": {},
     "output_type": "execute_result"
    }
   ],
   "source": [
    "get_recession_end()"
   ]
  },
  {
   "cell_type": "markdown",
   "metadata": {},
   "source": [
    "## Returns the year and quarter of the recession bottom time as a string value in a format such as 2005q3'''"
   ]
  },
  {
   "cell_type": "code",
   "execution_count": 25,
   "metadata": {
    "collapsed": true
   },
   "outputs": [],
   "source": [
    "# I am going to fing a min GDP between recession starts\n",
    "def get_recession_bottom():\n",
    "    # get recession start number in the list\n",
    "    a=[]\n",
    "    data = pd.read_excel('gdplev.xlsx', skiprows=8, parse_cols=[4,5,6], header=None)\n",
    "    data.columns = ['YearQ', 'GDP1', 'GDP2']\n",
    "    for i in range (len(data)-3):\n",
    "        if data['GDP1'].iloc[i]<data['GDP1'].iloc[i+1] and data['GDP1'].iloc[i+1]>data['GDP1'].iloc[i+2] and data['GDP1'].iloc[i+2]>data['GDP1'].iloc[i+3]:\n",
    "            a.append(i)\n",
    "    a = [0]+a+[len(data)]\n",
    "    # we can print the numbers of starts in the next raw (not active now)\n",
    "    #print(a) \n",
    "    # find the min GDP between two recession starts\n",
    "    c=[]\n",
    "    for i in range (len(a)-1):\n",
    "        data1 = data.iloc[a[i]:a[i+1]+1]\n",
    "        c.append(data1.YearQ[data1['GDP1']==data1['GDP1'].min()].iloc[0])\n",
    "    # In the answer exclude the first item since we do not know whether there was a start of recession\n",
    "    return c[1:]"
   ]
  },
  {
   "cell_type": "code",
   "execution_count": 26,
   "metadata": {
    "collapsed": false
   },
   "outputs": [
    {
     "data": {
      "text/plain": [
       "['1949Q4', '1954Q1', '1958Q1', '2009Q2']"
      ]
     },
     "execution_count": 26,
     "metadata": {},
     "output_type": "execute_result"
    }
   ],
   "source": [
    "get_recession_bottom()"
   ]
  },
  {
   "cell_type": "code",
   "execution_count": 27,
   "metadata": {
    "collapsed": false
   },
   "outputs": [],
   "source": [
    "def convert_housing_data_to_quarters():\n",
    "    '''Converts the housing data to quarters and returns it as mean \n",
    "    values in a dataframe. This dataframe should be a dataframe with\n",
    "    columns for 2000q1 through 2016q3, and should have a multi-index\n",
    "    in the shape of [\"State\",\"RegionName\"].\n",
    "    \n",
    "    Note: Quarters are defined in the assignment description, they are\n",
    "    not arbitrary three month periods.\n",
    "    \n",
    "    The resulting dataframe should have 67 columns, and 10,730 rows.\n",
    "    '''\n",
    "    data = pd.read_csv('City_Zhvi_AllHomes.csv')\n",
    "    # Replace state names\n",
    "    data[\"State\"].replace(states, inplace = True)\n",
    "    data.set_index(['State','RegionName'], inplace=True, drop=True)\n",
    "    # Exclude not necessary columns\n",
    "    data = data.loc[:,'2000-01':'2016-09']\n",
    "    # convert column index to datetime and to the format with quarter\n",
    "    data.columns = data.columns.to_datetime()\n",
    "    data.columns = data.columns.to_period(\"Q\")\n",
    "    a=data.columns\n",
    "    data.columns = a.strftime('%FQ%q')\n",
    "    # Group data by column names\n",
    "    housing = data.groupby(data.columns, axis = 1).mean()\n",
    "    # format a numbers with two digits after comma\n",
    "    housing = housing.applymap(\"{0:.2f}\".format)\n",
    "    housing = housing.astype(float)\n",
    "    \n",
    "    return housing"
   ]
  },
  {
   "cell_type": "code",
   "execution_count": 28,
   "metadata": {
    "collapsed": false
   },
   "outputs": [
    {
     "data": {
      "text/html": [
       "<div>\n",
       "<table border=\"1\" class=\"dataframe\">\n",
       "  <thead>\n",
       "    <tr style=\"text-align: right;\">\n",
       "      <th></th>\n",
       "      <th></th>\n",
       "      <th>2000Q1</th>\n",
       "      <th>2000Q2</th>\n",
       "      <th>2000Q3</th>\n",
       "      <th>2000Q4</th>\n",
       "      <th>2001Q1</th>\n",
       "      <th>2001Q2</th>\n",
       "      <th>2001Q3</th>\n",
       "      <th>2001Q4</th>\n",
       "      <th>2002Q1</th>\n",
       "      <th>2002Q2</th>\n",
       "      <th>...</th>\n",
       "      <th>2014Q2</th>\n",
       "      <th>2014Q3</th>\n",
       "      <th>2014Q4</th>\n",
       "      <th>2015Q1</th>\n",
       "      <th>2015Q2</th>\n",
       "      <th>2015Q3</th>\n",
       "      <th>2015Q4</th>\n",
       "      <th>2016Q1</th>\n",
       "      <th>2016Q2</th>\n",
       "      <th>2016Q3</th>\n",
       "    </tr>\n",
       "    <tr>\n",
       "      <th>State</th>\n",
       "      <th>RegionName</th>\n",
       "      <th></th>\n",
       "      <th></th>\n",
       "      <th></th>\n",
       "      <th></th>\n",
       "      <th></th>\n",
       "      <th></th>\n",
       "      <th></th>\n",
       "      <th></th>\n",
       "      <th></th>\n",
       "      <th></th>\n",
       "      <th></th>\n",
       "      <th></th>\n",
       "      <th></th>\n",
       "      <th></th>\n",
       "      <th></th>\n",
       "      <th></th>\n",
       "      <th></th>\n",
       "      <th></th>\n",
       "      <th></th>\n",
       "      <th></th>\n",
       "      <th></th>\n",
       "    </tr>\n",
       "  </thead>\n",
       "  <tbody>\n",
       "    <tr>\n",
       "      <th>New York</th>\n",
       "      <th>New York</th>\n",
       "      <td>222048.00</td>\n",
       "      <td>231067.33</td>\n",
       "      <td>239686.00</td>\n",
       "      <td>248334.00</td>\n",
       "      <td>257128.33</td>\n",
       "      <td>266202.00</td>\n",
       "      <td>274140.33</td>\n",
       "      <td>282633.00</td>\n",
       "      <td>288250.67</td>\n",
       "      <td>282882.33</td>\n",
       "      <td>...</td>\n",
       "      <td>504578.67</td>\n",
       "      <td>514086.67</td>\n",
       "      <td>522221.00</td>\n",
       "      <td>530637.67</td>\n",
       "      <td>540241.00</td>\n",
       "      <td>550108.33</td>\n",
       "      <td>559214.67</td>\n",
       "      <td>568415.00</td>\n",
       "      <td>576374.00</td>\n",
       "      <td>584177.00</td>\n",
       "    </tr>\n",
       "    <tr>\n",
       "      <th>California</th>\n",
       "      <th>Los Angeles</th>\n",
       "      <td>211069.33</td>\n",
       "      <td>218402.00</td>\n",
       "      <td>225263.67</td>\n",
       "      <td>231445.33</td>\n",
       "      <td>238111.33</td>\n",
       "      <td>245102.67</td>\n",
       "      <td>252395.67</td>\n",
       "      <td>260720.67</td>\n",
       "      <td>270764.33</td>\n",
       "      <td>282815.33</td>\n",
       "      <td>...</td>\n",
       "      <td>490171.33</td>\n",
       "      <td>502080.33</td>\n",
       "      <td>509342.00</td>\n",
       "      <td>520398.67</td>\n",
       "      <td>532149.00</td>\n",
       "      <td>540818.67</td>\n",
       "      <td>552514.33</td>\n",
       "      <td>564991.67</td>\n",
       "      <td>574973.33</td>\n",
       "      <td>587002.67</td>\n",
       "    </tr>\n",
       "    <tr>\n",
       "      <th>Illinois</th>\n",
       "      <th>Chicago</th>\n",
       "      <td>144396.33</td>\n",
       "      <td>150046.33</td>\n",
       "      <td>155931.67</td>\n",
       "      <td>161776.67</td>\n",
       "      <td>166541.67</td>\n",
       "      <td>168864.33</td>\n",
       "      <td>173347.00</td>\n",
       "      <td>179546.00</td>\n",
       "      <td>184872.33</td>\n",
       "      <td>189735.00</td>\n",
       "      <td>...</td>\n",
       "      <td>184661.67</td>\n",
       "      <td>187220.00</td>\n",
       "      <td>190557.67</td>\n",
       "      <td>193443.33</td>\n",
       "      <td>198347.67</td>\n",
       "      <td>200033.67</td>\n",
       "      <td>202756.33</td>\n",
       "      <td>205513.00</td>\n",
       "      <td>209510.67</td>\n",
       "      <td>212945.67</td>\n",
       "    </tr>\n",
       "    <tr>\n",
       "      <th>Texas</th>\n",
       "      <th>Houston</th>\n",
       "      <td>106602.33</td>\n",
       "      <td>106375.67</td>\n",
       "      <td>106136.67</td>\n",
       "      <td>106816.00</td>\n",
       "      <td>106766.67</td>\n",
       "      <td>107097.33</td>\n",
       "      <td>108194.67</td>\n",
       "      <td>109738.67</td>\n",
       "      <td>110623.33</td>\n",
       "      <td>111215.33</td>\n",
       "      <td>...</td>\n",
       "      <td>126781.67</td>\n",
       "      <td>129350.67</td>\n",
       "      <td>132421.67</td>\n",
       "      <td>135431.33</td>\n",
       "      <td>139072.00</td>\n",
       "      <td>141771.33</td>\n",
       "      <td>144408.67</td>\n",
       "      <td>147913.67</td>\n",
       "      <td>151409.67</td>\n",
       "      <td>155948.00</td>\n",
       "    </tr>\n",
       "    <tr>\n",
       "      <th>Pennsylvania</th>\n",
       "      <th>Philadelphia</th>\n",
       "      <td>51655.00</td>\n",
       "      <td>52764.33</td>\n",
       "      <td>53640.33</td>\n",
       "      <td>54395.33</td>\n",
       "      <td>55100.33</td>\n",
       "      <td>55999.33</td>\n",
       "      <td>56512.33</td>\n",
       "      <td>57636.33</td>\n",
       "      <td>59343.67</td>\n",
       "      <td>61024.67</td>\n",
       "      <td>...</td>\n",
       "      <td>102280.00</td>\n",
       "      <td>103385.67</td>\n",
       "      <td>104821.00</td>\n",
       "      <td>105649.67</td>\n",
       "      <td>107148.00</td>\n",
       "      <td>108451.33</td>\n",
       "      <td>108780.67</td>\n",
       "      <td>109656.67</td>\n",
       "      <td>112880.33</td>\n",
       "      <td>117774.33</td>\n",
       "    </tr>\n",
       "  </tbody>\n",
       "</table>\n",
       "<p>5 rows × 67 columns</p>\n",
       "</div>"
      ],
      "text/plain": [
       "                              2000Q1     2000Q2     2000Q3     2000Q4  \\\n",
       "State        RegionName                                                 \n",
       "New York     New York      222048.00  231067.33  239686.00  248334.00   \n",
       "California   Los Angeles   211069.33  218402.00  225263.67  231445.33   \n",
       "Illinois     Chicago       144396.33  150046.33  155931.67  161776.67   \n",
       "Texas        Houston       106602.33  106375.67  106136.67  106816.00   \n",
       "Pennsylvania Philadelphia   51655.00   52764.33   53640.33   54395.33   \n",
       "\n",
       "                              2001Q1     2001Q2     2001Q3     2001Q4  \\\n",
       "State        RegionName                                                 \n",
       "New York     New York      257128.33  266202.00  274140.33  282633.00   \n",
       "California   Los Angeles   238111.33  245102.67  252395.67  260720.67   \n",
       "Illinois     Chicago       166541.67  168864.33  173347.00  179546.00   \n",
       "Texas        Houston       106766.67  107097.33  108194.67  109738.67   \n",
       "Pennsylvania Philadelphia   55100.33   55999.33   56512.33   57636.33   \n",
       "\n",
       "                              2002Q1     2002Q2    ...         2014Q2  \\\n",
       "State        RegionName                            ...                  \n",
       "New York     New York      288250.67  282882.33    ...      504578.67   \n",
       "California   Los Angeles   270764.33  282815.33    ...      490171.33   \n",
       "Illinois     Chicago       184872.33  189735.00    ...      184661.67   \n",
       "Texas        Houston       110623.33  111215.33    ...      126781.67   \n",
       "Pennsylvania Philadelphia   59343.67   61024.67    ...      102280.00   \n",
       "\n",
       "                              2014Q3     2014Q4     2015Q1     2015Q2  \\\n",
       "State        RegionName                                                 \n",
       "New York     New York      514086.67  522221.00  530637.67  540241.00   \n",
       "California   Los Angeles   502080.33  509342.00  520398.67  532149.00   \n",
       "Illinois     Chicago       187220.00  190557.67  193443.33  198347.67   \n",
       "Texas        Houston       129350.67  132421.67  135431.33  139072.00   \n",
       "Pennsylvania Philadelphia  103385.67  104821.00  105649.67  107148.00   \n",
       "\n",
       "                              2015Q3     2015Q4     2016Q1     2016Q2  \\\n",
       "State        RegionName                                                 \n",
       "New York     New York      550108.33  559214.67  568415.00  576374.00   \n",
       "California   Los Angeles   540818.67  552514.33  564991.67  574973.33   \n",
       "Illinois     Chicago       200033.67  202756.33  205513.00  209510.67   \n",
       "Texas        Houston       141771.33  144408.67  147913.67  151409.67   \n",
       "Pennsylvania Philadelphia  108451.33  108780.67  109656.67  112880.33   \n",
       "\n",
       "                              2016Q3  \n",
       "State        RegionName               \n",
       "New York     New York      584177.00  \n",
       "California   Los Angeles   587002.67  \n",
       "Illinois     Chicago       212945.67  \n",
       "Texas        Houston       155948.00  \n",
       "Pennsylvania Philadelphia  117774.33  \n",
       "\n",
       "[5 rows x 67 columns]"
      ]
     },
     "execution_count": 28,
     "metadata": {},
     "output_type": "execute_result"
    }
   ],
   "source": [
    "convert_housing_data_to_quarters().head()"
   ]
  },
  {
   "cell_type": "markdown",
   "metadata": {},
   "source": [
    "### Additional materials"
   ]
  },
  {
   "cell_type": "code",
   "execution_count": 29,
   "metadata": {
    "collapsed": false
   },
   "outputs": [],
   "source": [
    "data = pd.read_csv('City_Zhvi_AllHomes.csv')"
   ]
  },
  {
   "cell_type": "code",
   "execution_count": 30,
   "metadata": {
    "collapsed": false
   },
   "outputs": [
    {
     "data": {
      "text/plain": [
       "(12454, 270)"
      ]
     },
     "execution_count": 30,
     "metadata": {},
     "output_type": "execute_result"
    }
   ],
   "source": [
    "data.shape"
   ]
  },
  {
   "cell_type": "code",
   "execution_count": 31,
   "metadata": {
    "collapsed": false
   },
   "outputs": [],
   "source": [
    "# Replace state names\n",
    "data[\"State\"].replace(states, inplace = True)"
   ]
  },
  {
   "cell_type": "code",
   "execution_count": 32,
   "metadata": {
    "collapsed": false
   },
   "outputs": [],
   "source": [
    "data.set_index(['State','RegionName'], inplace=True, drop=True)"
   ]
  },
  {
   "cell_type": "code",
   "execution_count": 33,
   "metadata": {
    "collapsed": false
   },
   "outputs": [
    {
     "data": {
      "text/html": [
       "<div>\n",
       "<table border=\"1\" class=\"dataframe\">\n",
       "  <thead>\n",
       "    <tr style=\"text-align: right;\">\n",
       "      <th></th>\n",
       "      <th></th>\n",
       "      <th>RegionID</th>\n",
       "      <th>Metro</th>\n",
       "      <th>CountyName</th>\n",
       "      <th>SizeRank</th>\n",
       "      <th>1996-04</th>\n",
       "      <th>1996-05</th>\n",
       "      <th>1996-06</th>\n",
       "      <th>1996-07</th>\n",
       "      <th>1996-08</th>\n",
       "      <th>1996-09</th>\n",
       "      <th>...</th>\n",
       "      <th>2017-06</th>\n",
       "      <th>2017-07</th>\n",
       "      <th>2017-08</th>\n",
       "      <th>2017-09</th>\n",
       "      <th>2017-10</th>\n",
       "      <th>2017-11</th>\n",
       "      <th>2017-12</th>\n",
       "      <th>2018-01</th>\n",
       "      <th>2018-02</th>\n",
       "      <th>2018-03</th>\n",
       "    </tr>\n",
       "    <tr>\n",
       "      <th>State</th>\n",
       "      <th>RegionName</th>\n",
       "      <th></th>\n",
       "      <th></th>\n",
       "      <th></th>\n",
       "      <th></th>\n",
       "      <th></th>\n",
       "      <th></th>\n",
       "      <th></th>\n",
       "      <th></th>\n",
       "      <th></th>\n",
       "      <th></th>\n",
       "      <th></th>\n",
       "      <th></th>\n",
       "      <th></th>\n",
       "      <th></th>\n",
       "      <th></th>\n",
       "      <th></th>\n",
       "      <th></th>\n",
       "      <th></th>\n",
       "      <th></th>\n",
       "      <th></th>\n",
       "      <th></th>\n",
       "    </tr>\n",
       "  </thead>\n",
       "  <tbody>\n",
       "    <tr>\n",
       "      <th>New York</th>\n",
       "      <th>New York</th>\n",
       "      <td>6181</td>\n",
       "      <td>New York</td>\n",
       "      <td>Queens</td>\n",
       "      <td>1</td>\n",
       "      <td>169892.0</td>\n",
       "      <td>170502.0</td>\n",
       "      <td>170709.0</td>\n",
       "      <td>170832.0</td>\n",
       "      <td>171053.0</td>\n",
       "      <td>171145.0</td>\n",
       "      <td>...</td>\n",
       "      <td>631469</td>\n",
       "      <td>636652</td>\n",
       "      <td>640977</td>\n",
       "      <td>644589</td>\n",
       "      <td>647839</td>\n",
       "      <td>650434</td>\n",
       "      <td>651823</td>\n",
       "      <td>653102</td>\n",
       "      <td>654248</td>\n",
       "      <td>655109</td>\n",
       "    </tr>\n",
       "    <tr>\n",
       "      <th>California</th>\n",
       "      <th>Los Angeles</th>\n",
       "      <td>12447</td>\n",
       "      <td>Los Angeles-Long Beach-Anaheim</td>\n",
       "      <td>Los Angeles</td>\n",
       "      <td>2</td>\n",
       "      <td>158338.0</td>\n",
       "      <td>157973.0</td>\n",
       "      <td>157641.0</td>\n",
       "      <td>157425.0</td>\n",
       "      <td>157296.0</td>\n",
       "      <td>157227.0</td>\n",
       "      <td>...</td>\n",
       "      <td>626646</td>\n",
       "      <td>630765</td>\n",
       "      <td>635642</td>\n",
       "      <td>641292</td>\n",
       "      <td>646730</td>\n",
       "      <td>651828</td>\n",
       "      <td>657699</td>\n",
       "      <td>664107</td>\n",
       "      <td>669843</td>\n",
       "      <td>674140</td>\n",
       "    </tr>\n",
       "    <tr>\n",
       "      <th>Illinois</th>\n",
       "      <th>Chicago</th>\n",
       "      <td>17426</td>\n",
       "      <td>Chicago</td>\n",
       "      <td>Cook</td>\n",
       "      <td>3</td>\n",
       "      <td>113575.0</td>\n",
       "      <td>115946.0</td>\n",
       "      <td>117006.0</td>\n",
       "      <td>117450.0</td>\n",
       "      <td>117803.0</td>\n",
       "      <td>117753.0</td>\n",
       "      <td>...</td>\n",
       "      <td>220668</td>\n",
       "      <td>221047</td>\n",
       "      <td>221146</td>\n",
       "      <td>221485</td>\n",
       "      <td>222481</td>\n",
       "      <td>223617</td>\n",
       "      <td>224342</td>\n",
       "      <td>225227</td>\n",
       "      <td>225903</td>\n",
       "      <td>226073</td>\n",
       "    </tr>\n",
       "    <tr>\n",
       "      <th>Texas</th>\n",
       "      <th>Houston</th>\n",
       "      <td>39051</td>\n",
       "      <td>Houston</td>\n",
       "      <td>Harris</td>\n",
       "      <td>4</td>\n",
       "      <td>87135.0</td>\n",
       "      <td>87267.0</td>\n",
       "      <td>86778.0</td>\n",
       "      <td>86544.0</td>\n",
       "      <td>86908.0</td>\n",
       "      <td>87647.0</td>\n",
       "      <td>...</td>\n",
       "      <td>168181</td>\n",
       "      <td>168142</td>\n",
       "      <td>168404</td>\n",
       "      <td>169272</td>\n",
       "      <td>170477</td>\n",
       "      <td>171456</td>\n",
       "      <td>172291</td>\n",
       "      <td>173404</td>\n",
       "      <td>174951</td>\n",
       "      <td>176266</td>\n",
       "    </tr>\n",
       "    <tr>\n",
       "      <th>Pennsylvania</th>\n",
       "      <th>Philadelphia</th>\n",
       "      <td>13271</td>\n",
       "      <td>Philadelphia</td>\n",
       "      <td>Philadelphia</td>\n",
       "      <td>5</td>\n",
       "      <td>48353.0</td>\n",
       "      <td>48292.0</td>\n",
       "      <td>48255.0</td>\n",
       "      <td>48185.0</td>\n",
       "      <td>48063.0</td>\n",
       "      <td>47964.0</td>\n",
       "      <td>...</td>\n",
       "      <td>132469</td>\n",
       "      <td>133558</td>\n",
       "      <td>135184</td>\n",
       "      <td>136701</td>\n",
       "      <td>137999</td>\n",
       "      <td>139512</td>\n",
       "      <td>141134</td>\n",
       "      <td>142819</td>\n",
       "      <td>144311</td>\n",
       "      <td>145291</td>\n",
       "    </tr>\n",
       "  </tbody>\n",
       "</table>\n",
       "<p>5 rows × 268 columns</p>\n",
       "</div>"
      ],
      "text/plain": [
       "                           RegionID                           Metro  \\\n",
       "State        RegionName                                               \n",
       "New York     New York          6181                        New York   \n",
       "California   Los Angeles      12447  Los Angeles-Long Beach-Anaheim   \n",
       "Illinois     Chicago          17426                         Chicago   \n",
       "Texas        Houston          39051                         Houston   \n",
       "Pennsylvania Philadelphia     13271                    Philadelphia   \n",
       "\n",
       "                             CountyName  SizeRank   1996-04   1996-05  \\\n",
       "State        RegionName                                                 \n",
       "New York     New York            Queens         1  169892.0  170502.0   \n",
       "California   Los Angeles    Los Angeles         2  158338.0  157973.0   \n",
       "Illinois     Chicago               Cook         3  113575.0  115946.0   \n",
       "Texas        Houston             Harris         4   87135.0   87267.0   \n",
       "Pennsylvania Philadelphia  Philadelphia         5   48353.0   48292.0   \n",
       "\n",
       "                            1996-06   1996-07   1996-08   1996-09   ...     \\\n",
       "State        RegionName                                             ...      \n",
       "New York     New York      170709.0  170832.0  171053.0  171145.0   ...      \n",
       "California   Los Angeles   157641.0  157425.0  157296.0  157227.0   ...      \n",
       "Illinois     Chicago       117006.0  117450.0  117803.0  117753.0   ...      \n",
       "Texas        Houston        86778.0   86544.0   86908.0   87647.0   ...      \n",
       "Pennsylvania Philadelphia   48255.0   48185.0   48063.0   47964.0   ...      \n",
       "\n",
       "                           2017-06  2017-07  2017-08  2017-09  2017-10  \\\n",
       "State        RegionName                                                  \n",
       "New York     New York       631469   636652   640977   644589   647839   \n",
       "California   Los Angeles    626646   630765   635642   641292   646730   \n",
       "Illinois     Chicago        220668   221047   221146   221485   222481   \n",
       "Texas        Houston        168181   168142   168404   169272   170477   \n",
       "Pennsylvania Philadelphia   132469   133558   135184   136701   137999   \n",
       "\n",
       "                           2017-11  2017-12  2018-01  2018-02  2018-03  \n",
       "State        RegionName                                                 \n",
       "New York     New York       650434   651823   653102   654248   655109  \n",
       "California   Los Angeles    651828   657699   664107   669843   674140  \n",
       "Illinois     Chicago        223617   224342   225227   225903   226073  \n",
       "Texas        Houston        171456   172291   173404   174951   176266  \n",
       "Pennsylvania Philadelphia   139512   141134   142819   144311   145291  \n",
       "\n",
       "[5 rows x 268 columns]"
      ]
     },
     "execution_count": 33,
     "metadata": {},
     "output_type": "execute_result"
    }
   ],
   "source": [
    "data.head()"
   ]
  },
  {
   "cell_type": "code",
   "execution_count": 34,
   "metadata": {
    "collapsed": false
   },
   "outputs": [],
   "source": [
    "# Exclude not necessary columns\n",
    "data = data.loc[:,'2000-01':'2016-09']"
   ]
  },
  {
   "cell_type": "code",
   "execution_count": 35,
   "metadata": {
    "collapsed": false
   },
   "outputs": [
    {
     "data": {
      "text/html": [
       "<div>\n",
       "<table border=\"1\" class=\"dataframe\">\n",
       "  <thead>\n",
       "    <tr style=\"text-align: right;\">\n",
       "      <th></th>\n",
       "      <th></th>\n",
       "      <th>2000-01</th>\n",
       "      <th>2000-02</th>\n",
       "      <th>2000-03</th>\n",
       "      <th>2000-04</th>\n",
       "      <th>2000-05</th>\n",
       "      <th>2000-06</th>\n",
       "      <th>2000-07</th>\n",
       "      <th>2000-08</th>\n",
       "      <th>2000-09</th>\n",
       "      <th>2000-10</th>\n",
       "      <th>...</th>\n",
       "      <th>2015-12</th>\n",
       "      <th>2016-01</th>\n",
       "      <th>2016-02</th>\n",
       "      <th>2016-03</th>\n",
       "      <th>2016-04</th>\n",
       "      <th>2016-05</th>\n",
       "      <th>2016-06</th>\n",
       "      <th>2016-07</th>\n",
       "      <th>2016-08</th>\n",
       "      <th>2016-09</th>\n",
       "    </tr>\n",
       "    <tr>\n",
       "      <th>State</th>\n",
       "      <th>RegionName</th>\n",
       "      <th></th>\n",
       "      <th></th>\n",
       "      <th></th>\n",
       "      <th></th>\n",
       "      <th></th>\n",
       "      <th></th>\n",
       "      <th></th>\n",
       "      <th></th>\n",
       "      <th></th>\n",
       "      <th></th>\n",
       "      <th></th>\n",
       "      <th></th>\n",
       "      <th></th>\n",
       "      <th></th>\n",
       "      <th></th>\n",
       "      <th></th>\n",
       "      <th></th>\n",
       "      <th></th>\n",
       "      <th></th>\n",
       "      <th></th>\n",
       "      <th></th>\n",
       "    </tr>\n",
       "  </thead>\n",
       "  <tbody>\n",
       "    <tr>\n",
       "      <th>New York</th>\n",
       "      <th>New York</th>\n",
       "      <td>219468.0</td>\n",
       "      <td>222128.0</td>\n",
       "      <td>224548.0</td>\n",
       "      <td>227588.0</td>\n",
       "      <td>231200.0</td>\n",
       "      <td>234414.0</td>\n",
       "      <td>237076.0</td>\n",
       "      <td>239615.0</td>\n",
       "      <td>242367.0</td>\n",
       "      <td>245331.0</td>\n",
       "      <td>...</td>\n",
       "      <td>561887</td>\n",
       "      <td>564500</td>\n",
       "      <td>568564</td>\n",
       "      <td>572181</td>\n",
       "      <td>574156</td>\n",
       "      <td>576322</td>\n",
       "      <td>578644</td>\n",
       "      <td>580262</td>\n",
       "      <td>583750</td>\n",
       "      <td>588519</td>\n",
       "    </tr>\n",
       "    <tr>\n",
       "      <th>California</th>\n",
       "      <th>Los Angeles</th>\n",
       "      <td>208745.0</td>\n",
       "      <td>211039.0</td>\n",
       "      <td>213424.0</td>\n",
       "      <td>216089.0</td>\n",
       "      <td>218356.0</td>\n",
       "      <td>220761.0</td>\n",
       "      <td>223175.0</td>\n",
       "      <td>225385.0</td>\n",
       "      <td>227231.0</td>\n",
       "      <td>229185.0</td>\n",
       "      <td>...</td>\n",
       "      <td>556374</td>\n",
       "      <td>561324</td>\n",
       "      <td>565219</td>\n",
       "      <td>568432</td>\n",
       "      <td>571710</td>\n",
       "      <td>575065</td>\n",
       "      <td>578145</td>\n",
       "      <td>581925</td>\n",
       "      <td>586742</td>\n",
       "      <td>592341</td>\n",
       "    </tr>\n",
       "    <tr>\n",
       "      <th>Illinois</th>\n",
       "      <th>Chicago</th>\n",
       "      <td>142568.0</td>\n",
       "      <td>144405.0</td>\n",
       "      <td>146216.0</td>\n",
       "      <td>148150.0</td>\n",
       "      <td>150047.0</td>\n",
       "      <td>151942.0</td>\n",
       "      <td>153771.0</td>\n",
       "      <td>155827.0</td>\n",
       "      <td>158197.0</td>\n",
       "      <td>160220.0</td>\n",
       "      <td>...</td>\n",
       "      <td>203656</td>\n",
       "      <td>204410</td>\n",
       "      <td>205432</td>\n",
       "      <td>206697</td>\n",
       "      <td>208273</td>\n",
       "      <td>209616</td>\n",
       "      <td>210643</td>\n",
       "      <td>211614</td>\n",
       "      <td>213095</td>\n",
       "      <td>214128</td>\n",
       "    </tr>\n",
       "    <tr>\n",
       "      <th>Texas</th>\n",
       "      <th>Houston</th>\n",
       "      <td>105952.0</td>\n",
       "      <td>106664.0</td>\n",
       "      <td>107191.0</td>\n",
       "      <td>106876.0</td>\n",
       "      <td>106263.0</td>\n",
       "      <td>105988.0</td>\n",
       "      <td>106020.0</td>\n",
       "      <td>106172.0</td>\n",
       "      <td>106218.0</td>\n",
       "      <td>106426.0</td>\n",
       "      <td>...</td>\n",
       "      <td>145426</td>\n",
       "      <td>146828</td>\n",
       "      <td>147989</td>\n",
       "      <td>148924</td>\n",
       "      <td>149939</td>\n",
       "      <td>151398</td>\n",
       "      <td>152892</td>\n",
       "      <td>154434</td>\n",
       "      <td>156000</td>\n",
       "      <td>157410</td>\n",
       "    </tr>\n",
       "    <tr>\n",
       "      <th>Pennsylvania</th>\n",
       "      <th>Philadelphia</th>\n",
       "      <td>51365.0</td>\n",
       "      <td>51657.0</td>\n",
       "      <td>51943.0</td>\n",
       "      <td>52325.0</td>\n",
       "      <td>52800.0</td>\n",
       "      <td>53168.0</td>\n",
       "      <td>53397.0</td>\n",
       "      <td>53616.0</td>\n",
       "      <td>53908.0</td>\n",
       "      <td>54160.0</td>\n",
       "      <td>...</td>\n",
       "      <td>108793</td>\n",
       "      <td>108936</td>\n",
       "      <td>109527</td>\n",
       "      <td>110507</td>\n",
       "      <td>111535</td>\n",
       "      <td>112724</td>\n",
       "      <td>114382</td>\n",
       "      <td>116167</td>\n",
       "      <td>117858</td>\n",
       "      <td>119298</td>\n",
       "    </tr>\n",
       "  </tbody>\n",
       "</table>\n",
       "<p>5 rows × 201 columns</p>\n",
       "</div>"
      ],
      "text/plain": [
       "                            2000-01   2000-02   2000-03   2000-04   2000-05  \\\n",
       "State        RegionName                                                       \n",
       "New York     New York      219468.0  222128.0  224548.0  227588.0  231200.0   \n",
       "California   Los Angeles   208745.0  211039.0  213424.0  216089.0  218356.0   \n",
       "Illinois     Chicago       142568.0  144405.0  146216.0  148150.0  150047.0   \n",
       "Texas        Houston       105952.0  106664.0  107191.0  106876.0  106263.0   \n",
       "Pennsylvania Philadelphia   51365.0   51657.0   51943.0   52325.0   52800.0   \n",
       "\n",
       "                            2000-06   2000-07   2000-08   2000-09   2000-10  \\\n",
       "State        RegionName                                                       \n",
       "New York     New York      234414.0  237076.0  239615.0  242367.0  245331.0   \n",
       "California   Los Angeles   220761.0  223175.0  225385.0  227231.0  229185.0   \n",
       "Illinois     Chicago       151942.0  153771.0  155827.0  158197.0  160220.0   \n",
       "Texas        Houston       105988.0  106020.0  106172.0  106218.0  106426.0   \n",
       "Pennsylvania Philadelphia   53168.0   53397.0   53616.0   53908.0   54160.0   \n",
       "\n",
       "                            ...     2015-12  2016-01  2016-02  2016-03  \\\n",
       "State        RegionName     ...                                          \n",
       "New York     New York       ...      561887   564500   568564   572181   \n",
       "California   Los Angeles    ...      556374   561324   565219   568432   \n",
       "Illinois     Chicago        ...      203656   204410   205432   206697   \n",
       "Texas        Houston        ...      145426   146828   147989   148924   \n",
       "Pennsylvania Philadelphia   ...      108793   108936   109527   110507   \n",
       "\n",
       "                           2016-04  2016-05  2016-06  2016-07  2016-08  \\\n",
       "State        RegionName                                                  \n",
       "New York     New York       574156   576322   578644   580262   583750   \n",
       "California   Los Angeles    571710   575065   578145   581925   586742   \n",
       "Illinois     Chicago        208273   209616   210643   211614   213095   \n",
       "Texas        Houston        149939   151398   152892   154434   156000   \n",
       "Pennsylvania Philadelphia   111535   112724   114382   116167   117858   \n",
       "\n",
       "                           2016-09  \n",
       "State        RegionName             \n",
       "New York     New York       588519  \n",
       "California   Los Angeles    592341  \n",
       "Illinois     Chicago        214128  \n",
       "Texas        Houston        157410  \n",
       "Pennsylvania Philadelphia   119298  \n",
       "\n",
       "[5 rows x 201 columns]"
      ]
     },
     "execution_count": 35,
     "metadata": {},
     "output_type": "execute_result"
    }
   ],
   "source": [
    "data.head()"
   ]
  },
  {
   "cell_type": "code",
   "execution_count": 36,
   "metadata": {
    "collapsed": false
   },
   "outputs": [],
   "source": [
    "# convert column index to datetime and to the format with quarter\n",
    "data.columns = data.columns.to_datetime()\n",
    "data.columns = data.columns.to_period(\"Q\")"
   ]
  },
  {
   "cell_type": "code",
   "execution_count": 37,
   "metadata": {
    "collapsed": false
   },
   "outputs": [
    {
     "data": {
      "text/html": [
       "<div>\n",
       "<table border=\"1\" class=\"dataframe\">\n",
       "  <thead>\n",
       "    <tr style=\"text-align: right;\">\n",
       "      <th></th>\n",
       "      <th></th>\n",
       "      <th>2000Q1</th>\n",
       "      <th>2000Q1</th>\n",
       "      <th>2000Q1</th>\n",
       "      <th>2000Q2</th>\n",
       "      <th>2000Q2</th>\n",
       "      <th>2000Q2</th>\n",
       "      <th>2000Q3</th>\n",
       "      <th>2000Q3</th>\n",
       "      <th>2000Q3</th>\n",
       "      <th>2000Q4</th>\n",
       "      <th>...</th>\n",
       "      <th>2015Q4</th>\n",
       "      <th>2016Q1</th>\n",
       "      <th>2016Q1</th>\n",
       "      <th>2016Q1</th>\n",
       "      <th>2016Q2</th>\n",
       "      <th>2016Q2</th>\n",
       "      <th>2016Q2</th>\n",
       "      <th>2016Q3</th>\n",
       "      <th>2016Q3</th>\n",
       "      <th>2016Q3</th>\n",
       "    </tr>\n",
       "    <tr>\n",
       "      <th>State</th>\n",
       "      <th>RegionName</th>\n",
       "      <th></th>\n",
       "      <th></th>\n",
       "      <th></th>\n",
       "      <th></th>\n",
       "      <th></th>\n",
       "      <th></th>\n",
       "      <th></th>\n",
       "      <th></th>\n",
       "      <th></th>\n",
       "      <th></th>\n",
       "      <th></th>\n",
       "      <th></th>\n",
       "      <th></th>\n",
       "      <th></th>\n",
       "      <th></th>\n",
       "      <th></th>\n",
       "      <th></th>\n",
       "      <th></th>\n",
       "      <th></th>\n",
       "      <th></th>\n",
       "      <th></th>\n",
       "    </tr>\n",
       "  </thead>\n",
       "  <tbody>\n",
       "    <tr>\n",
       "      <th>New York</th>\n",
       "      <th>New York</th>\n",
       "      <td>219468.0</td>\n",
       "      <td>222128.0</td>\n",
       "      <td>224548.0</td>\n",
       "      <td>227588.0</td>\n",
       "      <td>231200.0</td>\n",
       "      <td>234414.0</td>\n",
       "      <td>237076.0</td>\n",
       "      <td>239615.0</td>\n",
       "      <td>242367.0</td>\n",
       "      <td>245331.0</td>\n",
       "      <td>...</td>\n",
       "      <td>561887</td>\n",
       "      <td>564500</td>\n",
       "      <td>568564</td>\n",
       "      <td>572181</td>\n",
       "      <td>574156</td>\n",
       "      <td>576322</td>\n",
       "      <td>578644</td>\n",
       "      <td>580262</td>\n",
       "      <td>583750</td>\n",
       "      <td>588519</td>\n",
       "    </tr>\n",
       "    <tr>\n",
       "      <th>California</th>\n",
       "      <th>Los Angeles</th>\n",
       "      <td>208745.0</td>\n",
       "      <td>211039.0</td>\n",
       "      <td>213424.0</td>\n",
       "      <td>216089.0</td>\n",
       "      <td>218356.0</td>\n",
       "      <td>220761.0</td>\n",
       "      <td>223175.0</td>\n",
       "      <td>225385.0</td>\n",
       "      <td>227231.0</td>\n",
       "      <td>229185.0</td>\n",
       "      <td>...</td>\n",
       "      <td>556374</td>\n",
       "      <td>561324</td>\n",
       "      <td>565219</td>\n",
       "      <td>568432</td>\n",
       "      <td>571710</td>\n",
       "      <td>575065</td>\n",
       "      <td>578145</td>\n",
       "      <td>581925</td>\n",
       "      <td>586742</td>\n",
       "      <td>592341</td>\n",
       "    </tr>\n",
       "    <tr>\n",
       "      <th>Illinois</th>\n",
       "      <th>Chicago</th>\n",
       "      <td>142568.0</td>\n",
       "      <td>144405.0</td>\n",
       "      <td>146216.0</td>\n",
       "      <td>148150.0</td>\n",
       "      <td>150047.0</td>\n",
       "      <td>151942.0</td>\n",
       "      <td>153771.0</td>\n",
       "      <td>155827.0</td>\n",
       "      <td>158197.0</td>\n",
       "      <td>160220.0</td>\n",
       "      <td>...</td>\n",
       "      <td>203656</td>\n",
       "      <td>204410</td>\n",
       "      <td>205432</td>\n",
       "      <td>206697</td>\n",
       "      <td>208273</td>\n",
       "      <td>209616</td>\n",
       "      <td>210643</td>\n",
       "      <td>211614</td>\n",
       "      <td>213095</td>\n",
       "      <td>214128</td>\n",
       "    </tr>\n",
       "    <tr>\n",
       "      <th>Texas</th>\n",
       "      <th>Houston</th>\n",
       "      <td>105952.0</td>\n",
       "      <td>106664.0</td>\n",
       "      <td>107191.0</td>\n",
       "      <td>106876.0</td>\n",
       "      <td>106263.0</td>\n",
       "      <td>105988.0</td>\n",
       "      <td>106020.0</td>\n",
       "      <td>106172.0</td>\n",
       "      <td>106218.0</td>\n",
       "      <td>106426.0</td>\n",
       "      <td>...</td>\n",
       "      <td>145426</td>\n",
       "      <td>146828</td>\n",
       "      <td>147989</td>\n",
       "      <td>148924</td>\n",
       "      <td>149939</td>\n",
       "      <td>151398</td>\n",
       "      <td>152892</td>\n",
       "      <td>154434</td>\n",
       "      <td>156000</td>\n",
       "      <td>157410</td>\n",
       "    </tr>\n",
       "    <tr>\n",
       "      <th>Pennsylvania</th>\n",
       "      <th>Philadelphia</th>\n",
       "      <td>51365.0</td>\n",
       "      <td>51657.0</td>\n",
       "      <td>51943.0</td>\n",
       "      <td>52325.0</td>\n",
       "      <td>52800.0</td>\n",
       "      <td>53168.0</td>\n",
       "      <td>53397.0</td>\n",
       "      <td>53616.0</td>\n",
       "      <td>53908.0</td>\n",
       "      <td>54160.0</td>\n",
       "      <td>...</td>\n",
       "      <td>108793</td>\n",
       "      <td>108936</td>\n",
       "      <td>109527</td>\n",
       "      <td>110507</td>\n",
       "      <td>111535</td>\n",
       "      <td>112724</td>\n",
       "      <td>114382</td>\n",
       "      <td>116167</td>\n",
       "      <td>117858</td>\n",
       "      <td>119298</td>\n",
       "    </tr>\n",
       "  </tbody>\n",
       "</table>\n",
       "<p>5 rows × 201 columns</p>\n",
       "</div>"
      ],
      "text/plain": [
       "                             2000Q1    2000Q1    2000Q1    2000Q2    2000Q2  \\\n",
       "State        RegionName                                                       \n",
       "New York     New York      219468.0  222128.0  224548.0  227588.0  231200.0   \n",
       "California   Los Angeles   208745.0  211039.0  213424.0  216089.0  218356.0   \n",
       "Illinois     Chicago       142568.0  144405.0  146216.0  148150.0  150047.0   \n",
       "Texas        Houston       105952.0  106664.0  107191.0  106876.0  106263.0   \n",
       "Pennsylvania Philadelphia   51365.0   51657.0   51943.0   52325.0   52800.0   \n",
       "\n",
       "                             2000Q2    2000Q3    2000Q3    2000Q3    2000Q4  \\\n",
       "State        RegionName                                                       \n",
       "New York     New York      234414.0  237076.0  239615.0  242367.0  245331.0   \n",
       "California   Los Angeles   220761.0  223175.0  225385.0  227231.0  229185.0   \n",
       "Illinois     Chicago       151942.0  153771.0  155827.0  158197.0  160220.0   \n",
       "Texas        Houston       105988.0  106020.0  106172.0  106218.0  106426.0   \n",
       "Pennsylvania Philadelphia   53168.0   53397.0   53616.0   53908.0   54160.0   \n",
       "\n",
       "                            ...    2015Q4  2016Q1  2016Q1  2016Q1  2016Q2  \\\n",
       "State        RegionName     ...                                             \n",
       "New York     New York       ...    561887  564500  568564  572181  574156   \n",
       "California   Los Angeles    ...    556374  561324  565219  568432  571710   \n",
       "Illinois     Chicago        ...    203656  204410  205432  206697  208273   \n",
       "Texas        Houston        ...    145426  146828  147989  148924  149939   \n",
       "Pennsylvania Philadelphia   ...    108793  108936  109527  110507  111535   \n",
       "\n",
       "                           2016Q2  2016Q2  2016Q3  2016Q3  2016Q3  \n",
       "State        RegionName                                            \n",
       "New York     New York      576322  578644  580262  583750  588519  \n",
       "California   Los Angeles   575065  578145  581925  586742  592341  \n",
       "Illinois     Chicago       209616  210643  211614  213095  214128  \n",
       "Texas        Houston       151398  152892  154434  156000  157410  \n",
       "Pennsylvania Philadelphia  112724  114382  116167  117858  119298  \n",
       "\n",
       "[5 rows x 201 columns]"
      ]
     },
     "execution_count": 37,
     "metadata": {},
     "output_type": "execute_result"
    }
   ],
   "source": [
    "data.head()"
   ]
  },
  {
   "cell_type": "code",
   "execution_count": 38,
   "metadata": {
    "collapsed": false
   },
   "outputs": [],
   "source": [
    "a=data.columns\n",
    "data.columns = a.strftime('%FQ%q')"
   ]
  },
  {
   "cell_type": "code",
   "execution_count": 39,
   "metadata": {
    "collapsed": false
   },
   "outputs": [],
   "source": [
    "# Group data by column names\n",
    "housing = data.groupby(data.columns, axis = 1).mean()\n",
    "# format a numbers with two digits after comma\n",
    "housing = housing.applymap(\"{0:.2f}\".format)"
   ]
  },
  {
   "cell_type": "code",
   "execution_count": 40,
   "metadata": {
    "collapsed": false
   },
   "outputs": [],
   "source": [
    "housing = housing.astype(float)"
   ]
  },
  {
   "cell_type": "code",
   "execution_count": 41,
   "metadata": {
    "collapsed": false
   },
   "outputs": [
    {
     "data": {
      "text/html": [
       "<div>\n",
       "<table border=\"1\" class=\"dataframe\">\n",
       "  <thead>\n",
       "    <tr style=\"text-align: right;\">\n",
       "      <th></th>\n",
       "      <th></th>\n",
       "      <th>2000Q1</th>\n",
       "      <th>2000Q2</th>\n",
       "      <th>2000Q3</th>\n",
       "      <th>2000Q4</th>\n",
       "      <th>2001Q1</th>\n",
       "      <th>2001Q2</th>\n",
       "      <th>2001Q3</th>\n",
       "      <th>2001Q4</th>\n",
       "      <th>2002Q1</th>\n",
       "      <th>2002Q2</th>\n",
       "      <th>...</th>\n",
       "      <th>2014Q2</th>\n",
       "      <th>2014Q3</th>\n",
       "      <th>2014Q4</th>\n",
       "      <th>2015Q1</th>\n",
       "      <th>2015Q2</th>\n",
       "      <th>2015Q3</th>\n",
       "      <th>2015Q4</th>\n",
       "      <th>2016Q1</th>\n",
       "      <th>2016Q2</th>\n",
       "      <th>2016Q3</th>\n",
       "    </tr>\n",
       "    <tr>\n",
       "      <th>State</th>\n",
       "      <th>RegionName</th>\n",
       "      <th></th>\n",
       "      <th></th>\n",
       "      <th></th>\n",
       "      <th></th>\n",
       "      <th></th>\n",
       "      <th></th>\n",
       "      <th></th>\n",
       "      <th></th>\n",
       "      <th></th>\n",
       "      <th></th>\n",
       "      <th></th>\n",
       "      <th></th>\n",
       "      <th></th>\n",
       "      <th></th>\n",
       "      <th></th>\n",
       "      <th></th>\n",
       "      <th></th>\n",
       "      <th></th>\n",
       "      <th></th>\n",
       "      <th></th>\n",
       "      <th></th>\n",
       "    </tr>\n",
       "  </thead>\n",
       "  <tbody>\n",
       "    <tr>\n",
       "      <th>New York</th>\n",
       "      <th>New York</th>\n",
       "      <td>222048.00</td>\n",
       "      <td>231067.33</td>\n",
       "      <td>239686.00</td>\n",
       "      <td>248334.00</td>\n",
       "      <td>257128.33</td>\n",
       "      <td>266202.00</td>\n",
       "      <td>274140.33</td>\n",
       "      <td>282633.00</td>\n",
       "      <td>288250.67</td>\n",
       "      <td>282882.33</td>\n",
       "      <td>...</td>\n",
       "      <td>504578.67</td>\n",
       "      <td>514086.67</td>\n",
       "      <td>522221.00</td>\n",
       "      <td>530637.67</td>\n",
       "      <td>540241.00</td>\n",
       "      <td>550108.33</td>\n",
       "      <td>559214.67</td>\n",
       "      <td>568415.00</td>\n",
       "      <td>576374.00</td>\n",
       "      <td>584177.00</td>\n",
       "    </tr>\n",
       "    <tr>\n",
       "      <th>California</th>\n",
       "      <th>Los Angeles</th>\n",
       "      <td>211069.33</td>\n",
       "      <td>218402.00</td>\n",
       "      <td>225263.67</td>\n",
       "      <td>231445.33</td>\n",
       "      <td>238111.33</td>\n",
       "      <td>245102.67</td>\n",
       "      <td>252395.67</td>\n",
       "      <td>260720.67</td>\n",
       "      <td>270764.33</td>\n",
       "      <td>282815.33</td>\n",
       "      <td>...</td>\n",
       "      <td>490171.33</td>\n",
       "      <td>502080.33</td>\n",
       "      <td>509342.00</td>\n",
       "      <td>520398.67</td>\n",
       "      <td>532149.00</td>\n",
       "      <td>540818.67</td>\n",
       "      <td>552514.33</td>\n",
       "      <td>564991.67</td>\n",
       "      <td>574973.33</td>\n",
       "      <td>587002.67</td>\n",
       "    </tr>\n",
       "    <tr>\n",
       "      <th>Illinois</th>\n",
       "      <th>Chicago</th>\n",
       "      <td>144396.33</td>\n",
       "      <td>150046.33</td>\n",
       "      <td>155931.67</td>\n",
       "      <td>161776.67</td>\n",
       "      <td>166541.67</td>\n",
       "      <td>168864.33</td>\n",
       "      <td>173347.00</td>\n",
       "      <td>179546.00</td>\n",
       "      <td>184872.33</td>\n",
       "      <td>189735.00</td>\n",
       "      <td>...</td>\n",
       "      <td>184661.67</td>\n",
       "      <td>187220.00</td>\n",
       "      <td>190557.67</td>\n",
       "      <td>193443.33</td>\n",
       "      <td>198347.67</td>\n",
       "      <td>200033.67</td>\n",
       "      <td>202756.33</td>\n",
       "      <td>205513.00</td>\n",
       "      <td>209510.67</td>\n",
       "      <td>212945.67</td>\n",
       "    </tr>\n",
       "    <tr>\n",
       "      <th>Texas</th>\n",
       "      <th>Houston</th>\n",
       "      <td>106602.33</td>\n",
       "      <td>106375.67</td>\n",
       "      <td>106136.67</td>\n",
       "      <td>106816.00</td>\n",
       "      <td>106766.67</td>\n",
       "      <td>107097.33</td>\n",
       "      <td>108194.67</td>\n",
       "      <td>109738.67</td>\n",
       "      <td>110623.33</td>\n",
       "      <td>111215.33</td>\n",
       "      <td>...</td>\n",
       "      <td>126781.67</td>\n",
       "      <td>129350.67</td>\n",
       "      <td>132421.67</td>\n",
       "      <td>135431.33</td>\n",
       "      <td>139072.00</td>\n",
       "      <td>141771.33</td>\n",
       "      <td>144408.67</td>\n",
       "      <td>147913.67</td>\n",
       "      <td>151409.67</td>\n",
       "      <td>155948.00</td>\n",
       "    </tr>\n",
       "    <tr>\n",
       "      <th>Pennsylvania</th>\n",
       "      <th>Philadelphia</th>\n",
       "      <td>51655.00</td>\n",
       "      <td>52764.33</td>\n",
       "      <td>53640.33</td>\n",
       "      <td>54395.33</td>\n",
       "      <td>55100.33</td>\n",
       "      <td>55999.33</td>\n",
       "      <td>56512.33</td>\n",
       "      <td>57636.33</td>\n",
       "      <td>59343.67</td>\n",
       "      <td>61024.67</td>\n",
       "      <td>...</td>\n",
       "      <td>102280.00</td>\n",
       "      <td>103385.67</td>\n",
       "      <td>104821.00</td>\n",
       "      <td>105649.67</td>\n",
       "      <td>107148.00</td>\n",
       "      <td>108451.33</td>\n",
       "      <td>108780.67</td>\n",
       "      <td>109656.67</td>\n",
       "      <td>112880.33</td>\n",
       "      <td>117774.33</td>\n",
       "    </tr>\n",
       "  </tbody>\n",
       "</table>\n",
       "<p>5 rows × 67 columns</p>\n",
       "</div>"
      ],
      "text/plain": [
       "                              2000Q1     2000Q2     2000Q3     2000Q4  \\\n",
       "State        RegionName                                                 \n",
       "New York     New York      222048.00  231067.33  239686.00  248334.00   \n",
       "California   Los Angeles   211069.33  218402.00  225263.67  231445.33   \n",
       "Illinois     Chicago       144396.33  150046.33  155931.67  161776.67   \n",
       "Texas        Houston       106602.33  106375.67  106136.67  106816.00   \n",
       "Pennsylvania Philadelphia   51655.00   52764.33   53640.33   54395.33   \n",
       "\n",
       "                              2001Q1     2001Q2     2001Q3     2001Q4  \\\n",
       "State        RegionName                                                 \n",
       "New York     New York      257128.33  266202.00  274140.33  282633.00   \n",
       "California   Los Angeles   238111.33  245102.67  252395.67  260720.67   \n",
       "Illinois     Chicago       166541.67  168864.33  173347.00  179546.00   \n",
       "Texas        Houston       106766.67  107097.33  108194.67  109738.67   \n",
       "Pennsylvania Philadelphia   55100.33   55999.33   56512.33   57636.33   \n",
       "\n",
       "                              2002Q1     2002Q2    ...         2014Q2  \\\n",
       "State        RegionName                            ...                  \n",
       "New York     New York      288250.67  282882.33    ...      504578.67   \n",
       "California   Los Angeles   270764.33  282815.33    ...      490171.33   \n",
       "Illinois     Chicago       184872.33  189735.00    ...      184661.67   \n",
       "Texas        Houston       110623.33  111215.33    ...      126781.67   \n",
       "Pennsylvania Philadelphia   59343.67   61024.67    ...      102280.00   \n",
       "\n",
       "                              2014Q3     2014Q4     2015Q1     2015Q2  \\\n",
       "State        RegionName                                                 \n",
       "New York     New York      514086.67  522221.00  530637.67  540241.00   \n",
       "California   Los Angeles   502080.33  509342.00  520398.67  532149.00   \n",
       "Illinois     Chicago       187220.00  190557.67  193443.33  198347.67   \n",
       "Texas        Houston       129350.67  132421.67  135431.33  139072.00   \n",
       "Pennsylvania Philadelphia  103385.67  104821.00  105649.67  107148.00   \n",
       "\n",
       "                              2015Q3     2015Q4     2016Q1     2016Q2  \\\n",
       "State        RegionName                                                 \n",
       "New York     New York      550108.33  559214.67  568415.00  576374.00   \n",
       "California   Los Angeles   540818.67  552514.33  564991.67  574973.33   \n",
       "Illinois     Chicago       200033.67  202756.33  205513.00  209510.67   \n",
       "Texas        Houston       141771.33  144408.67  147913.67  151409.67   \n",
       "Pennsylvania Philadelphia  108451.33  108780.67  109656.67  112880.33   \n",
       "\n",
       "                              2016Q3  \n",
       "State        RegionName               \n",
       "New York     New York      584177.00  \n",
       "California   Los Angeles   587002.67  \n",
       "Illinois     Chicago       212945.67  \n",
       "Texas        Houston       155948.00  \n",
       "Pennsylvania Philadelphia  117774.33  \n",
       "\n",
       "[5 rows x 67 columns]"
      ]
     },
     "execution_count": 41,
     "metadata": {},
     "output_type": "execute_result"
    }
   ],
   "source": [
    "housing.head()"
   ]
  },
  {
   "cell_type": "code",
   "execution_count": 42,
   "metadata": {
    "collapsed": false
   },
   "outputs": [
    {
     "data": {
      "text/plain": [
       "(12454, 67)"
      ]
     },
     "execution_count": 42,
     "metadata": {},
     "output_type": "execute_result"
    }
   ],
   "source": [
    "housing.shape"
   ]
  },
  {
   "cell_type": "code",
   "execution_count": 43,
   "metadata": {
    "collapsed": true
   },
   "outputs": [],
   "source": [
    "def run_ttest():\n",
    "    '''First creates new data showing the decline or growth of housing prices\n",
    "    between the recession start and the recession bottom. Then runs a ttest\n",
    "    comparing the university town values to the non-university towns values, \n",
    "    return whether the alternative hypothesis (that the two groups are the same)\n",
    "    is true or not as well as the p-value of the confidence. \n",
    "    \n",
    "    Return the tuple (different, p, better) where different=True if the t-test is\n",
    "    True at a p<0.01 (we reject the null hypothesis), or different=False if \n",
    "    otherwise (we cannot reject the null hypothesis). The variable p should\n",
    "    be equal to the exact p value returned from scipy.stats.ttest_ind(). The\n",
    "    value for better should be either \"university town\" or \"non-university town\"\n",
    "    depending on which has a lower mean price ratio (which is equivilent to a\n",
    "    reduced market loss).'''\n",
    "    # we will use only period 2000 - nowdays \n",
    "    start = get_recession_start()[-1]\n",
    "    bot = get_recession_bottom()[-1]\n",
    "    housing = convert_housing_data_to_quarters()\n",
    "    housing=housing.reset_index()\n",
    "    housing['ratio'] = housing[start]/housing[bot]\n",
    "    housing = housing.dropna()\n",
    "    housing.reset_index(inplace=True)\n",
    "    all_towns = housing[['State','RegionName', 'ratio']]\n",
    "    univ = get_list_of_university_towns()\n",
    "    univ = pd.merge(all_towns, univ, how = 'inner', on = ['State','RegionName'])\n",
    "    non_univ = all_towns[~all_towns.index.isin(univ[['State','RegionName']])]\n",
    "    # Testing the hypotheses\n",
    "    t_stat, p_value = ttest_ind(univ[\"ratio\"], non_univ[\"ratio\"])\n",
    "    if p_value < 0.01:\n",
    "        different = True\n",
    "    else:\n",
    "        different = False\n",
    "    if t_stat < 0:\n",
    "        better = \"university town\"\n",
    "    else:\n",
    "        better = \"non-university town\"\n",
    "    return (different, p_value, better)"
   ]
  },
  {
   "cell_type": "code",
   "execution_count": 44,
   "metadata": {
    "collapsed": false
   },
   "outputs": [
    {
     "data": {
      "text/plain": [
       "(True, 0.0013918403391123798, 'university town')"
      ]
     },
     "execution_count": 44,
     "metadata": {},
     "output_type": "execute_result"
    }
   ],
   "source": [
    "run_ttest()"
   ]
  },
  {
   "cell_type": "markdown",
   "metadata": {},
   "source": [
    "### Additional Materials"
   ]
  },
  {
   "cell_type": "code",
   "execution_count": 45,
   "metadata": {
    "collapsed": false
   },
   "outputs": [],
   "source": [
    "# we will use only period 2000 - nowdays \n",
    "start = get_recession_start()[-1]\n",
    "bot = get_recession_bottom()[-1]"
   ]
  },
  {
   "cell_type": "code",
   "execution_count": 46,
   "metadata": {
    "collapsed": false
   },
   "outputs": [
    {
     "data": {
      "text/plain": [
       "('2008Q3', '2009Q2')"
      ]
     },
     "execution_count": 46,
     "metadata": {},
     "output_type": "execute_result"
    }
   ],
   "source": [
    "start, bot"
   ]
  },
  {
   "cell_type": "code",
   "execution_count": 47,
   "metadata": {
    "collapsed": false
   },
   "outputs": [],
   "source": [
    "housing = convert_housing_data_to_quarters()"
   ]
  },
  {
   "cell_type": "code",
   "execution_count": 48,
   "metadata": {
    "collapsed": false
   },
   "outputs": [],
   "source": [
    "housing=housing.reset_index()"
   ]
  },
  {
   "cell_type": "code",
   "execution_count": 49,
   "metadata": {
    "collapsed": false
   },
   "outputs": [],
   "source": [
    "housing['ratio'] = housing[start]/housing[bot]\n",
    "housing.reset_index(inplace=True)\n",
    "housing = housing.dropna()"
   ]
  },
  {
   "cell_type": "code",
   "execution_count": 50,
   "metadata": {
    "collapsed": false
   },
   "outputs": [],
   "source": [
    "all_towns = housing[['State','RegionName', 'ratio']].copy()"
   ]
  },
  {
   "cell_type": "code",
   "execution_count": 51,
   "metadata": {
    "collapsed": false
   },
   "outputs": [],
   "source": [
    "univ = get_list_of_university_towns()"
   ]
  },
  {
   "cell_type": "code",
   "execution_count": 52,
   "metadata": {
    "collapsed": false
   },
   "outputs": [],
   "source": [
    "univ = pd.merge(all_towns, univ, how = 'inner', on = ['State','RegionName'])"
   ]
  },
  {
   "cell_type": "code",
   "execution_count": 53,
   "metadata": {
    "collapsed": false
   },
   "outputs": [],
   "source": [
    "non_univ = all_towns[~all_towns.index.isin(univ[['State','RegionName']])]"
   ]
  },
  {
   "cell_type": "code",
   "execution_count": 54,
   "metadata": {
    "collapsed": false
   },
   "outputs": [],
   "source": [
    "# Testing the hypotheses\n",
    "t_stat, p_value = ttest_ind(univ[\"ratio\"], non_univ[\"ratio\"])"
   ]
  },
  {
   "cell_type": "code",
   "execution_count": 55,
   "metadata": {
    "collapsed": false
   },
   "outputs": [
    {
     "name": "stdout",
     "output_type": "stream",
     "text": [
      "True 0.00139184033911 university town\n"
     ]
    }
   ],
   "source": [
    "if p_value < 0.01:\n",
    "    different = True\n",
    "else:\n",
    "    different = False\n",
    "if t_stat < 0:\n",
    "    better = \"university town\"\n",
    "else:\n",
    "    better = \"non-university town\"\n",
    "print(different, p_value, better)"
   ]
  },
  {
   "cell_type": "code",
   "execution_count": 56,
   "metadata": {
    "collapsed": false
   },
   "outputs": [
    {
     "data": {
      "text/html": [
       "<div>\n",
       "<table border=\"1\" class=\"dataframe\">\n",
       "  <thead>\n",
       "    <tr style=\"text-align: right;\">\n",
       "      <th></th>\n",
       "      <th>State</th>\n",
       "      <th>RegionName</th>\n",
       "      <th>ratio</th>\n",
       "    </tr>\n",
       "  </thead>\n",
       "  <tbody>\n",
       "    <tr>\n",
       "      <th>0</th>\n",
       "      <td>Texas</td>\n",
       "      <td>Houston</td>\n",
       "      <td>1.026455</td>\n",
       "    </tr>\n",
       "    <tr>\n",
       "      <th>1</th>\n",
       "      <td>Nevada</td>\n",
       "      <td>Las Vegas</td>\n",
       "      <td>1.303172</td>\n",
       "    </tr>\n",
       "    <tr>\n",
       "      <th>2</th>\n",
       "      <td>California</td>\n",
       "      <td>San Diego</td>\n",
       "      <td>1.037667</td>\n",
       "    </tr>\n",
       "    <tr>\n",
       "      <th>3</th>\n",
       "      <td>Texas</td>\n",
       "      <td>Austin</td>\n",
       "      <td>1.024922</td>\n",
       "    </tr>\n",
       "    <tr>\n",
       "      <th>4</th>\n",
       "      <td>Texas</td>\n",
       "      <td>Fort Worth</td>\n",
       "      <td>1.020863</td>\n",
       "    </tr>\n",
       "  </tbody>\n",
       "</table>\n",
       "</div>"
      ],
      "text/plain": [
       "        State  RegionName     ratio\n",
       "0       Texas     Houston  1.026455\n",
       "1      Nevada   Las Vegas  1.303172\n",
       "2  California   San Diego  1.037667\n",
       "3       Texas      Austin  1.024922\n",
       "4       Texas  Fort Worth  1.020863"
      ]
     },
     "execution_count": 56,
     "metadata": {},
     "output_type": "execute_result"
    }
   ],
   "source": [
    "univ.head()"
   ]
  }
 ],
 "metadata": {
  "kernelspec": {
   "display_name": "Python 3",
   "language": "python",
   "name": "python3"
  },
  "language_info": {
   "codemirror_mode": {
    "name": "ipython",
    "version": 3
   },
   "file_extension": ".py",
   "mimetype": "text/x-python",
   "name": "python",
   "nbconvert_exporter": "python",
   "pygments_lexer": "ipython3",
   "version": "3.5.1"
  }
 },
 "nbformat": 4,
 "nbformat_minor": 0
}
